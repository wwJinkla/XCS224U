{
 "cells": [
  {
   "cell_type": "markdown",
   "metadata": {},
   "source": [
    "# Homework and bake-off: word-level entailment with neural networks"
   ]
  },
  {
   "cell_type": "code",
   "execution_count": 1,
   "metadata": {},
   "outputs": [],
   "source": [
    "__author__ = \"Christopher Potts\"\n",
    "__version__ = \"CS224u, Stanford, Fall 2020\""
   ]
  },
  {
   "cell_type": "markdown",
   "metadata": {},
   "source": [
    "## Contents\n",
    "\n",
    "1. [Overview](#Overview)\n",
    "1. [Set-up](#Set-up)\n",
    "1. [Data](#Data)\n",
    "1. [Baseline](#Baseline)\n",
    "  1. [Representing words: vector_func](#Representing-words:-vector_func)\n",
    "  1. [Combining words into inputs: vector_combo_func](#Combining-words-into-inputs:-vector_combo_func)\n",
    "  1. [Classifier model](#Classifier-model)\n",
    "  1. [Baseline results](#Baseline-results)\n",
    "1. [Homework questions](#Homework-questions)\n",
    "  1. [Hypothesis-only baseline [2 points]](#Hypothesis-only-baseline-[2-points])\n",
    "  1. [Alternatives to concatenation [2 points]](#Alternatives-to-concatenation-[2-points])\n",
    "  1. [A deeper network [2 points]](#A-deeper-network-[2-points])\n",
    "  1. [Your original system [3 points]](#Your-original-system-[3-points])\n",
    "1. [Bake-off [1 point]](#Bake-off-[1-point])"
   ]
  },
  {
   "cell_type": "markdown",
   "metadata": {},
   "source": [
    "## Overview"
   ]
  },
  {
   "cell_type": "markdown",
   "metadata": {},
   "source": [
    "The general problem is word-level natural language inference. Training examples are pairs of words $(w_{L}, w_{R}), y$ with $y = 1$ if $w_{L}$ entails $w_{R}$, otherwise $0$.\n",
    "\n",
    "The homework questions below ask you to define baseline models for this and develop your own system for entry in the bake-off, which will take place on a held-out test-set distributed at the start of the bake-off. (Thus, all the data you have available for development is available for training your final system before the bake-off begins.)"
   ]
  },
  {
   "cell_type": "markdown",
   "metadata": {},
   "source": [
    "## Set-up"
   ]
  },
  {
   "cell_type": "markdown",
   "metadata": {},
   "source": [
    "See [the first notebook in this unit](nli_01_task_and_data.ipynb) for set-up instructions."
   ]
  },
  {
   "cell_type": "code",
   "execution_count": 2,
   "metadata": {},
   "outputs": [],
   "source": [
    "from collections import defaultdict\n",
    "import json\n",
    "import numpy as np\n",
    "import os\n",
    "import pandas as pd\n",
    "from torch_shallow_neural_classifier import TorchShallowNeuralClassifier\n",
    "import nli\n",
    "import utils"
   ]
  },
  {
   "cell_type": "code",
   "execution_count": 3,
   "metadata": {},
   "outputs": [],
   "source": [
    "DATA_HOME = 'data'\n",
    "\n",
    "NLIDATA_HOME = os.path.join(DATA_HOME, 'nlidata')\n",
    "\n",
    "wordentail_filename = os.path.join(\n",
    "    NLIDATA_HOME, 'nli_wordentail_bakeoff_data.json')\n",
    "\n",
    "GLOVE_HOME = os.path.join(DATA_HOME, 'glove.6B')"
   ]
  },
  {
   "cell_type": "code",
   "execution_count": 116,
   "metadata": {},
   "outputs": [],
   "source": [
    "utils.fix_random_seeds()"
   ]
  },
  {
   "cell_type": "code",
   "execution_count": 117,
   "metadata": {
    "tags": []
   },
   "outputs": [
    {
     "output_type": "stream",
     "name": "stdout",
     "text": "env: PYTHONHASHSEED=0\n"
    }
   ],
   "source": [
    "# %env PYTHONHASHSEED=0"
   ]
  },
  {
   "cell_type": "markdown",
   "metadata": {},
   "source": [
    "## Data\n",
    "\n",
    "I've processed the data into a train/dev split that is designed to put some pressure on our models to actually learn these semantic relations, as opposed to exploiting regularities in the sample. \n",
    "\n",
    "The defining feature of the dataset is that the `train` and `dev` __vocabularies__ are disjoint. That is, if a word `w` appears in a training pair, it does not occur in any text pair. It follows from this that there are also no word-pairs shared between train and dev, as you would expect. This should require your models to learn abstract relationships, as opposed to memorizing incidental properties of individual words in the dataset."
   ]
  },
  {
   "cell_type": "code",
   "execution_count": 5,
   "metadata": {},
   "outputs": [],
   "source": [
    "with open(wordentail_filename) as f:\n",
    "    wordentail_data = json.load(f)"
   ]
  },
  {
   "cell_type": "markdown",
   "metadata": {},
   "source": [
    "The keys are the splits plus a list giving the vocabulary for the entire dataset:"
   ]
  },
  {
   "cell_type": "code",
   "execution_count": 6,
   "metadata": {},
   "outputs": [
    {
     "output_type": "execute_result",
     "data": {
      "text/plain": "dict_keys(['dev', 'train', 'vocab'])"
     },
     "metadata": {},
     "execution_count": 6
    }
   ],
   "source": [
    "wordentail_data.keys()"
   ]
  },
  {
   "cell_type": "code",
   "execution_count": 7,
   "metadata": {},
   "outputs": [
    {
     "output_type": "execute_result",
     "data": {
      "text/plain": "[[['abode', 'house'], 1],\n [['abortion', 'anaemia'], 0],\n [['abortion', 'aneurysm'], 0],\n [['abortion', 'blindness'], 0],\n [['abortion', 'deafness'], 0]]"
     },
     "metadata": {},
     "execution_count": 7
    }
   ],
   "source": [
    "wordentail_data['train'][: 5]"
   ]
  },
  {
   "cell_type": "code",
   "execution_count": 8,
   "metadata": {},
   "outputs": [
    {
     "output_type": "execute_result",
     "data": {
      "text/plain": "0"
     },
     "metadata": {},
     "execution_count": 8
    }
   ],
   "source": [
    "nli.get_vocab_overlap_size(wordentail_data)"
   ]
  },
  {
   "cell_type": "markdown",
   "metadata": {},
   "source": [
    "Because no words are shared between `train` and `dev`, no pairs are either:"
   ]
  },
  {
   "cell_type": "code",
   "execution_count": 9,
   "metadata": {},
   "outputs": [
    {
     "output_type": "execute_result",
     "data": {
      "text/plain": "0"
     },
     "metadata": {},
     "execution_count": 9
    }
   ],
   "source": [
    "nli.get_pair_overlap_size(wordentail_data)"
   ]
  },
  {
   "cell_type": "markdown",
   "metadata": {},
   "source": [
    "Here is the label distribution:"
   ]
  },
  {
   "cell_type": "code",
   "execution_count": 10,
   "metadata": {},
   "outputs": [
    {
     "output_type": "execute_result",
     "data": {
      "text/plain": "0    7000\n1    1283\nName: 1, dtype: int64"
     },
     "metadata": {},
     "execution_count": 10
    }
   ],
   "source": [
    "pd.DataFrame(wordentail_data['train'])[1].value_counts()"
   ]
  },
  {
   "cell_type": "markdown",
   "metadata": {},
   "source": [
    "This is a challenging label distribution – there are more than 5 times as more non-entailment cases as entailment cases."
   ]
  },
  {
   "cell_type": "markdown",
   "metadata": {},
   "source": [
    "## Baseline"
   ]
  },
  {
   "cell_type": "markdown",
   "metadata": {},
   "source": [
    "Even in deep learning, __feature representation is vital and requires care!__ For our task, feature representation has two parts: representing the individual words and combining those representations into a single network input."
   ]
  },
  {
   "cell_type": "markdown",
   "metadata": {},
   "source": [
    "### Representing words: vector_func"
   ]
  },
  {
   "cell_type": "markdown",
   "metadata": {},
   "source": [
    "Let's consider two baseline word representations methods:\n",
    "\n",
    "1. Random vectors (as returned by `utils.randvec`).\n",
    "1. 50-dimensional GloVe representations."
   ]
  },
  {
   "cell_type": "code",
   "execution_count": 11,
   "metadata": {},
   "outputs": [],
   "source": [
    "def randvec(w, n=50, lower=-1.0, upper=1.0):\n",
    "    \"\"\"Returns a random vector of length `n`. `w` is ignored.\"\"\"\n",
    "    return utils.randvec(n=n, lower=lower, upper=upper)"
   ]
  },
  {
   "cell_type": "code",
   "execution_count": 12,
   "metadata": {},
   "outputs": [],
   "source": [
    "def load_glove50():\n",
    "    glove_src = os.path.join(GLOVE_HOME, 'glove.6B.50d.txt')\n",
    "    # Creates a dict mapping strings (words) to GloVe vectors:\n",
    "    GLOVE = utils.glove2dict(glove_src)\n",
    "    return GLOVE\n",
    "\n",
    "GLOVE = load_glove50()\n",
    "\n",
    "def glove_vec(w):\n",
    "    \"\"\"Return `w`'s GloVe representation if available, else return\n",
    "    a random vector.\"\"\"\n",
    "    return GLOVE.get(w, randvec(w, n=50))"
   ]
  },
  {
   "cell_type": "markdown",
   "metadata": {},
   "source": [
    "### Combining words into inputs: vector_combo_func"
   ]
  },
  {
   "cell_type": "markdown",
   "metadata": {},
   "source": [
    "Here we decide how to combine the two word vectors into a single representation. In more detail, where `u` is a vector representation of the left word and `v` is a vector representation of the right word, we need a function `vector_combo_func` such that `vector_combo_func(u, v)` returns a new input vector `z` of dimension `m`. A simple example is concatenation:"
   ]
  },
  {
   "cell_type": "code",
   "execution_count": 13,
   "metadata": {},
   "outputs": [],
   "source": [
    "def vec_concatenate(u, v):\n",
    "    \"\"\"Concatenate np.array instances `u` and `v` into a new np.array\"\"\"\n",
    "    return np.concatenate((u, v))"
   ]
  },
  {
   "cell_type": "markdown",
   "metadata": {},
   "source": [
    "`vector_combo_func` could instead be vector average, vector difference, etc. (even combinations of those) – there's lots of space for experimentation here; [homework question 2](#Alternatives-to-concatenation-[2-points]) below pushes you to do some exploration."
   ]
  },
  {
   "cell_type": "markdown",
   "metadata": {},
   "source": [
    "### Classifier model\n",
    "\n",
    "For a baseline model, I chose `TorchShallowNeuralClassifier`:"
   ]
  },
  {
   "cell_type": "code",
   "execution_count": 14,
   "metadata": {},
   "outputs": [],
   "source": [
    "net = TorchShallowNeuralClassifier(early_stopping=True)"
   ]
  },
  {
   "cell_type": "markdown",
   "metadata": {},
   "source": [
    "### Baseline results\n",
    "\n",
    "The following puts the above pieces together, using `vector_func=glove_vec`, since `vector_func=randvec` seems so hopelessly misguided for our problem!"
   ]
  },
  {
   "cell_type": "code",
   "execution_count": 123,
   "metadata": {
    "tags": []
   },
   "outputs": [
    {
     "output_type": "stream",
     "name": "stderr",
     "text": "Stopping after epoch 140. Validation score did not improve by tol=1e-05 for more than 10 epochs. Final error is 0.9795947298407555              precision    recall  f1-score   support\n\n           0      0.870     0.948     0.907      1732\n           1      0.494     0.263     0.344       334\n\n    accuracy                          0.837      2066\n   macro avg      0.682     0.606     0.625      2066\nweighted avg      0.809     0.837     0.816      2066\n\n"
    }
   ],
   "source": [
    "baseline_experiment = nli.wordentail_experiment(\n",
    "    train_data=wordentail_data['train'],\n",
    "    assess_data=wordentail_data['dev'],\n",
    "    model=net,\n",
    "    vector_func=glove_vec,\n",
    "    vector_combo_func=vec_concatenate)"
   ]
  },
  {
   "cell_type": "code",
   "execution_count": 16,
   "metadata": {},
   "outputs": [
    {
     "output_type": "execute_result",
     "data": {
      "text/plain": "0.605004497903557"
     },
     "metadata": {},
     "execution_count": 16
    }
   ],
   "source": [
    "baseline_experiment['macro-F1']"
   ]
  },
  {
   "cell_type": "markdown",
   "metadata": {},
   "source": [
    "## Homework questions\n",
    "\n",
    "Please embed your homework responses in this notebook, and do not delete any cells from the notebook. (You are free to add as many cells as you like as part of your responses.)"
   ]
  },
  {
   "cell_type": "markdown",
   "metadata": {},
   "source": [
    "### Hypothesis-only baseline [2 points]\n",
    "\n",
    "During our discussion of SNLI and MultiNLI, we noted that a number of research teams have shown that hypothesis-only baselines for NLI tasks can be remarkably robust. This question asks you to explore briefly how this baseline affects our task.\n",
    "\n",
    "For this problem, submit two functions:\n",
    "\n",
    "1. A `vector_combo_func` function called `hypothesis_only` that simply throws away the premise, using the unmodified hypothesis (second) vector as its representation of the example.\n",
    "\n",
    "1. A function called `run_hypothesis_only_evaluation` that does the following:\n",
    "    1. Loops over the two `vector_combo_func` values `vec_concatenate` and `hypothesis_only`, calling `nli.wordentail_experiment` to train on the 'train' portion and assess on the 'dev' portion, with `glove_vec` as the `vector_func`. So that the results are consistent, use an `sklearn.linear_model.LogisticRegression` with default parameters as the model.\n",
    "    1. Returns a `dict` mapping `function_name` strings to the 'macro-F1' score for that pair, as returned by the call to `nli.wordentail_experiment`. (Tip: you can get the `str` name of, e.g., `hypothesis_only` with `hypothesis_only.__name__`.)\n",
    "    \n",
    "The functions `test_hypothesis_only` and `test_run_hypothesis_only_evaluation` will help ensure that your functions have the desired logic."
   ]
  },
  {
   "cell_type": "code",
   "execution_count": 17,
   "metadata": {},
   "outputs": [],
   "source": [
    "def hypothesis_only(u, v):\n",
    "    pass\n",
    "    ##### YOUR CODE HERE\n",
    "    return v\n",
    "\n",
    "\n",
    "def run_hypothesis_only_evaluation():\n",
    "    pass\n",
    "    ##### YOUR CODE HERE\n",
    "    from sklearn.linear_model import LogisticRegression\n",
    "    \n",
    "    mapping_function_macro = {}\n",
    "    for vector_combo_func in [vec_concatenate, hypothesis_only]:\n",
    "        experiment = nli.wordentail_experiment(\n",
    "                        train_data=wordentail_data['train'],\n",
    "                        assess_data=wordentail_data['dev'],\n",
    "                        model=LogisticRegression(),\n",
    "                        vector_func=glove_vec,\n",
    "                        vector_combo_func=vector_combo_func)\n",
    "        mapping_function_macro[vector_combo_func.__name__] = experiment['macro-F1']\n",
    "    \n",
    "    return mapping_function_macro\n"
   ]
  },
  {
   "cell_type": "code",
   "execution_count": 18,
   "metadata": {},
   "outputs": [],
   "source": [
    "def test_hypothesis_only(hypothesis_only):\n",
    "    v = hypothesis_only(1, 2)\n",
    "    assert v == 2"
   ]
  },
  {
   "cell_type": "code",
   "execution_count": 19,
   "metadata": {},
   "outputs": [],
   "source": [
    "test_hypothesis_only(hypothesis_only)"
   ]
  },
  {
   "cell_type": "code",
   "execution_count": 20,
   "metadata": {},
   "outputs": [],
   "source": [
    "def test_run_hypothesis_only_evaluation(run_hypothesis_only_evaluation):\n",
    "    results = run_hypothesis_only_evaluation()\n",
    "    assert all(x in results for x in ('hypothesis_only', 'vec_concatenate')), \\\n",
    "        (\"The return value of `run_hypothesis_only_evaluation` does not \"\n",
    "         \"have the intended kind of keys.\")\n",
    "    assert isinstance(results['vec_concatenate'], float), \\\n",
    "        (\"The values of the `run_hypothesis_only_evaluation` result \"\n",
    "         \"should be floats.\")"
   ]
  },
  {
   "cell_type": "code",
   "execution_count": 21,
   "metadata": {
    "tags": []
   },
   "outputs": [
    {
     "output_type": "stream",
     "name": "stdout",
     "text": "precision    recall  f1-score   support\n\n           0      0.862     0.955     0.906      1732\n           1      0.473     0.210     0.290       334\n\n    accuracy                          0.834      2066\n   macro avg      0.668     0.582     0.598      2066\nweighted avg      0.799     0.834     0.807      2066\n\n              precision    recall  f1-score   support\n\n           0      0.853     0.973     0.909      1732\n           1      0.483     0.129     0.203       334\n\n    accuracy                          0.837      2066\n   macro avg      0.668     0.551     0.556      2066\nweighted avg      0.793     0.837     0.795      2066\n\n"
    }
   ],
   "source": [
    "test_run_hypothesis_only_evaluation(run_hypothesis_only_evaluation)"
   ]
  },
  {
   "cell_type": "markdown",
   "metadata": {},
   "source": [
    "### Alternatives to concatenation [2 points]\n",
    "\n",
    "We've so far just used vector concatenation to represent the premise and hypothesis words. This question asks you to explore two simple alternative:\n",
    "\n",
    "1. Write a function `vec_diff` that, for a given pair of vector inputs `u` and `v`, returns the element-wise difference between `u` and `v`.\n",
    "\n",
    "1. Write a function `vec_max` that, for a given pair of vector inputs `u` and `v`, returns the element-wise max values between `u` and `v`.\n",
    "\n",
    "You needn't include your uses of `nli.wordentail_experiment` with these functions, but we assume you'll be curious to see how they do!"
   ]
  },
  {
   "cell_type": "code",
   "execution_count": 22,
   "metadata": {},
   "outputs": [],
   "source": [
    "def vec_diff(u, v):\n",
    "    pass\n",
    "    ##### YOUR CODE HERE\n",
    "    assert len(u) == len(v)\n",
    "    return u - v\n",
    "        \n",
    "\n",
    "\n",
    "def vec_max(u, v):\n",
    "    pass\n",
    "    ##### YOUR CODE HERE\n",
    "    return np.maximum(u,v)\n",
    "\n"
   ]
  },
  {
   "cell_type": "code",
   "execution_count": 23,
   "metadata": {},
   "outputs": [],
   "source": [
    "def test_vec_diff(vec_diff):\n",
    "    u = np.array([10.2, 8.1])\n",
    "    v = np.array([1.2, -7.1])\n",
    "    result = vec_diff(u, v)\n",
    "    expected = np.array([9.0, 15.2])\n",
    "    assert np.array_equal(result, expected), \\\n",
    "        \"Expected {}; got {}\".format(expected, result)"
   ]
  },
  {
   "cell_type": "code",
   "execution_count": 24,
   "metadata": {},
   "outputs": [],
   "source": [
    "test_vec_diff(vec_diff)"
   ]
  },
  {
   "cell_type": "code",
   "execution_count": 25,
   "metadata": {},
   "outputs": [],
   "source": [
    "def test_vec_max(vec_max):\n",
    "    u = np.array([1.2,  8.1])\n",
    "    v = np.array([10.2, -7.1])\n",
    "    result = vec_max(u, v)\n",
    "    expected = np.array([10.2, 8.1])\n",
    "    assert np.array_equal(result, expected), \\\n",
    "        \"Expected {}; got {}\".format(expected, result)"
   ]
  },
  {
   "cell_type": "code",
   "execution_count": 26,
   "metadata": {},
   "outputs": [],
   "source": [
    "test_vec_max(vec_max)"
   ]
  },
  {
   "cell_type": "code",
   "execution_count": 27,
   "metadata": {
    "tags": []
   },
   "outputs": [
    {
     "output_type": "stream",
     "name": "stderr",
     "text": "Stopping after epoch 40. Validation score did not improve by tol=1e-05 for more than 10 epochs. Final error is 2.4564234614372253              precision    recall  f1-score   support\n\n           0      0.866     0.942     0.902      1732\n           1      0.445     0.243     0.314       334\n\n    accuracy                          0.829      2066\n   macro avg      0.655     0.592     0.608      2066\nweighted avg      0.798     0.829     0.807      2066\n\nStopping after epoch 18. Validation score did not improve by tol=1e-05 for more than 10 epochs. Final error is 3.055456727743149              precision    recall  f1-score   support\n\n           0      0.856     0.927     0.890      1732\n           1      0.337     0.192     0.244       334\n\n    accuracy                          0.808      2066\n   macro avg      0.596     0.559     0.567      2066\nweighted avg      0.772     0.808     0.786      2066\n\nStopping after epoch 46. Validation score did not improve by tol=1e-05 for more than 10 epochs. Final error is 2.8122945725917816              precision    recall  f1-score   support\n\n           0      0.853     0.955     0.901      1732\n           1      0.391     0.150     0.216       334\n\n    accuracy                          0.825      2066\n   macro avg      0.622     0.552     0.559      2066\nweighted avg      0.779     0.825     0.791      2066\n\n"
    },
    {
     "output_type": "execute_result",
     "data": {
      "text/plain": "{'vec_concatenate': 0.6080276291417988,\n 'vec_diff': 0.5672593557996649,\n 'vec_max': 0.5589063071351901}"
     },
     "metadata": {},
     "execution_count": 27
    }
   ],
   "source": [
    "def run_diff_max_evaluation():\n",
    "    pass\n",
    "    ##### YOUR CODE HERE\n",
    "    from sklearn.linear_model import LogisticRegression\n",
    "    \n",
    "    mapping_function_macro = {}\n",
    "    for vector_combo_func in [vec_concatenate, vec_diff, vec_max]:\n",
    "        experiment = nli.wordentail_experiment(\n",
    "                        train_data=wordentail_data['train'],\n",
    "                        assess_data=wordentail_data['dev'],\n",
    "                        model=net,\n",
    "                        vector_func=glove_vec,\n",
    "                        vector_combo_func=vector_combo_func)\n",
    "        mapping_function_macro[vector_combo_func.__name__] = experiment['macro-F1']\n",
    "    \n",
    "    return mapping_function_macro\n",
    "\n",
    "run_diff_max_evaluation()\n"
   ]
  },
  {
   "cell_type": "markdown",
   "metadata": {},
   "source": [
    "### A deeper network [2 points]\n",
    "\n",
    "It is very easy to subclass `TorchShallowNeuralClassifier` if all you want to do is change the network graph: all you have to do is write a new `build_graph`. If your graph has new arguments that the user might want to set, then you should also redefine `__init__` so that these values are accepted and set as attributes.\n",
    "\n",
    "For this question, please subclass `TorchShallowNeuralClassifier` so that it defines the following graph:\n",
    "\n",
    "$$\n",
    "\\begin{align}\n",
    "h_{1} &= xW_{1} + b_{1} \\\\\n",
    "r_{1} &= \\textbf{Bernoulli}(1 - \\textbf{dropout_prob}, n) \\\\\n",
    "d_{1} &= r_1 * h_{1} \\\\\n",
    "h_{2} &= f(d_{1}) \\\\\n",
    "h_{3} &= h_{2}W_{2} + b_{2}\n",
    "\\end{align}\n",
    "$$\n",
    "\n",
    "Here, $r_{1}$ and $d_{1}$ define a dropout layer: $r_{1}$ is a random binary vector of dimension $n$, where the probability of a value being $1$ is given by $1 - \\textbf{dropout_prob}$. $r_{1}$ is multiplied element-wise by our first hidden representation, thereby zeroing out some of the values. The result is fed to the user's activation function $f$, and the result of that is fed through another linear layer to produce $h_{3}$. (Inside `TorchShallowNeuralClassifier`, $h_{3}$ is the basis for a softmax classifier; no activation function is applied to it because the softmax scaling is handled internally by the loss function.)\n",
    "\n",
    "For your implementation, please use `nn.Sequential`, `nn.Linear`, and `nn.Dropout` to define the required layers.\n",
    "\n",
    "For comparison, using this notation, `TorchShallowNeuralClassifier` defines the following graph:\n",
    "\n",
    "$$\n",
    "\\begin{align}\n",
    "h_{1} &= xW_{1} + b_{1} \\\\\n",
    "h_{2} &= f(h_{1}) \\\\\n",
    "h_{3} &= h_{2}W_{2} + b_{2}\n",
    "\\end{align}\n",
    "$$\n",
    "\n",
    "The following code starts this sub-class for you, so that you can concentrate on `build_graph`. Be sure to make use of `self.dropout_prob`.\n",
    "\n",
    "For this problem, submit just your completed  `TorchDeepNeuralClassifier`. You needn't evaluate it, though we assume you will be keen to do that!\n",
    "\n",
    "You can use `test_TorchDeepNeuralClassifier` to ensure that your network has the intended structure."
   ]
  },
  {
   "cell_type": "code",
   "execution_count": 28,
   "metadata": {},
   "outputs": [],
   "source": [
    "import torch.nn as nn\n",
    "\n",
    "class TorchDeepNeuralClassifier(TorchShallowNeuralClassifier):\n",
    "    def __init__(self, dropout_prob=0.7, **kwargs):\n",
    "        self.dropout_prob = dropout_prob\n",
    "        super().__init__(**kwargs)\n",
    "\n",
    "    def build_graph(self):\n",
    "        \"\"\"Complete this method!\n",
    "\n",
    "        Returns\n",
    "        -------\n",
    "        an `nn.Module` instance, which can be a free-standing class you\n",
    "        write yourself, as in `torch_rnn_classifier`, or the outpiut of\n",
    "        `nn.Sequential`, as in `torch_shallow_neural_classifier`.\n",
    "\n",
    "        \"\"\"\n",
    "        pass\n",
    "        ##### YOUR CODE HERE\n",
    "        return nn.Sequential(\n",
    "                    nn.Linear(self.input_dim, self.hidden_dim),\n",
    "                    nn.Dropout(self.dropout_prob),\n",
    "                    self.hidden_activation,\n",
    "                    nn.Linear(self.hidden_dim, self.n_classes_)\n",
    "        )\n",
    "\n"
   ]
  },
  {
   "cell_type": "code",
   "execution_count": 29,
   "metadata": {},
   "outputs": [],
   "source": [
    "def test_TorchDeepNeuralClassifier(TorchDeepNeuralClassifier):\n",
    "    dropout_prob = 0.55\n",
    "    assert hasattr(TorchDeepNeuralClassifier(), \"dropout_prob\"), \\\n",
    "        \"TorchDeepNeuralClassifier must have an attribute `dropout_prob`.\"\n",
    "    try:\n",
    "        inst = TorchDeepNeuralClassifier(dropout_prob=dropout_prob)\n",
    "    except TypeError:\n",
    "        raise TypeError(\"TorchDeepNeuralClassifier must allow the user \"\n",
    "                        \"to set `dropout_prob` on initialization\")\n",
    "    inst.input_dim = 10\n",
    "    inst.n_classes_ = 5\n",
    "    graph = inst.build_graph()\n",
    "    assert len(graph) == 4, \\\n",
    "        \"The graph should have 4 layers; yours has {}\".format(len(graph))\n",
    "    expected = {\n",
    "        0: 'Linear',\n",
    "        1: 'Dropout',\n",
    "        2: 'Tanh',\n",
    "        3: 'Linear'}\n",
    "    for i, label in expected.items():\n",
    "        name = graph[i].__class__.__name__\n",
    "        assert label in name, \\\n",
    "            (\"The {} layer of the graph should be a {} layer; \"\n",
    "            \"yours is {}\".format(i, label, name))\n",
    "    assert graph[1].p == dropout_prob, \\\n",
    "        (\"The user's value for `dropout_prob` should be the value of \"\n",
    "         \"`p` for the Dropout layer.\")"
   ]
  },
  {
   "cell_type": "code",
   "execution_count": 30,
   "metadata": {},
   "outputs": [],
   "source": [
    "test_TorchDeepNeuralClassifier(TorchDeepNeuralClassifier)"
   ]
  },
  {
   "cell_type": "code",
   "execution_count": 31,
   "metadata": {
    "tags": []
   },
   "outputs": [
    {
     "output_type": "stream",
     "name": "stderr",
     "text": "Stopping after epoch 50. Validation score did not improve by tol=1e-05 for more than 10 epochs. Final error is 2.483033210039139              precision    recall  f1-score   support\n\n           0      0.865     0.951     0.906      1732\n           1      0.475     0.231     0.310       334\n\n    accuracy                          0.834      2066\n   macro avg      0.670     0.591     0.608      2066\nweighted avg      0.802     0.834     0.810      2066\n\n"
    }
   ],
   "source": [
    "deep_experiment = nli.wordentail_experiment(\n",
    "    train_data=wordentail_data['train'],\n",
    "    assess_data=wordentail_data['dev'],\n",
    "    model=TorchDeepNeuralClassifier(early_stopping=True),\n",
    "    vector_func=glove_vec,\n",
    "    vector_combo_func=vec_concatenate)"
   ]
  },
  {
   "cell_type": "markdown",
   "metadata": {},
   "source": [
    "### Your original system [3 points]\n",
    "\n",
    "This is a simple dataset, but its \"word-disjoint\" nature ensures that it's a challenging one, and there are lots of modeling strategies one might adopt. \n",
    "\n",
    "You are free to do whatever you like. We require only that your system differ in some way from those defined in the preceding questions. They don't have to be completely different, though. For example, you might want to stick with the model but represent examples differently, or the reverse.\n",
    "\n",
    "You are free to use different pretrained word vectors and the like.\n",
    "\n",
    "Please embed your code in this notebook so that we can rerun it.\n",
    "\n",
    "In the cell below, please provide a brief technical description of your original system, so that the teaching team can gain an understanding of what it does. This will help us to understand your code and analyze all the submissions to identify patterns and strategies.  We also ask that you report the best score your system got during development, just to help us understand how systems performed overall."
   ]
  },
  {
   "cell_type": "code",
   "execution_count": 159,
   "metadata": {},
   "outputs": [],
   "source": [
    "if 'IS_GRADESCOPE_ENV' not in os.environ:\n",
    "    from imblearn.over_sampling import SMOTE\n",
    "    from nli import word_entail_featurize, classification_report\n",
    "    from nltk.corpus import wordnet as wn\n",
    "\n",
    "\n",
    "    def one_shared_hypernym(w1, w2):\n",
    "        \"\"\"\n",
    "        A (maybe unreliable) way to get the lowest common hypernym shared by words w1 and w2\n",
    "        \"\"\"\n",
    "        try:\n",
    "            return wn.synsets(w1)[0].lowest_common_hypernyms(wn.synsets(w2)[0])[0].lemma_names()[0]\n",
    "        except:\n",
    "            return ' '\n",
    "\n",
    "    def custom_word_entail_featurize(data, vector_func, vector_combo_func=vec_concatenate):\n",
    "        X = []\n",
    "        y = []\n",
    "        for (w1, w2), label in data:\n",
    "            rep = vector_combo_func(vector_func(w1), vector_func(w2))\n",
    "            hypernym = one_shared_hypernym(w1, w2)\n",
    "            rep = vector_combo_func(rep, vector_func(hypernym))\n",
    "            X.append(rep)\n",
    "            y.append(label)\n",
    "        return X, y\n",
    "\n",
    "\n",
    "    def custom_wordentail_experiment(\n",
    "            train_data,\n",
    "            assess_data,\n",
    "            vector_func,\n",
    "            vector_combo_func,\n",
    "            param_grid,\n",
    "            model):\n",
    "        \"\"\"Customed train and evaluation code for the word-level entailment task.\n",
    "\n",
    "        Parameters\n",
    "        ----------\n",
    "        train_data : list\n",
    "        assess_data : list\n",
    "        vector_func : function\n",
    "            Any function mapping words in the vocab for `wordentail_data`\n",
    "            to vector representations\n",
    "        vector_combo_func : function\n",
    "            Any function for combining two vectors into a new vector\n",
    "            of fixed dimensionality\n",
    "        param_grid: parameters grid for hyperparameters search\n",
    "        model : class with `fit` and `predict` methods\n",
    "\n",
    "        Prints\n",
    "        ------\n",
    "        To standard ouput\n",
    "            An sklearn classification report for all three splits.\n",
    "\n",
    "        Returns\n",
    "        -------\n",
    "        dict with structure\n",
    "\n",
    "            'model': the trained model\n",
    "            'train_condition': train_condition\n",
    "            'assess_condition': assess_condition\n",
    "            'macro-F1': score for 'assess_condition'\n",
    "            'vector_func': vector_func\n",
    "            'vector_combo_func': vector_combo_func\n",
    "\n",
    "        We pass 'vector_func' and 'vector_combo_func' through to ensure alignment\n",
    "        between these experiments and the bake-off evaluation.\n",
    "\n",
    "        \"\"\"\n",
    "        X_train, y_train = custom_word_entail_featurize(\n",
    "            train_data,  vector_func, vector_combo_func)\n",
    "        X_dev, y_dev = custom_word_entail_featurize(\n",
    "            assess_data, vector_func, vector_combo_func)\n",
    "        # oversample with SMOTE\n",
    "        oversample = SMOTE()\n",
    "        X_train, y_train = oversample.fit_resample(X_train, y_train)\n",
    "\n",
    "        if len(param_grid) > 0:\n",
    "            bestmod = utils.fit_classifier_with_hyperparameter_search(\n",
    "                X_train, y_train, model, cv=5, param_grid=param_grid)\n",
    "        else:\n",
    "            bestmod = model\n",
    "            bestmod.fit(X_train, y_train)\n",
    "        predictions = bestmod.predict(X_dev)\n",
    "        # Report:\n",
    "        print(classification_report(y_dev, predictions, digits=3))\n",
    "        macrof1 = utils.safe_macro_f1(y_dev, predictions)\n",
    "        return {\n",
    "            'best model': bestmod,\n",
    "            'train_data': train_data,\n",
    "            'assess_data': assess_data,\n",
    "            'macro-F1': macrof1,\n",
    "            'vector_func': vector_func,\n",
    "            'vector_combo_func': vector_combo_func}"
   ]
  },
  {
   "cell_type": "code",
   "execution_count": 148,
   "metadata": {},
   "outputs": [],
   "source": [
    "if 'IS_GRADESCOPE_ENV' not in os.environ:\n",
    "    import torch.nn as nn\n",
    "\n",
    "\n",
    "    class TorchThreeLayerNeuralClassifier(TorchShallowNeuralClassifier):\n",
    "        \"\"\"A Three layers network where hidden layers have the same dimensions:\n",
    "\n",
    "        [Linear -> Dropout -> Activation] -> [Linear -> Droputout -> Activation] -> Linear\n",
    "        \"\"\"\n",
    "        def __init__(self, dropout_prob=0.7, **kwargs):\n",
    "            self.dropout_prob = dropout_prob\n",
    "            super().__init__(**kwargs)\n",
    "            self.params += ['dropout_prob']\n",
    "\n",
    "        def build_graph(self):\n",
    "            \"\"\"Complete this method!\n",
    "\n",
    "            Returns\n",
    "            -------\n",
    "            an `nn.Module` instance, which can be a free-standing class you\n",
    "            write yourself, as in `torch_rnn_classifier`, or the outpiut of\n",
    "            `nn.Sequential`, as in `torch_shallow_neural_classifier`.\n",
    "\n",
    "            \"\"\"\n",
    "            pass\n",
    "            return nn.Sequential(\n",
    "                        nn.Linear(self.input_dim, self.hidden_dim),\n",
    "                        nn.Dropout(self.dropout_prob),\n",
    "                        self.hidden_activation,\n",
    "                        nn.Linear(self.hidden_dim, self.hidden_dim),\n",
    "                        nn.Dropout(self.dropout_prob),\n",
    "                        self.hidden_activation,\n",
    "                        nn.Linear(self.hidden_dim, self.n_classes_)\n",
    "            )\n"
   ]
  },
  {
   "cell_type": "code",
   "execution_count": 132,
   "metadata": {
    "tags": []
   },
   "outputs": [
    {
     "output_type": "stream",
     "name": "stderr",
     "text": "Stopping after epoch 31. Validation score did not improve by tol=1e-05 for more than 10 epochs. Final error is 0.9616641979664564Best params: {'batch_size': 512, 'eta': 0.001, 'hidden_dim': 800}\nBest score: 0.970\n              precision    recall  f1-score   support\n\n           0      0.911     0.961     0.936      1732\n           1      0.720     0.515     0.600       334\n\n    accuracy                          0.889      2066\n   macro avg      0.815     0.738     0.768      2066\nweighted avg      0.880     0.889     0.881      2066\n\n"
    }
   ],
   "source": [
    "# PLEASE MAKE SURE TO INCLUDE THE FOLLOWING BETWEEN THE START AND STOP COMMENTS:\n",
    "#   1) Textual description of your system.\n",
    "#   2) The code for your original system.\n",
    "#   3) The score achieved by your system in place of MY_NUMBER.\n",
    "#        With no other changes to that line.\n",
    "#        You should report your score as a decimal value <=1.0\n",
    "# PLEASE MAKE SURE NOT TO DELETE OR EDIT THE START AND STOP COMMENTS\n",
    "\n",
    "# NOTE: MODULES, CODE AND DATASETS REQUIRED FOR YOUR ORIGINAL SYSTEM \n",
    "# SHOULD BE ADDED BELOW THE 'IS_GRADESCOPE_ENV' CHECK CONDITION. DOING\n",
    "# SO ABOVE THE CHECK MAY CAUSE THE AUTOGRADER TO FAIL.\n",
    "\n",
    "# START COMMENT: Enter your system description in this cell.\n",
    "\"\"\"\n",
    "System design:\n",
    "\n",
    "Pre-processing: \n",
    "    Use SMOTE to oversample training examples of the minority class.\n",
    "\n",
    "Features: \n",
    "    For the premise u and hypothesis v, I use wordnet to find one shared hypernym w of u and v.\n",
    "    Then I concat (u, v, w). This gives me a huge boost o macro-F1. After all, our grammar encodes lots \n",
    "    of common sense that we use to infer word entailment.\n",
    "\n",
    "Word vectors: \n",
    "    I use glove.6B.50d. Surprisingly, glove.42B and glove.840B didn't give too much boost of score.\n",
    "\n",
    "Model: \n",
    "    I use a 3 layer network with dropout=0.7 and early stopping. I use ReLu as the activation function. I tuned the following \n",
    "    hyperparameters: hidden dimensions, batch size, learning rate.\n",
    "\"\"\"\n",
    "# My peak score was: 0.768\n",
    "if 'IS_GRADESCOPE_ENV' not in os.environ:\n",
    "    new_experiment = custom_wordentail_experiment(\n",
    "            train_data=wordentail_data['train'],\n",
    "            assess_data=wordentail_data['dev'],\n",
    "            model=TorchThreeLayerNeuralClassifier(early_stopping=True, hidden_activation=nn.ReLU()),\n",
    "            vector_func=glove_vec,\n",
    "            vector_combo_func=vec_concatenate,\n",
    "            param_grid = {\n",
    "                    'hidden_dim' : [200, 400, 800],\n",
    "                    'batch_size': [1024, 512, 256], \n",
    "                    'eta': [0.001, 0.01]\n",
    "                    }\n",
    "            )\n",
    "# STOP COMMENT: Please do not remove this comment."
   ]
  },
  {
   "cell_type": "code",
   "execution_count": 161,
   "metadata": {
    "tags": []
   },
   "outputs": [
    {
     "output_type": "stream",
     "name": "stderr",
     "text": "Stopping after epoch 35. Validation score did not improve by tol=1e-05 for more than 10 epochs. Final error is 0.30497921630740166Best params: {'batch_size': 512, 'dropout_prob': 0.5, 'eta': 0.001, 'hidden_dim': 800}\nBest score: 0.973\n              precision    recall  f1-score   support\n\n           0      0.898     0.969     0.932      1732\n           1      0.726     0.428     0.539       334\n\n    accuracy                          0.881      2066\n   macro avg      0.812     0.698     0.735      2066\nweighted avg      0.870     0.881     0.868      2066\n\n"
    }
   ],
   "source": [
    "if 'IS_GRADESCOPE_ENV' not in os.environ:\n",
    "    another_experiment = custom_wordentail_experiment(\n",
    "            train_data=wordentail_data['train'],\n",
    "            assess_data=wordentail_data['dev'],\n",
    "            model=TorchThreeLayerNeuralClassifier(early_stopping=True, hidden_activation=nn.ReLU()),\n",
    "            vector_func=glove_vec,\n",
    "            vector_combo_func=vec_concatenate,\n",
    "            param_grid = {\n",
    "                    'dropout_prob' : [0.5, 0.7],\n",
    "                    'hidden_dim' : [200, 400, 800, 1600],\n",
    "                    'batch_size': [2048, 1024, 512], \n",
    "                    'eta': [0.001, 0.01]\n",
    "                    }\n",
    "            )"
   ]
  },
  {
   "cell_type": "code",
   "execution_count": 155,
   "metadata": {},
   "outputs": [],
   "source": [
    "### Use this cell to save and load models\n",
    "\n",
    "# import torch\n",
    "# def save_experiment(experiment, path, model_name):\n",
    "#     model = experiment['best model']\n",
    "#     path += model_name + '_' + str(experiment['macro-F1'])\n",
    "#     torch.save(best_model, path )\n",
    "#     print(\"Model saved to \" + path)\n",
    "\n",
    "# model_name = \"glove50d_3layers_smote_hypernym_\"\n",
    "# SAVE_PATH = './NLI_models/'\n",
    "\n",
    "# # # to save\n",
    "# save_experiment(another_experiment, SAVE_PATH, model_name)\n",
    "# # to load\n",
    "# # the_model = torch.load(SAVE_PATH)\n",
    "\n"
   ]
  },
  {
   "cell_type": "code",
   "execution_count": 32,
   "metadata": {
    "tags": []
   },
   "outputs": [],
   "source": [
    "# from nltk.corpus import wordnet as wn\n",
    "# from retrofitting import Retrofitter\n",
    "\n",
    "# def get_wordnet_edges():\n",
    "#     edges = defaultdict(set)\n",
    "#     for ss in wn.all_synsets():\n",
    "#         lem_names = {lem.name() for lem in ss.lemmas()}\n",
    "#         for lem in lem_names:\n",
    "#             edges[lem] |= lem_names\n",
    "#     return edges\n",
    "\n",
    "# def convert_edges_to_indices(edges, Q):\n",
    "#     lookup = dict(zip(Q.index, range(Q.shape[0])))\n",
    "#     index_edges = defaultdict(set)\n",
    "#     for start, finish_nodes in edges.items():\n",
    "#         s = lookup.get(start)\n",
    "#         if s:\n",
    "#             f = {lookup[n] for n in finish_nodes if n in lookup}\n",
    "#             if f:\n",
    "#                 index_edges[s] = f\n",
    "#     return index_edges\n",
    "\n",
    "\n",
    "# wn_edges = get_wordnet_edges()\n"
   ]
  },
  {
   "cell_type": "code",
   "execution_count": 34,
   "metadata": {
    "tags": []
   },
   "outputs": [],
   "source": [
    "### Some exploration work for later use...\n",
    "\n",
    "# def load_glove50():\n",
    "#     glove_src = os.path.join(GLOVE_HOME, 'glove.6B.50d.txt')\n",
    "#     # Creates a dict mapping strings (words) to GloVe vectors:\n",
    "#     GLOVE= utils.glove2dict(glove_src)\n",
    "#     return GLOVE\n",
    "\n",
    "# GLOVE_50 = load_glove50()\n",
    "\n",
    "\n",
    "# X_glove = pd.DataFrame(GLOVE_50).T\n",
    "\n",
    "# wn_graph = convert_edges_to_indices(wn_edges, X_glove)\n",
    "# X_retro = Retrofitter(verbose=True).fit(X_glove, wn_graph)\n",
    "\n",
    "# GLOVE_50_retro = dict(zip(X_retro.index, X_retro.values))\n",
    "\n",
    "# def glove_50_retro_vec(w):\n",
    "#     \"\"\"Return `w`'s retrofitted GloVe representation if available, else return\n",
    "#     a random vector.\"\"\"\n",
    "\n",
    "#     u = GLOVE_50.get(w, randvec(w, n=50))\n",
    "#     v = GLOVE_50_retro.get(w, randvec(w, n=50))\n",
    "    \n",
    "#     return np.concatenate((u, v))\n",
    "\n",
    "# GLOVE42_HOME = os.path.join(DATA_HOME, 'glove.42B')\n",
    "\n",
    "# def load_big_glove():\n",
    "#     glove_src = os.path.join(GLOVE42_HOME, 'glove.42B.300d.txt')\n",
    "#     # Creates a dict mapping strings (words) to GloVe vectors:\n",
    "#     BIG_GLOVE = utils.glove2dict(glove_src)\n",
    "#     return BIG_GLOVE\n",
    "\n",
    "# BIG_GLOVE = load_big_glove()\n",
    "\n",
    "# def big_glove_vec(w):\n",
    "#     \"\"\"Return `w`'s GloVe representation if available, else return\n",
    "#     a random vector.\"\"\"\n",
    "#     return BIG_GLOVE.get(w, randvec(w, n=300))\n",
    "\n",
    "# X_glove = pd.DataFrame(BIG_GLOVE).T\n",
    "\n",
    "# wn_graph = convert_edges_to_indices(wn_edges, X_glove)\n",
    "# X_glove = Retrofitter(verbose=True).fit(X_glove, wn_graph)\n",
    "\n",
    "# BIG_GLOVE_retro = dict(zip(X_glove.index, X_glove.values))\n",
    "\n",
    "# def big_glove_retro_vec(w):\n",
    "#     \"\"\"Return `w`'s retrofitted GloVe representation if available, else return\n",
    "#     a random vector.\"\"\"\n",
    "\n",
    "#     # u = BIG_GLOVE.get(w, randvec(w, n=300))\n",
    "#     v = BIG_GLOVE_retro.get(w, randvec(w, n=300))\n",
    "    \n",
    "#     return v\n"
   ]
  },
  {
   "cell_type": "code",
   "execution_count": null,
   "metadata": {},
   "outputs": [],
   "source": []
  },
  {
   "source": [
    "# Glove 42B"
   ],
   "cell_type": "markdown",
   "metadata": {}
  },
  {
   "cell_type": "code",
   "execution_count": 38,
   "metadata": {},
   "outputs": [],
   "source": [
    "# GLOVE42_HOME = os.path.join(DATA_HOME, 'glove.42B')\n",
    "\n",
    "# def load_big_glove():\n",
    "#     glove_src = os.path.join(GLOVE42_HOME, 'glove.42B.300d.txt')\n",
    "#     # Creates a dict mapping strings (words) to GloVe vectors:\n",
    "#     BIG_GLOVE = utils.glove2dict(glove_src)\n",
    "#     return BIG_GLOVE\n",
    "\n",
    "# BIG_GLOVE = load_big_glove()\n",
    "\n",
    "# def big_glove_vec(w):\n",
    "#     \"\"\"Return `w`'s GloVe representation if available, else return\n",
    "#     a random vector.\"\"\"\n",
    "#     return BIG_GLOVE.get(w, randvec(w, n=300))"
   ]
  },
  {
   "cell_type": "code",
   "execution_count": 62,
   "metadata": {
    "tags": []
   },
   "outputs": [
    {
     "output_type": "stream",
     "name": "stderr",
     "text": "Stopping after epoch 47. Validation score did not improve by tol=1e-05 for more than 10 epochs. Final error is 0.8624679148197174Best params: {'batch_size': 1024, 'eta': 0.01, 'hidden_dim': 400}\nBest score: 0.949\n              precision    recall  f1-score   support\n\n           0      0.900     0.907     0.903      1732\n           1      0.497     0.476     0.486       334\n\n    accuracy                          0.837      2066\n   macro avg      0.698     0.692     0.695      2066\nweighted avg      0.835     0.837     0.836      2066\n\n"
    }
   ],
   "source": [
    "# big_glove_SMOTE_experiment = custom_wordentail_experiment(\n",
    "#         train_data=wordentail_data['train'],\n",
    "#         assess_data=wordentail_data['dev'],\n",
    "#         model=TorchDeepNeuralClassifier(early_stopping=True),\n",
    "#         vector_func=big_glove_vec,\n",
    "#         vector_combo_func=vec_concatenate,\n",
    "#         param_grid = {\n",
    "#                 'hidden_dim' : [50, 100, 200, 400],\n",
    "#                 'batch_size': [1024, 512, 256], \n",
    "#                 'eta': [0.001, 0.01]}\n",
    "#         )"
   ]
  },
  {
   "cell_type": "code",
   "execution_count": 67,
   "metadata": {
    "tags": []
   },
   "outputs": [
    {
     "output_type": "stream",
     "name": "stderr",
     "text": "Converged at iteration 10; change was 0.0050"
    }
   ],
   "source": [
    "# X_glove = pd.DataFrame(BIG_GLOVE).T\n",
    "\n",
    "# wn_graph = convert_edges_to_indices(wn_edges, X_glove)\n",
    "# X_glove = Retrofitter(verbose=True).fit(X_glove, wn_graph)\n",
    "\n",
    "# BIG_GLOVE_retro = dict(zip(X_glove.index, X_glove.values))\n",
    "\n",
    "# def big_glove_retro_vec(w):\n",
    "#     \"\"\"Return `w`'s retrofitted GloVe representation if available, else return\n",
    "#     a random vector.\"\"\"\n",
    "\n",
    "#     # u = BIG_GLOVE.get(w, randvec(w, n=300))\n",
    "#     v = BIG_GLOVE_retro.get(w, randvec(w, n=300))\n",
    "    \n",
    "#     return v\n"
   ]
  },
  {
   "cell_type": "code",
   "execution_count": 68,
   "metadata": {
    "tags": []
   },
   "outputs": [
    {
     "output_type": "stream",
     "name": "stderr",
     "text": "Stopping after epoch 39. Validation score did not improve by tol=1e-05 for more than 10 epochs. Final error is 0.7740469500422478Best params: {'batch_size': 1024, 'eta': 0.01, 'hidden_dim': 800}\nBest score: 0.953\n              precision    recall  f1-score   support\n\n           0      0.901     0.886     0.893      1732\n           1      0.456     0.494     0.474       334\n\n    accuracy                          0.823      2066\n   macro avg      0.678     0.690     0.684      2066\nweighted avg      0.829     0.823     0.826      2066\n\n"
    }
   ],
   "source": [
    "# big_glove_retro_SMOTE_experiment = custom_wordentail_experiment(\n",
    "#         train_data=wordentail_data['train'],\n",
    "#         assess_data=wordentail_data['dev'],\n",
    "#         model=TorchDeepNeuralClassifier(early_stopping=True),\n",
    "#         vector_func=big_glove_retro_vec,\n",
    "#         vector_combo_func=vec_concatenate,\n",
    "#         param_grid = {\n",
    "#                 'hidden_dim' : [200, 400, 800],\n",
    "#                 'batch_size': [1024, 512, 256], \n",
    "#                 'eta': [0.001, 0.01]}\n",
    "#         )"
   ]
  },
  {
   "cell_type": "markdown",
   "metadata": {},
   "source": [
    "## Bake-off [1 point]\n",
    "\n",
    "The goal of the bake-off is to achieve the highest __macro-average F1__ score on a test set that we will make available at the start of the bake-off. The announcement will go out on the discussion forum. To enter, you'll be asked to run `nli.bake_off_evaluation` on the output of your chosen `nli.wordentail_experiment` run. \n",
    "\n",
    "The cells below this one constitute your bake-off entry.\n",
    "\n",
    "The rules described in the [Your original system](#Your-original-system-[3-points]) homework question are also in effect for the bake-off.\n",
    "\n",
    "Systems that enter will receive the additional homework point, and systems that achieve the top score will receive an additional 0.5 points. We will test the top-performing systems ourselves, and only systems for which we can reproduce the reported results will win the extra 0.5 points.\n",
    "\n",
    "Late entries will be accepted, but they cannot earn the extra 0.5 points. Similarly, you cannot win the bake-off unless your homework is submitted on time.\n",
    "\n",
    "The announcement will include the details on where to submit your entry."
   ]
  },
  {
   "cell_type": "code",
   "execution_count": 192,
   "metadata": {
    "tags": []
   },
   "outputs": [
    {
     "output_type": "stream",
     "name": "stdout",
     "text": "precision    recall  f1-score   support\n\n           0      0.899     0.952     0.925      2036\n           1      0.652     0.456     0.537       399\n\n    accuracy                          0.871      2435\n   macro avg      0.776     0.704     0.731      2435\nweighted avg      0.859     0.871     0.861      2435\n\n"
    }
   ],
   "source": [
    "# Enter your bake-off assessment code into this cell.\n",
    "# Please do not remove this comment.\n",
    "if 'IS_GRADESCOPE_ENV' not in os.environ:\n",
    "    pass\n",
    "    # Please enter your code in the scope of the above conditional.\n",
    "    ##### YOUR CODE HERE\n",
    "    import nli\n",
    "    # monkeypatching to use my own word_entail_featureize\n",
    "    nli.word_entail_featurize = custom_word_entail_featurize\n",
    "    \n",
    "    test_data_filename = os.path.join(\n",
    "    NLIDATA_HOME,\n",
    "    \"bakeoff-wordentail-data\",\n",
    "    \"nli_wordentail_bakeoff_data-test.json\")\n",
    "\n",
    "    if new_experiment['micro-F1'] > 0.76:\n",
    "        bakeoff_model = new_experiment.copy()\n",
    "        bakeoff_model['model'] = bakeoff_model['best model']\n",
    "    else:\n",
    "        import torch\n",
    "        bakeoff_model = {}\n",
    "        bakeoff_model['model'] = torch.load(\"glove50d_3layers_smote_hypernym_0.768\") \n",
    "        bakeoff_model['vector_func'] = glove_vec\n",
    "        bakeoff_model['vector_combo_func'] = vec_concatenate\n",
    "\n",
    "    nli.bake_off_evaluation(\n",
    "        bakeoff_model,\n",
    "        test_data_filename)\n"
   ]
  },
  {
   "cell_type": "code",
   "execution_count": 193,
   "metadata": {},
   "outputs": [],
   "source": [
    "# On an otherwise blank line in this cell, please enter\n",
    "# your macro-avg f1 value as reported by the code above.\n",
    "# Please enter only a number between 0 and 1 inclusive.\n",
    "# Please do not remove this comment.\n",
    "if 'IS_GRADESCOPE_ENV' not in os.environ:\n",
    "    pass\n",
    "    # Please enter your score in the scope of the above conditional.\n",
    "    ##### YOUR CODE HERE\n",
    "    0.731\n"
   ]
  },
  {
   "cell_type": "code",
   "execution_count": null,
   "metadata": {},
   "outputs": [],
   "source": []
  }
 ],
 "metadata": {
  "kernelspec": {
   "display_name": "Python 3",
   "language": "python",
   "name": "python3"
  },
  "language_info": {
   "codemirror_mode": {
    "name": "ipython",
    "version": 3
   },
   "file_extension": ".py",
   "mimetype": "text/x-python",
   "name": "python",
   "nbconvert_exporter": "python",
   "pygments_lexer": "ipython3",
   "version": "3.7.6-final"
  }
 },
 "nbformat": 4,
 "nbformat_minor": 4
}