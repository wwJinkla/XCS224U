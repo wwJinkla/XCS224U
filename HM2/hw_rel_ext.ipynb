{
 "cells": [
  {
   "cell_type": "markdown",
   "metadata": {},
   "source": [
    "# Homework and bake-off: Relation extraction using distant supervision"
   ]
  },
  {
   "cell_type": "code",
   "execution_count": 1,
   "metadata": {},
   "outputs": [],
   "source": [
    "__author__ = \"Bill MacCartney and Christopher Potts\"\n",
    "__version__ = \"CS224u, Stanford, Fall 2020\""
   ]
  },
  {
   "cell_type": "markdown",
   "metadata": {},
   "source": [
    "## Contents\n",
    "\n",
    "1. [Overview](#Overview)\n",
    "1. [Set-up](#Set-up)\n",
    "1. [Baselines](#Baselines)\n",
    "  1. [Hand-build feature functions](#Hand-build-feature-functions)\n",
    "  1. [Distributed representations](#Distributed-representations)\n",
    "1. [Homework questions](#Homework-questions)\n",
    "  1. [Different model factory [1 points]](#Different-model-factory-[1-points])\n",
    "  1. [Directional unigram features [1.5 points]](#Directional-unigram-features-[1.5-points])\n",
    "  1. [The part-of-speech tags of the \"middle\" words [1.5 points]](#The-part-of-speech-tags-of-the-\"middle\"-words-[1.5-points])\n",
    "  1. [Bag of Synsets [2 points]](#Bag-of-Synsets-[2-points])\n",
    "  1. [Your original system [3 points]](#Your-original-system-[3-points])\n",
    "1. [Bake-off [1 point]](#Bake-off-[1-point])"
   ]
  },
  {
   "cell_type": "markdown",
   "metadata": {},
   "source": [
    "## Overview\n",
    "\n",
    "This homework and associated bake-off are devoted to developing really effective relation extraction systems using distant supervision. \n",
    "\n",
    "As with the previous assignments, this notebook first establishes a baseline system. The initial homework questions ask you to create additional baselines and suggest areas for innovation, and the final homework question asks you to develop an original system for you to enter into the bake-off."
   ]
  },
  {
   "cell_type": "markdown",
   "metadata": {},
   "source": [
    "## Set-up\n",
    "\n",
    "See [the first notebook in this unit](rel_ext_01_task.ipynb#Set-up) for set-up instructions."
   ]
  },
  {
   "cell_type": "code",
   "execution_count": 2,
   "metadata": {},
   "outputs": [],
   "source": [
    "import numpy as np\n",
    "import os\n",
    "import rel_ext\n",
    "from sklearn.linear_model import LogisticRegression\n",
    "import utils"
   ]
  },
  {
   "cell_type": "markdown",
   "metadata": {},
   "source": [
    "As usual, we unite our corpus and KB into a dataset, and create some splits for experimentation:"
   ]
  },
  {
   "cell_type": "code",
   "execution_count": 3,
   "metadata": {},
   "outputs": [],
   "source": [
    "rel_ext_data_home = os.path.join('data', 'rel_ext_data')"
   ]
  },
  {
   "cell_type": "code",
   "execution_count": 4,
   "metadata": {},
   "outputs": [],
   "source": [
    "corpus = rel_ext.Corpus(os.path.join(rel_ext_data_home, 'corpus.tsv.gz'))"
   ]
  },
  {
   "cell_type": "code",
   "execution_count": 5,
   "metadata": {},
   "outputs": [],
   "source": [
    "kb = rel_ext.KB(os.path.join(rel_ext_data_home, 'kb.tsv.gz'))"
   ]
  },
  {
   "cell_type": "code",
   "execution_count": 6,
   "metadata": {},
   "outputs": [],
   "source": [
    "dataset = rel_ext.Dataset(corpus, kb)"
   ]
  },
  {
   "cell_type": "markdown",
   "metadata": {},
   "source": [
    "You are not wedded to this set-up for splits. The bake-off will be conducted on a previously unseen test-set, so all of the data in `dataset` is fair game:"
   ]
  },
  {
   "cell_type": "code",
   "execution_count": 7,
   "metadata": {},
   "outputs": [],
   "source": [
    "splits = dataset.build_splits(\n",
    "    split_names=['tiny', 'train', 'dev'],\n",
    "    split_fracs=[0.01, 0.79, 0.20],\n",
    "    seed=1)"
   ]
  },
  {
   "cell_type": "code",
   "execution_count": 8,
   "metadata": {},
   "outputs": [
    {
     "output_type": "execute_result",
     "data": {
      "text/plain": "{'tiny': Corpus with 3,474 examples; KB with 445 triples,\n 'train': Corpus with 263,285 examples; KB with 36,191 triples,\n 'dev': Corpus with 64,937 examples; KB with 9,248 triples,\n 'all': Corpus with 331,696 examples; KB with 45,884 triples}"
     },
     "metadata": {},
     "execution_count": 8
    }
   ],
   "source": [
    "splits"
   ]
  },
  {
   "cell_type": "markdown",
   "metadata": {},
   "source": [
    "## Baselines"
   ]
  },
  {
   "cell_type": "markdown",
   "metadata": {},
   "source": [
    "### Hand-build feature functions"
   ]
  },
  {
   "cell_type": "code",
   "execution_count": 9,
   "metadata": {},
   "outputs": [],
   "source": [
    "def simple_bag_of_words_featurizer(kbt, corpus, feature_counter):\n",
    "    for ex in corpus.get_examples_for_entities(kbt.sbj, kbt.obj):\n",
    "        for word in ex.middle.split(' '):\n",
    "            feature_counter[word] += 1\n",
    "    for ex in corpus.get_examples_for_entities(kbt.obj, kbt.sbj):\n",
    "        for word in ex.middle.split(' '):\n",
    "            feature_counter[word] += 1\n",
    "    return feature_counter"
   ]
  },
  {
   "cell_type": "code",
   "execution_count": 10,
   "metadata": {},
   "outputs": [],
   "source": [
    "featurizers = [simple_bag_of_words_featurizer]"
   ]
  },
  {
   "cell_type": "code",
   "execution_count": 11,
   "metadata": {},
   "outputs": [],
   "source": [
    "model_factory = lambda: LogisticRegression(fit_intercept=True, solver='liblinear')"
   ]
  },
  {
   "cell_type": "code",
   "execution_count": 12,
   "metadata": {
    "tags": []
   },
   "outputs": [
    {
     "output_type": "stream",
     "name": "stdout",
     "text": "relation              precision     recall    f-score    support       size\n------------------    ---------  ---------  ---------  ---------  ---------\nadjoins                   0.839      0.382      0.677        340       5716\nauthor                    0.805      0.528      0.729        509       5885\ncapital                   0.651      0.295      0.524         95       5471\ncontains                  0.780      0.597      0.735       3904       9280\nfilm_performance          0.760      0.568      0.712        766       6142\nfounders                  0.844      0.371      0.673        380       5756\ngenre                     0.549      0.165      0.374        170       5546\nhas_sibling               0.904      0.246      0.590        499       5875\nhas_spouse                0.894      0.327      0.663        594       5970\nis_a                      0.720      0.237      0.512        497       5873\nnationality               0.565      0.159      0.374        301       5677\nparents                   0.869      0.532      0.771        312       5688\nplace_of_birth            0.645      0.210      0.456        233       5609\nplace_of_death            0.455      0.094      0.258        159       5535\nprofession                0.639      0.186      0.430        247       5623\nworked_at                 0.713      0.236      0.507        242       5618\n------------------    ---------  ---------  ---------  ---------  ---------\nmacro-average             0.727      0.321      0.562       9248      95264\n"
    }
   ],
   "source": [
    "baseline_results = rel_ext.experiment(\n",
    "    splits,\n",
    "    train_split='train',\n",
    "    test_split='dev',\n",
    "    featurizers=featurizers,\n",
    "    model_factory=model_factory,\n",
    "    verbose=True)"
   ]
  },
  {
   "cell_type": "markdown",
   "metadata": {},
   "source": [
    "Studying model weights might yield insights:"
   ]
  },
  {
   "cell_type": "code",
   "execution_count": 13,
   "metadata": {
    "tags": []
   },
   "outputs": [
    {
     "output_type": "stream",
     "name": "stdout",
     "text": "Highest and lowest feature weights for relation adjoins:\n\n     2.575 Córdoba\n     2.512 Taluks\n     2.447 Valais\n     ..... .....\n    -1.195 Asia\n    -1.208 Afghanistan\n    -1.420 Cook\n\nHighest and lowest feature weights for relation author:\n\n     2.860 wrote\n     2.553 author\n     2.345 by\n     ..... .....\n    -2.012 or\n    -2.234 directed\n    -7.832 dystopian\n\nHighest and lowest feature weights for relation capital:\n\n     4.015 capital\n     2.281 city\n     1.747 km\n     ..... .....\n    -1.148 coast\n    -1.351 County\n    -1.478 Cook\n\nHighest and lowest feature weights for relation contains:\n\n     2.861 third-largest\n     2.466 bordered\n     2.123 tiny\n     ..... .....\n    -2.425 who\n    -3.456 Midlands\n    -3.784 Antrim\n\nHighest and lowest feature weights for relation film_performance:\n\n     3.831 starring\n     3.675 alongside\n     3.453 co-starring\n     ..... .....\n    -1.998 Westminster\n    -2.346 Malice\n    -2.361 Wonderland\n\nHighest and lowest feature weights for relation founders:\n\n     3.724 founder\n     3.689 founded\n     3.479 co-founder\n     ..... .....\n    -1.416 play\n    -1.623 top\n    -1.835 band\n\nHighest and lowest feature weights for relation genre:\n\n     2.932 series\n     2.847 \n     2.572 game\n     ..... .....\n    -1.492 while\n    -1.589 programs\n    -1.845 at\n\nHighest and lowest feature weights for relation has_sibling:\n\n     5.421 brother\n     3.899 sister\n     2.824 nephew\n     ..... .....\n    -1.633 grandson\n    -1.636 Her\n    -1.973 formed\n\nHighest and lowest feature weights for relation has_spouse:\n\n     5.417 wife\n     4.505 widow\n     4.409 married\n     ..... .....\n    -1.305 along\n    -1.306 on\n    -1.940 grandson\n\nHighest and lowest feature weights for relation is_a:\n\n     3.390 family\n     3.333 \n     2.696 genus\n     ..... .....\n    -1.591 beans\n    -1.806 where\n    -2.925 hibiscus\n\nHighest and lowest feature weights for relation nationality:\n\n     2.833 born\n     1.968 July\n     1.964 Minister\n     ..... .....\n    -1.352 or\n    -1.382 and\n    -1.698 American\n\nHighest and lowest feature weights for relation parents:\n\n     4.996 son\n     4.745 father\n     4.354 daughter\n     ..... .....\n    -1.680 dead\n    -2.081 away\n    -2.530 passes\n\nHighest and lowest feature weights for relation place_of_birth:\n\n     3.874 born\n     2.676 mayor\n     2.182 birthplace\n     ..... .....\n    -1.249 American\n    -1.365 or\n    -1.476 and\n\nHighest and lowest feature weights for relation place_of_death:\n\n     2.174 died\n     1.962 assassinated\n     1.833 where\n     ..... .....\n    -1.234 ”\n    -1.266 and\n    -1.534 Westminster\n\nHighest and lowest feature weights for relation profession:\n\n     3.860 \n     2.578 philosopher\n     2.301 British\n     ..... .....\n    -1.245 between\n    -1.272 are\n    -2.128 on\n\nHighest and lowest feature weights for relation worked_at:\n\n     3.078 CEO\n     3.023 president\n     2.889 professor\n     ..... .....\n    -1.200 part\n    -1.216 ”\n    -1.507 or\n\n"
    }
   ],
   "source": [
    "rel_ext.examine_model_weights(baseline_results)"
   ]
  },
  {
   "cell_type": "markdown",
   "metadata": {},
   "source": [
    "### Distributed representations\n",
    "\n",
    "This simple baseline sums the GloVe vector representations for all of the words in the \"middle\" span and feeds those representations into the standard `LogisticRegression`-based `model_factory`. The crucial parameter that enables this is `vectorize=False`. This essentially says to `rel_ext.experiment` that your featurizer or your model will do the work of turning examples into vectors; in that case, `rel_ext.experiment` just organizes these representations by relation type."
   ]
  },
  {
   "cell_type": "code",
   "execution_count": 14,
   "metadata": {},
   "outputs": [],
   "source": [
    "GLOVE_HOME = os.path.join('data', 'glove.6B')"
   ]
  },
  {
   "cell_type": "code",
   "execution_count": 15,
   "metadata": {},
   "outputs": [],
   "source": [
    "glove_lookup = utils.glove2dict(\n",
    "    os.path.join(GLOVE_HOME, 'glove.6B.300d.txt'))"
   ]
  },
  {
   "cell_type": "code",
   "execution_count": 16,
   "metadata": {},
   "outputs": [],
   "source": [
    "def glove_middle_featurizer(kbt, corpus, np_func=np.sum):\n",
    "    reps = []\n",
    "    for ex in corpus.get_examples_for_entities(kbt.sbj, kbt.obj):\n",
    "        for word in ex.middle.split():\n",
    "            rep = glove_lookup.get(word)\n",
    "            if rep is not None:\n",
    "                reps.append(rep)\n",
    "    # A random representation of the right dimensionality if the\n",
    "    # example happens not to overlap with GloVe's vocabulary:\n",
    "    if len(reps) == 0:\n",
    "        dim = len(next(iter(glove_lookup.values())))\n",
    "        return utils.randvec(n=dim)\n",
    "    else:\n",
    "        return np_func(reps, axis=0)"
   ]
  },
  {
   "cell_type": "code",
   "execution_count": 17,
   "metadata": {
    "tags": []
   },
   "outputs": [
    {
     "output_type": "stream",
     "name": "stdout",
     "text": "relation              precision     recall    f-score    support       size\n------------------    ---------  ---------  ---------  ---------  ---------\nadjoins                   0.852      0.456      0.726        340       5716\nauthor                    0.807      0.436      0.690        509       5885\ncapital                   0.535      0.242      0.431         95       5471\ncontains                  0.650      0.415      0.584       3904       9280\nfilm_performance          0.803      0.315      0.613        766       6142\nfounders                  0.821      0.242      0.556        380       5756\ngenre                     0.357      0.059      0.177        170       5546\nhas_sibling               0.858      0.242      0.569        499       5875\nhas_spouse                0.888      0.347      0.677        594       5970\nis_a                      0.690      0.157      0.411        497       5873\nnationality               0.648      0.196      0.444        301       5677\nparents                   0.887      0.404      0.716        312       5688\nplace_of_birth            0.649      0.215      0.462        233       5609\nplace_of_death            0.432      0.119      0.284        159       5535\nprofession                0.688      0.134      0.376        247       5623\nworked_at                 0.677      0.260      0.513        242       5618\n------------------    ---------  ---------  ---------  ---------  ---------\nmacro-average             0.703      0.265      0.514       9248      95264\n"
    }
   ],
   "source": [
    "glove_results = rel_ext.experiment(\n",
    "    splits,\n",
    "    train_split='train',\n",
    "    test_split='dev',\n",
    "    featurizers=[glove_middle_featurizer],\n",
    "    vectorize=False, # Crucial for this featurizer!\n",
    "    verbose=True)"
   ]
  },
  {
   "cell_type": "markdown",
   "metadata": {},
   "source": [
    "With the same basic code design, one can also use the PyTorch models included in the course repo, or write new ones that are better aligned with the task. For those models, it's likely that the featurizer will just return a list of tokens (or perhaps a list of lists of tokens), and the model will map those into vectors using an embedding."
   ]
  },
  {
   "cell_type": "markdown",
   "metadata": {},
   "source": [
    "## Homework questions\n",
    "\n",
    "Please embed your homework responses in this notebook, and do not delete any cells from the notebook. (You are free to add as many cells as you like as part of your responses.)"
   ]
  },
  {
   "cell_type": "markdown",
   "metadata": {},
   "source": [
    "### Different model factory [1 points]\n",
    "\n",
    "The code in `rel_ext` makes it very easy to experiment with other classifier models: one need only redefine the `model_factory` argument. This question asks you to assess a [Support Vector Classifier](https://scikit-learn.org/stable/modules/generated/sklearn.svm.SVC.html).\n",
    "\n",
    "__To submit:__ A wrapper function `run_svm_model_factory` that does the following: \n",
    "\n",
    "1. Uses `rel_ext.experiment` with the model factory set to one based in an `SVC` with `kernel='linear'` and all other arguments left with default values. \n",
    "1. Trains on the 'train' part of `splits`.\n",
    "1. Assesses on the `dev` part of `splits`.\n",
    "1. Uses `featurizers` as defined above. \n",
    "1. Returns the return value of `rel_ext.experiment` for this set-up.\n",
    "\n",
    "The function `test_run_svm_model_factory` will check that your function conforms to these general specifications."
   ]
  },
  {
   "cell_type": "code",
   "execution_count": 18,
   "metadata": {},
   "outputs": [],
   "source": [
    "def run_svm_model_factory():\n",
    "    from sklearn.svm import SVC\n",
    "    svm_results = rel_ext.experiment(\n",
    "                        splits,\n",
    "                        train_split='train',\n",
    "                        test_split='dev',\n",
    "                        featurizers=featurizers,\n",
    "                        model_factory=lambda: SVC(kernel='linear'),\n",
    "                        verbose=True)\n",
    "    return svm_results\n",
    "\n"
   ]
  },
  {
   "cell_type": "code",
   "execution_count": 19,
   "metadata": {},
   "outputs": [],
   "source": [
    "def test_run_svm_model_factory(run_svm_model_factory):\n",
    "    results = run_svm_model_factory()\n",
    "    assert 'featurizers' in results, \\\n",
    "        \"The return value of `run_svm_model_factory` seems not to be correct\"\n",
    "    # Check one of the models to make sure it's an SVC:\n",
    "    assert 'SVC' in results['models']['adjoins'].__class__.__name__, \\\n",
    "        \"It looks like the model factor wasn't set to use an SVC.\""
   ]
  },
  {
   "cell_type": "code",
   "execution_count": 20,
   "metadata": {
    "tags": []
   },
   "outputs": [
    {
     "output_type": "stream",
     "name": "stdout",
     "text": "relation              precision     recall    f-score    support       size\n------------------    ---------  ---------  ---------  ---------  ---------\nadjoins                   0.810      0.350      0.641        340       5716\nauthor                    0.773      0.601      0.731        509       5885\ncapital                   0.646      0.326      0.540         95       5471\ncontains                  0.767      0.598      0.726       3904       9280\nfilm_performance          0.749      0.619      0.719        766       6142\nfounders                  0.738      0.429      0.645        380       5756\ngenre                     0.581      0.253      0.461        170       5546\nhas_sibling               0.865      0.244      0.574        499       5875\nhas_spouse                0.850      0.343      0.656        594       5970\nis_a                      0.650      0.280      0.514        497       5873\nnationality               0.526      0.199      0.396        301       5677\nparents                   0.826      0.580      0.762        312       5688\nplace_of_birth            0.578      0.223      0.438        233       5609\nplace_of_death            0.462      0.113      0.286        159       5535\nprofession                0.608      0.239      0.465        247       5623\nworked_at                 0.626      0.277      0.500        242       5618\n------------------    ---------  ---------  ---------  ---------  ---------\nmacro-average             0.691      0.355      0.566       9248      95264\n"
    }
   ],
   "source": [
    "if 'IS_GRADESCOPE_ENV' not in os.environ:\n",
    "    test_run_svm_model_factory(run_svm_model_factory)"
   ]
  },
  {
   "cell_type": "markdown",
   "metadata": {},
   "source": [
    "### Directional unigram features [1.5 points]\n",
    "\n",
    "The current bag-of-words representation makes no distinction between \"forward\" and \"reverse\" examples. But, intuitively, there is big difference between _X and his son Y_ and _Y and his son X_. This question asks you to modify `simple_bag_of_words_featurizer` to capture these differences. \n",
    "\n",
    "__To submit:__\n",
    "\n",
    "1. A feature function `directional_bag_of_words_featurizer` that is just like `simple_bag_of_words_featurizer` except that it distinguishes \"forward\" and \"reverse\". To do this, you just need to mark each word feature for whether it is derived from a subject–object example or from an object–subject example.  The included function `test_directional_bag_of_words_featurizer` should help verify that you've done this correctly.\n",
    "\n",
    "2. A call to `rel_ext.experiment` with `directional_bag_of_words_featurizer` as the only featurizer. (Aside from this, use all the default values for `rel_ext.experiment` as exemplified above in this notebook.)\n",
    "\n",
    "3. `rel_ext.experiment` returns some of the core objects used in the experiment. How many feature names does the `vectorizer` have for the experiment run in the previous step? Include the code needed for getting this value. (Note: we're partly asking you to figure out how to get this value by using the sklearn documentation, so please don't ask how to do it!)"
   ]
  },
  {
   "cell_type": "code",
   "execution_count": 21,
   "metadata": {
    "tags": []
   },
   "outputs": [
    {
     "output_type": "stream",
     "name": "stdout",
     "text": "relation              precision     recall    f-score    support       size\n------------------    ---------  ---------  ---------  ---------  ---------\nadjoins                   0.864      0.412      0.709        340       5716\nauthor                    0.830      0.583      0.765        509       5885\ncapital                   0.703      0.274      0.535         95       5471\ncontains                  0.810      0.640      0.769       3904       9280\nfilm_performance          0.820      0.662      0.783        766       6142\nfounders                  0.797      0.392      0.660        380       5756\ngenre                     0.678      0.235      0.493        170       5546\nhas_sibling               0.894      0.253      0.593        499       5875\nhas_spouse                0.888      0.347      0.677        594       5970\nis_a                      0.707      0.247      0.516        497       5873\nnationality               0.653      0.206      0.455        301       5677\nparents                   0.879      0.513      0.769        312       5688\nplace_of_birth            0.730      0.232      0.510        233       5609\nplace_of_death            0.537      0.138      0.341        159       5535\nprofession                0.728      0.239      0.517        247       5623\nworked_at                 0.776      0.273      0.567        242       5618\n------------------    ---------  ---------  ---------  ---------  ---------\nmacro-average             0.768      0.353      0.604       9248      95264\nNumber of feature names: 40618\n"
    }
   ],
   "source": [
    "def directional_bag_of_words_featurizer(kbt, corpus, feature_counter):\n",
    "    # Append these to the end of the keys you add/access in\n",
    "    # `feature_counter` to distinguish the two orders. You'll\n",
    "    # need to use exactly these strings in order to pass\n",
    "    # `test_directional_bag_of_words_featurizer`.\n",
    "    subject_object_suffix = \"_SO\"\n",
    "    object_subject_suffix = \"_OS\"\n",
    "\n",
    "    ##### YOUR CODE HERE\n",
    "    for ex in corpus.get_examples_for_entities(kbt.sbj, kbt.obj):\n",
    "        for word in ex.middle.split(' '):\n",
    "            feature_counter[word + subject_object_suffix] += 1\n",
    "    for ex in corpus.get_examples_for_entities(kbt.obj, kbt.sbj):\n",
    "        for word in ex.middle.split(' '):\n",
    "            feature_counter[word + object_subject_suffix] += 1\n",
    "\n",
    "    return feature_counter\n",
    "\n",
    "\n",
    "# Call to `rel_ext.experiment`:\n",
    "##### YOUR CODE HERE\n",
    "\n",
    "directional_bog_results = rel_ext.experiment(\n",
    "    splits,\n",
    "    train_split='train',\n",
    "    test_split='dev',\n",
    "    featurizers=[directional_bag_of_words_featurizer],\n",
    "    model_factory=model_factory,\n",
    "    verbose=True)\n",
    "\n",
    "print(\"Number of feature names: {}\".format(len(directional_bog_results['vectorizer'].get_feature_names())))\n"
   ]
  },
  {
   "cell_type": "code",
   "execution_count": 22,
   "metadata": {},
   "outputs": [],
   "source": [
    "def test_directional_bag_of_words_featurizer(corpus):\n",
    "    from collections import defaultdict\n",
    "    kbt = rel_ext.KBTriple(rel='worked_at', sbj='Randall_Munroe', obj='xkcd')\n",
    "    feature_counter = defaultdict(int)\n",
    "    # Make sure `feature_counter` is being updated, not reinitialized:\n",
    "    feature_counter['is_OS'] += 5\n",
    "    feature_counter = directional_bag_of_words_featurizer(kbt, corpus, feature_counter)\n",
    "    expected = defaultdict(\n",
    "        int, {'is_OS':6,'a_OS':1,'webcomic_OS':1,'created_OS':1,'by_OS':1})\n",
    "    assert feature_counter == expected, \\\n",
    "        \"Expected:\\n{}\\nGot:\\n{}\".format(expected, feature_counter)"
   ]
  },
  {
   "cell_type": "code",
   "execution_count": 23,
   "metadata": {},
   "outputs": [],
   "source": [
    "if 'IS_GRADESCOPE_ENV' not in os.environ:\n",
    "    test_directional_bag_of_words_featurizer(corpus)"
   ]
  },
  {
   "cell_type": "markdown",
   "metadata": {},
   "source": [
    "### The part-of-speech tags of the \"middle\" words [1.5 points]\n",
    "\n",
    "Our corpus distribution contains part-of-speech (POS) tagged versions of the core text spans. Let's begin to explore whether there is information in these sequences, focusing on `middle_POS`.\n",
    "\n",
    "__To submit:__\n",
    "\n",
    "1. A feature function `middle_bigram_pos_tag_featurizer` that is just like `simple_bag_of_words_featurizer` except that it creates a feature for bigram POS sequences. For example, given \n",
    "\n",
    "  `The/DT dog/N napped/V`\n",
    "  \n",
    "   we obtain the list of bigram POS sequences\n",
    "  \n",
    "   `b = ['<s> DT', 'DT N', 'N V', 'V </s>']`. \n",
    "   \n",
    "   Of course, `middle_bigram_pos_tag_featurizer` should return count dictionaries defined in terms of such bigram POS lists, on the model of `simple_bag_of_words_featurizer`.  Don't forget the start and end tags, to model those environments properly! The included function `test_middle_bigram_pos_tag_featurizer` should help verify that you've done this correctly.\n",
    "\n",
    "2. A call to `rel_ext.experiment` with `middle_bigram_pos_tag_featurizer` as the only featurizer. (Aside from this, use all the default values for `rel_ext.experiment` as exemplified above in this notebook.)"
   ]
  },
  {
   "cell_type": "code",
   "execution_count": 24,
   "metadata": {
    "tags": []
   },
   "outputs": [
    {
     "output_type": "stream",
     "name": "stdout",
     "text": "relation              precision     recall    f-score    support       size\n------------------    ---------  ---------  ---------  ---------  ---------\nadjoins                   0.836      0.359      0.660        340       5716\nauthor                    0.720      0.318      0.575        509       5885\ncapital                   0.640      0.168      0.410         95       5471\ncontains                  0.750      0.596      0.713       3904       9280\nfilm_performance          0.700      0.443      0.627        766       6142\nfounders                  0.573      0.166      0.384        380       5756\ngenre                     0.683      0.165      0.419        170       5546\nhas_sibling               0.694      0.172      0.432        499       5875\nhas_spouse                0.777      0.258      0.554        594       5970\nis_a                      0.626      0.145      0.376        497       5873\nnationality               0.422      0.063      0.198        301       5677\nparents                   0.621      0.263      0.488        312       5688\nplace_of_birth            0.580      0.172      0.393        233       5609\nplace_of_death            0.455      0.063      0.202        159       5535\nprofession                0.694      0.138      0.384        247       5623\nworked_at                 0.455      0.103      0.271        242       5618\n------------------    ---------  ---------  ---------  ---------  ---------\nmacro-average             0.639      0.224      0.443       9248      95264\n"
    }
   ],
   "source": [
    "def middle_bigram_pos_tag_featurizer(kbt, corpus, feature_counter):\n",
    "\n",
    "    ##### YOUR CODE HERE\n",
    "    for ex in corpus.get_examples_for_entities(kbt.sbj, kbt.obj):\n",
    "        tags = get_tags(ex.middle_POS)\n",
    "        bigrams = get_tag_bigrams(tags)\n",
    "        for pos in bigrams:\n",
    "            feature_counter[pos] += 1\n",
    "    for ex in corpus.get_examples_for_entities(kbt.obj, kbt.sbj):\n",
    "        tags = get_tags(ex.middle_POS)\n",
    "        bigrams = get_tag_bigrams(tags)\n",
    "        for pos in bigrams:\n",
    "            feature_counter[pos] += 1\n",
    "\n",
    "    return feature_counter\n",
    "\n",
    "\n",
    "def get_tag_bigrams(s):\n",
    "    \"\"\"Suggested helper method for `middle_bigram_pos_tag_featurizer`.\n",
    "    This should be defined so that it returns a list of str, where each\n",
    "    element is a POS bigram.\"\"\"\n",
    "    # The values of `start_symbol` and `end_symbol` are defined\n",
    "    # here so that you can use `test_middle_bigram_pos_tag_featurizer`.\n",
    "    start_symbol = \"<s>\"\n",
    "    end_symbol = \"</s>\"\n",
    "\n",
    "    ##### YOUR CODE HERE\n",
    "    bigram_POS = []\n",
    "    if len(s) == 0:\n",
    "        return bigram_POS\n",
    "    \n",
    "    previous = start_symbol\n",
    "    for tag in s:\n",
    "        bigram_POS.append(previous + ' ' + tag)\n",
    "        previous = tag\n",
    "    bigram_POS.append(s[-1] + ' ' + end_symbol)\n",
    "    \n",
    "    return bigram_POS\n",
    "\n",
    "\n",
    "def get_tags(s):\n",
    "    \"\"\"Given a sequence of word/POS elements (lemmas), this function\n",
    "    returns a list containing just the POS elements, in order.\n",
    "    \"\"\"\n",
    "    return [parse_lem(lem)[1] for lem in s.strip().split(' ') if lem]\n",
    "\n",
    "\n",
    "def parse_lem(lem):\n",
    "    \"\"\"Helper method for parsing word/POS elements. It just splits\n",
    "    on the rightmost / and returns (word, POS) as a tuple of str.\"\"\"\n",
    "    return lem.strip().rsplit('/', 1)\n",
    "\n",
    "# Call to `rel_ext.experiment`:\n",
    "##### YOUR CODE HERE\n",
    "middle_bigram_pos_results = rel_ext.experiment(\n",
    "    splits,\n",
    "    train_split='train',\n",
    "    test_split='dev',\n",
    "    featurizers=[middle_bigram_pos_tag_featurizer],\n",
    "    model_factory=model_factory,\n",
    "    verbose=True)\n"
   ]
  },
  {
   "cell_type": "code",
   "execution_count": 25,
   "metadata": {},
   "outputs": [],
   "source": [
    "def test_middle_bigram_pos_tag_featurizer(corpus):\n",
    "    from collections import defaultdict\n",
    "    kbt = rel_ext.KBTriple(rel='worked_at', sbj='Randall_Munroe', obj='xkcd')\n",
    "    feature_counter = defaultdict(int)\n",
    "    # Make sure `feature_counter` is being updated, not reinitialized:\n",
    "    feature_counter['<s> VBZ'] += 5\n",
    "    feature_counter = middle_bigram_pos_tag_featurizer(kbt, corpus, feature_counter)\n",
    "    expected = defaultdict(\n",
    "        int, {'<s> VBZ':6,'VBZ DT':1,'DT JJ':1,'JJ VBN':1,'VBN IN':1,'IN </s>':1})\n",
    "    assert feature_counter == expected, \\\n",
    "        \"Expected:\\n{}\\nGot:\\n{}\".format(expected, feature_counter)"
   ]
  },
  {
   "cell_type": "code",
   "execution_count": 26,
   "metadata": {},
   "outputs": [],
   "source": [
    "if 'IS_GRADESCOPE_ENV' not in os.environ:\n",
    "    test_middle_bigram_pos_tag_featurizer(corpus)"
   ]
  },
  {
   "cell_type": "markdown",
   "metadata": {},
   "source": [
    "### Bag of Synsets [2 points]\n",
    "\n",
    "The following allows you to use NLTK's WordNet API to get the synsets compatible with _dog_ as used as a noun:\n",
    "\n",
    "```\n",
    "from nltk.corpus import wordnet as wn\n",
    "dog = wn.synsets('dog', pos='n')\n",
    "dog\n",
    "[Synset('dog.n.01'),\n",
    " Synset('frump.n.01'),\n",
    " Synset('dog.n.03'),\n",
    " Synset('cad.n.01'),\n",
    " Synset('frank.n.02'),\n",
    " Synset('pawl.n.01'),\n",
    " Synset('andiron.n.01')]\n",
    "```\n",
    "\n",
    "This question asks you to create synset-based features from the word/tag pairs in `middle_POS`.\n",
    "\n",
    "__To submit:__\n",
    "\n",
    "1. A feature function `synset_featurizer` that is just like `simple_bag_of_words_featurizer` except that it returns a list of synsets derived from `middle_POS`. Stringify these objects with `str` so that they can be `dict` keys. Use `convert_tag` (included below) to convert tags to `pos` arguments usable by `wn.synsets`. The included function `test_synset_featurizer` should help verify that you've done this correctly.\n",
    "\n",
    "2. A call to `rel_ext.experiment` with `synset_featurizer` as the only featurizer. (Aside from this, use all the default values for `rel_ext.experiment`.)"
   ]
  },
  {
   "cell_type": "code",
   "execution_count": 27,
   "metadata": {
    "tags": []
   },
   "outputs": [
    {
     "output_type": "stream",
     "name": "stdout",
     "text": "relation              precision     recall    f-score    support       size\n------------------    ---------  ---------  ---------  ---------  ---------\nadjoins                   0.807      0.344      0.636        340       5716\nauthor                    0.825      0.434      0.699        509       5885\ncapital                   0.558      0.305      0.479         95       5471\ncontains                  0.770      0.592      0.726       3904       9280\nfilm_performance          0.777      0.550      0.717        766       6142\nfounders                  0.811      0.374      0.657        380       5756\ngenre                     0.468      0.212      0.377        170       5546\nhas_sibling               0.863      0.214      0.538        499       5875\nhas_spouse                0.843      0.306      0.624        594       5970\nis_a                      0.634      0.237      0.475        497       5873\nnationality               0.494      0.130      0.316        301       5677\nparents                   0.837      0.542      0.754        312       5688\nplace_of_birth            0.547      0.202      0.407        233       5609\nplace_of_death            0.333      0.088      0.214        159       5535\nprofession                0.538      0.170      0.376        247       5623\nworked_at                 0.576      0.219      0.434        242       5618\n------------------    ---------  ---------  ---------  ---------  ---------\nmacro-average             0.667      0.307      0.527       9248      95264\n"
    }
   ],
   "source": [
    "from nltk.corpus import wordnet as wn\n",
    "\n",
    "def synset_featurizer(kbt, corpus, feature_counter):\n",
    "\n",
    "    ##### YOUR CODE HERE\n",
    "    for ex in corpus.get_examples_for_entities(kbt.sbj, kbt.obj):\n",
    "        synsets = get_synsets(ex.middle_POS)\n",
    "        for synset in synsets:\n",
    "            feature_counter[synset] += 1\n",
    "    for ex in corpus.get_examples_for_entities(kbt.obj, kbt.sbj):\n",
    "        synsets = get_synsets(ex.middle_POS)\n",
    "        for synset in synsets:\n",
    "            feature_counter[synset] += 1\n",
    "\n",
    "    return feature_counter\n",
    "\n",
    "\n",
    "def get_synsets(s):\n",
    "    \"\"\"Suggested helper method for `synset_featurizer`. This should\n",
    "    be completed so that it returns a list of stringified Synsets\n",
    "    associated with elements of `s`.\n",
    "    \"\"\"\n",
    "    # Use `parse_lem` from the previous question to get a list of\n",
    "    # (word, POS) pairs. Remember to convert the POS strings.\n",
    "    wt = [parse_lem(lem) for lem in s.strip().split(' ') if lem]\n",
    "    \n",
    "    ##### YOUR CODE HERE\n",
    "    synsets = []\n",
    "    for word, pos in wt:\n",
    "        for synset in wn.synsets(word, pos=convert_tag(pos)):\n",
    "            synsets.append(str(synset))\n",
    "    \n",
    "    return synsets\n",
    "\n",
    "\n",
    "def convert_tag(t):\n",
    "    \"\"\"Converts tags so that they can be used by WordNet:\n",
    "\n",
    "    | Tag begins with | WordNet tag |\n",
    "    |-----------------|-------------|\n",
    "    | `N`             | `n`         |\n",
    "    | `V`             | `v`         |\n",
    "    | `J`             | `a`         |\n",
    "    | `R`             | `r`         |\n",
    "    | Otherwise       | `None`      |\n",
    "    \"\"\"\n",
    "    if t[0].lower() in {'n', 'v', 'r'}:\n",
    "        return t[0].lower()\n",
    "    elif t[0].lower() == 'j':\n",
    "        return 'a'\n",
    "    else:\n",
    "        return None\n",
    "\n",
    "\n",
    "# Call to `rel_ext.experiment`:\n",
    "##### YOUR CODE HERE\n",
    "\n",
    "synset_results = rel_ext.experiment(\n",
    "    splits,\n",
    "    train_split='train',\n",
    "    test_split='dev',\n",
    "    featurizers=[synset_featurizer],\n",
    "    model_factory=model_factory,\n",
    "    verbose=True)\n"
   ]
  },
  {
   "cell_type": "code",
   "execution_count": 28,
   "metadata": {},
   "outputs": [],
   "source": [
    "def test_synset_featurizer(corpus):\n",
    "    from collections import defaultdict\n",
    "    kbt = rel_ext.KBTriple(rel='worked_at', sbj='Randall_Munroe', obj='xkcd')\n",
    "    feature_counter = defaultdict(int)\n",
    "    # Make sure `feature_counter` is being updated, not reinitialized:\n",
    "    feature_counter[\"Synset('be.v.01')\"] += 5\n",
    "    feature_counter = synset_featurizer(kbt, corpus, feature_counter)\n",
    "    # The full return values for this tend to be long, so we just\n",
    "    # test a few examples to avoid cluttering up this notebook.\n",
    "    test_cases = {\n",
    "        \"Synset('be.v.01')\": 6,\n",
    "        \"Synset('embody.v.02')\": 1\n",
    "    }\n",
    "    for ss, expected in test_cases.items():\n",
    "        result = feature_counter[ss]\n",
    "        assert result == expected, \\\n",
    "            \"Incorrect count for {}: Expected {}; Got {}\".format(ss, expected, result)"
   ]
  },
  {
   "cell_type": "code",
   "execution_count": 29,
   "metadata": {},
   "outputs": [],
   "source": [
    "if 'IS_GRADESCOPE_ENV' not in os.environ:\n",
    "    test_synset_featurizer(corpus)"
   ]
  },
  {
   "cell_type": "markdown",
   "metadata": {},
   "source": [
    "### Your original system [3 points]\n",
    "\n",
    "There are many options, and this could easily grow into a project. Here are a few ideas:\n",
    "\n",
    "- Try out different classifier models, from `sklearn` and elsewhere.\n",
    "- Add a feature that indicates the length of the middle.\n",
    "- Augment the bag-of-words representation to include bigrams or trigrams (not just unigrams).\n",
    "- Introduce features based on the entity mentions themselves. <!-- \\[SPOILER: it helps a lot, maybe 4% in F-score. And combines nicely with the directional features.\\] -->\n",
    "- Experiment with features based on the context outside (rather than between) the two entity mentions — that is, the words before the first mention, or after the second.\n",
    "- Try adding features which capture syntactic information, such as the dependency-path features used by Mintz et al. 2009. The [NLTK](https://www.nltk.org/) toolkit contains a variety of [parsing algorithms](http://www.nltk.org/api/nltk.parse.html) that may help.\n",
    "- The bag-of-words representation does not permit generalization across word categories such as names of people, places, or companies. Can we do better using word embeddings such as [GloVe](https://nlp.stanford.edu/projects/glove/)?\n",
    "\n",
    "In the cell below, please provide a brief technical description of your original system, so that the teaching team can gain an understanding of what it does. This will help us to understand your code and analyze all the submissions to identify patterns and strategies. We also ask that you report the best score your system got during development, just to help us understand how systems performed overall."
   ]
  },
  {
   "cell_type": "code",
   "execution_count": 30,
   "metadata": {},
   "outputs": [],
   "source": [
    "'''\n",
    "Helper functions for the original system. Run this cell before evaluating the orignal system.\n",
    "'''\n",
    "\n",
    "def dir_left_bag_of_words_featurizer(kbt, corpus, feature_counter):\n",
    "    prefix = \"left_\"\n",
    "    subject_object_suffix = \"_SO\"\n",
    "    object_subject_suffix = \"_OS\"\n",
    "\n",
    "    for ex in corpus.get_examples_for_entities(kbt.sbj, kbt.obj):\n",
    "        for word in ex.left.split(' '):\n",
    "            feature_counter[prefix + word + subject_object_suffix] += 1\n",
    "    for ex in corpus.get_examples_for_entities(kbt.obj, kbt.sbj):\n",
    "        for word in ex.left.split(' '):\n",
    "            feature_counter[prefix + word + object_subject_suffix] += 1\n",
    "\n",
    "    return feature_counter\n",
    "\n",
    "def dir_right_bag_of_words_featurizer(kbt, corpus, feature_counter):\n",
    "    prefix = \"right_\"\n",
    "    subject_object_suffix = \"_SO\"\n",
    "    object_subject_suffix = \"_OS\"\n",
    "\n",
    "    for ex in corpus.get_examples_for_entities(kbt.sbj, kbt.obj):\n",
    "        for word in ex.right.split(' '):\n",
    "            feature_counter[prefix + word + subject_object_suffix] += 1\n",
    "    for ex in corpus.get_examples_for_entities(kbt.obj, kbt.sbj):\n",
    "        for word in ex.right.split(' '):\n",
    "            feature_counter[prefix + word + object_subject_suffix] += 1\n",
    "\n",
    "    return feature_counter\n",
    "\n",
    "def middle_length_featurizer(kbt, corpus, feature_counter):\n",
    "    for ex in corpus.get_examples_for_entities(kbt.sbj, kbt.obj):\n",
    "        feature_counter[ex.middle] += len(ex.middle.split(' '))\n",
    "    for ex in corpus.get_examples_for_entities(kbt.obj, kbt.sbj):\n",
    "        feature_counter[ex.middle] += len(ex.middle.split(' '))\n",
    "    \n",
    "    return feature_counter\n",
    "\n",
    "def middle_trigram_pos_tag_featurizer(kbt, corpus, feature_counter):\n",
    "\n",
    "    for ex in corpus.get_examples_for_entities(kbt.sbj, kbt.obj):\n",
    "        tags = get_tags(ex.middle_POS)\n",
    "        trigrams = get_tag_trigrams(tags)\n",
    "        for pos in trigrams:\n",
    "            feature_counter[pos] += 1\n",
    "    for ex in corpus.get_examples_for_entities(kbt.obj, kbt.sbj):\n",
    "        tags = get_tags(ex.middle_POS)\n",
    "        trigrams = get_tag_trigrams(tags)\n",
    "        for pos in trigrams:\n",
    "            feature_counter[pos] += 1\n",
    "\n",
    "    return feature_counter\n",
    "\n",
    "\n",
    "def get_tag_trigrams(s):\n",
    "    # The values of `start_symbol` and `end_symbol` are defined\n",
    "    # here so that you can use `test_middle_bigram_pos_tag_featurizer`.\n",
    "    start_symbol = \"<s>\"\n",
    "    end_symbol = \"</s>\"\n",
    "\n",
    "    trigram_POS = []\n",
    "    if len(s) < 2:\n",
    "        return trigram_POS\n",
    "    \n",
    "    previous = start_symbol\n",
    "    for tag0,tag1 in zip(s[:-1], s[1:]):\n",
    "        trigram_POS.append(previous + ' ' + tag0 + ' ' + tag1)\n",
    "        previous = tag0\n",
    "    trigram_POS.append(s[-2] + ' ' + s[-1] + ' ' + end_symbol)\n",
    "    \n",
    "    return trigram_POS\n",
    "\n",
    "\n",
    "def get_tags(s):\n",
    "    \"\"\"Given a sequence of word/POS elements (lemmas), this function\n",
    "    returns a list containing just the POS elements, in order.\n",
    "    \"\"\"\n",
    "    return [parse_lem(lem)[1] for lem in s.strip().split(' ') if lem]\n",
    "\n",
    "\n",
    "def parse_lem(lem):\n",
    "    \"\"\"Helper method for parsing word/POS elements. It just splits\n",
    "    on the rightmost / and returns (word, POS) as a tuple of str.\"\"\"\n",
    "    return lem.strip().rsplit('/', 1)\n",
    "\n"
   ]
  },
  {
   "cell_type": "code",
   "execution_count": 31,
   "metadata": {
    "tags": []
   },
   "outputs": [
    {
     "output_type": "stream",
     "name": "stdout",
     "text": "relation              precision     recall    f-score    support       size\n------------------    ---------  ---------  ---------  ---------  ---------\nadjoins                   0.911      0.453      0.758        340       5716\nauthor                    0.839      0.770      0.825        509       5885\ncapital                   0.639      0.242      0.481         95       5471\ncontains                  0.850      0.768      0.833       3904       9280\nfilm_performance          0.834      0.721      0.808        766       6142\nfounders                  0.794      0.529      0.722        380       5756\ngenre                     0.800      0.376      0.653        170       5546\nhas_sibling               0.882      0.673      0.830        499       5875\nhas_spouse                0.796      0.678      0.770        594       5970\nis_a                      0.787      0.565      0.730        497       5873\nnationality               0.769      0.664      0.746        301       5677\nparents                   0.869      0.744      0.841        312       5688\nplace_of_birth            0.781      0.489      0.698        233       5609\nplace_of_death            0.691      0.409      0.607        159       5535\nprofession                0.783      0.526      0.714        247       5623\nworked_at                 0.851      0.331      0.647        242       5618\n------------------    ---------  ---------  ---------  ---------  ---------\nmacro-average             0.805      0.559      0.729       9248      95264\n"
    }
   ],
   "source": [
    "# PLEASE MAKE SURE TO INCLUDE THE FOLLOWING BETWEEN THE START AND STOP COMMENTS:\n",
    "#   1) Textual description of your system.\n",
    "#   2) The code for your original system.\n",
    "#   3) The score achieved by your system in place of MY_NUMBER.\n",
    "#        With no other changes to that line.\n",
    "#        You should report your score as a decimal value <=1.0\n",
    "# PLEASE MAKE SURE NOT TO DELETE OR EDIT THE START AND STOP COMMENTS\n",
    "\n",
    "# NOTE: MODULES, CODE AND DATASETS REQUIRED FOR YOUR ORIGINAL SYSTEM \n",
    "# SHOULD BE ADDED BELOW THE 'IS_GRADESCOPE_ENV' CHECK CONDITION. DOING\n",
    "# SO ABOVE THE CHECK MAY CAUSE THE AUTOGRADER TO FAIL.\n",
    "\n",
    "# START COMMENT: Enter your system description in this cell.\n",
    "# My system: lots of hand built features, as suggested in the hint: \n",
    "#       simple_bag_of_words_featurizer, \n",
    "#       directional_bag_of_words_featurizer, \n",
    "#       middle_bigram_pos_tag_featurizer,\n",
    "#       middle_trigram_pos_tag_featurizer,\n",
    "#       middle_length_featurizer,\n",
    "#       dir_left_bag_of_words_featurizer,\n",
    "#       dir_right_bag_of_words_featurizer,\n",
    "#       synset_featurizer\n",
    "# I also tried other ML models such as SVM with different kernels, which did not \n",
    "# help much with the default hyperparameters\n",
    "# My peak score was: 0.729\n",
    "if 'IS_GRADESCOPE_ENV' not in os.environ:\n",
    "    my_featurizers = [simple_bag_of_words_featurizer, \n",
    "                      directional_bag_of_words_featurizer, \n",
    "                      middle_bigram_pos_tag_featurizer,\n",
    "                      middle_trigram_pos_tag_featurizer,\n",
    "                      middle_length_featurizer,\n",
    "                      dir_left_bag_of_words_featurizer,\n",
    "                      dir_right_bag_of_words_featurizer,\n",
    "                      synset_featurizer]\n",
    "\n",
    "    my_results = rel_ext.experiment(\n",
    "                            splits,\n",
    "                            train_split='train',\n",
    "                            test_split='dev',\n",
    "                            featurizers=my_featurizers,\n",
    "                            model_factory=model_factory,\n",
    "                            verbose=True)\n",
    "\n",
    "# STOP COMMENT: Please do not remove this comment."
   ]
  },
  {
   "cell_type": "markdown",
   "metadata": {},
   "source": [
    "## Bake-off [1 point]\n",
    "\n",
    "For the bake-off, we will release a test set. The announcement will go out on the discussion forum. You will evaluate your custom model from the previous question on these new datasets using the function `rel_ext.bake_off_experiment`. Rules:\n",
    "\n",
    "1. Only one evaluation is permitted.\n",
    "1. No additional system tuning is permitted once the bake-off has started.\n",
    "\n",
    "The cells below this one constitute your bake-off entry.\n",
    "\n",
    "People who enter will receive the additional homework point, and people whose systems achieve the top score will receive an additional 0.5 points. We will test the top-performing systems ourselves, and only systems for which we can reproduce the reported results will win the extra 0.5 points.\n",
    "\n",
    "Late entries will be accepted, but they cannot earn the extra 0.5 points. Similarly, you cannot win the bake-off unless your homework is submitted on time.\n",
    "\n",
    "The announcement will include the details on where to submit your entry."
   ]
  },
  {
   "cell_type": "code",
   "execution_count": 34,
   "metadata": {
    "tags": []
   },
   "outputs": [
    {
     "output_type": "stream",
     "name": "stdout",
     "text": "relation              precision     recall    f-score    support       size\n------------------    ---------  ---------  ---------  ---------  ---------\nadjoins                   0.901      0.521      0.786        438       7122\nauthor                    0.873      0.758      0.847        645       7329\ncapital                   0.615      0.278      0.495        115       6799\ncontains                  0.831      0.754      0.814       3808      10492\nfilm_performance          0.868      0.740      0.839       1011       7695\nfounders                  0.773      0.574      0.723        444       7128\ngenre                     0.786      0.351      0.630        188       6872\nhas_sibling               0.883      0.676      0.832        717       7401\nhas_spouse                0.799      0.690      0.775        780       7464\nis_a                      0.744      0.527      0.687        611       7295\nnationality               0.753      0.587      0.712        383       7067\nparents                   0.914      0.749      0.876        427       7111\nplace_of_birth            0.827      0.509      0.735        291       6975\nplace_of_death            0.696      0.355      0.584        200       6884\nprofession                0.790      0.400      0.661        310       6994\nworked_at                 0.723      0.331      0.585        323       7007\n------------------    ---------  ---------  ---------  ---------  ---------\nmacro-average             0.798      0.550      0.724      10691     117635\n"
    }
   ],
   "source": [
    "# Enter your bake-off assessment code in this cell.\n",
    "# Please do not remove this comment.\n",
    "if 'IS_GRADESCOPE_ENV' not in os.environ:\n",
    "    pass\n",
    "    # Please enter your code in the scope of the above conditional.\n",
    "    ##### YOUR CODE HERE\n",
    "    rel_ext_data_home_test = os.path.join(rel_ext_data_home, 'bakeoff-rel_ext-test-data')\n",
    "    rel_ext.bake_off_experiment(my_results, rel_ext_data_home_test)\n",
    "\n",
    "\n"
   ]
  },
  {
   "cell_type": "code",
   "execution_count": 35,
   "metadata": {
    "tags": []
   },
   "outputs": [],
   "source": [
    "# On an otherwise blank line in this cell, please enter\n",
    "# your macro-average f-score (an F_0.5 score) as reported\n",
    "# by the code above. Please enter only a number between\n",
    "# 0 and 1 inclusive. Please do not remove this comment.\n",
    "if 'IS_GRADESCOPE_ENV' not in os.environ:\n",
    "    pass\n",
    "    # Please enter your score in the scope of the above conditional.\n",
    "    ##### YOUR CODE HERE\n",
    "    0.724"
   ]
  },
  {
   "cell_type": "code",
   "execution_count": null,
   "metadata": {},
   "outputs": [],
   "source": []
  }
 ],
 "metadata": {
  "kernelspec": {
   "display_name": "Python 3.7.6 64-bit ('nlu': conda)",
   "language": "python",
   "name": "python37664bitnluconda8e310cdb3a02413c901114f7d676bb7d"
  },
  "language_info": {
   "codemirror_mode": {
    "name": "ipython",
    "version": 3
   },
   "file_extension": ".py",
   "mimetype": "text/x-python",
   "name": "python",
   "nbconvert_exporter": "python",
   "pygments_lexer": "ipython3",
   "version": "3.7.6-final"
  },
  "widgets": {
   "state": {},
   "version": "1.1.2"
  }
 },
 "nbformat": 4,
 "nbformat_minor": 4
}