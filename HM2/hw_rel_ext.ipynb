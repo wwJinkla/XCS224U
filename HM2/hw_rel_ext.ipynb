{
 "cells": [
  {
   "cell_type": "markdown",
   "metadata": {},
   "source": [
    "# Homework and bake-off: Relation extraction using distant supervision"
   ]
  },
  {
   "cell_type": "code",
   "execution_count": 1,
   "metadata": {},
   "outputs": [],
   "source": [
    "__author__ = \"Bill MacCartney and Christopher Potts\"\n",
    "__version__ = \"CS224u, Stanford, Fall 2020\""
   ]
  },
  {
   "cell_type": "markdown",
   "metadata": {},
   "source": [
    "## Contents\n",
    "\n",
    "1. [Overview](#Overview)\n",
    "1. [Set-up](#Set-up)\n",
    "1. [Baselines](#Baselines)\n",
    "  1. [Hand-build feature functions](#Hand-build-feature-functions)\n",
    "  1. [Distributed representations](#Distributed-representations)\n",
    "1. [Homework questions](#Homework-questions)\n",
    "  1. [Different model factory [1 points]](#Different-model-factory-[1-points])\n",
    "  1. [Directional unigram features [1.5 points]](#Directional-unigram-features-[1.5-points])\n",
    "  1. [The part-of-speech tags of the \"middle\" words [1.5 points]](#The-part-of-speech-tags-of-the-\"middle\"-words-[1.5-points])\n",
    "  1. [Bag of Synsets [2 points]](#Bag-of-Synsets-[2-points])\n",
    "  1. [Your original system [3 points]](#Your-original-system-[3-points])\n",
    "1. [Bake-off [1 point]](#Bake-off-[1-point])"
   ]
  },
  {
   "cell_type": "markdown",
   "metadata": {},
   "source": [
    "## Overview\n",
    "\n",
    "This homework and associated bake-off are devoted to developing really effective relation extraction systems using distant supervision. \n",
    "\n",
    "As with the previous assignments, this notebook first establishes a baseline system. The initial homework questions ask you to create additional baselines and suggest areas for innovation, and the final homework question asks you to develop an original system for you to enter into the bake-off."
   ]
  },
  {
   "cell_type": "markdown",
   "metadata": {},
   "source": [
    "## Set-up\n",
    "\n",
    "See [the first notebook in this unit](rel_ext_01_task.ipynb#Set-up) for set-up instructions."
   ]
  },
  {
   "cell_type": "code",
   "execution_count": 2,
   "metadata": {},
   "outputs": [],
   "source": [
    "import numpy as np\n",
    "import os\n",
    "import rel_ext\n",
    "from sklearn.linear_model import LogisticRegression\n",
    "import utils"
   ]
  },
  {
   "cell_type": "markdown",
   "metadata": {},
   "source": [
    "As usual, we unite our corpus and KB into a dataset, and create some splits for experimentation:"
   ]
  },
  {
   "cell_type": "code",
   "execution_count": 3,
   "metadata": {},
   "outputs": [],
   "source": [
    "rel_ext_data_home = os.path.join('data', 'rel_ext_data')"
   ]
  },
  {
   "cell_type": "code",
   "execution_count": 4,
   "metadata": {},
   "outputs": [],
   "source": [
    "corpus = rel_ext.Corpus(os.path.join(rel_ext_data_home, 'corpus.tsv.gz'))"
   ]
  },
  {
   "cell_type": "code",
   "execution_count": 5,
   "metadata": {},
   "outputs": [],
   "source": [
    "kb = rel_ext.KB(os.path.join(rel_ext_data_home, 'kb.tsv.gz'))"
   ]
  },
  {
   "cell_type": "code",
   "execution_count": 6,
   "metadata": {},
   "outputs": [],
   "source": [
    "dataset = rel_ext.Dataset(corpus, kb)"
   ]
  },
  {
   "cell_type": "markdown",
   "metadata": {},
   "source": [
    "You are not wedded to this set-up for splits. The bake-off will be conducted on a previously unseen test-set, so all of the data in `dataset` is fair game:"
   ]
  },
  {
   "cell_type": "code",
   "execution_count": 7,
   "metadata": {},
   "outputs": [],
   "source": [
    "splits = dataset.build_splits(\n",
    "    split_names=['tiny', 'train', 'dev'],\n",
    "    split_fracs=[0.01, 0.79, 0.20],\n",
    "    seed=1)"
   ]
  },
  {
   "cell_type": "code",
   "execution_count": 8,
   "metadata": {},
   "outputs": [
    {
     "output_type": "execute_result",
     "data": {
      "text/plain": "{'tiny': Corpus with 3,474 examples; KB with 445 triples,\n 'train': Corpus with 263,285 examples; KB with 36,191 triples,\n 'dev': Corpus with 64,937 examples; KB with 9,248 triples,\n 'all': Corpus with 331,696 examples; KB with 45,884 triples}"
     },
     "metadata": {},
     "execution_count": 8
    }
   ],
   "source": [
    "splits"
   ]
  },
  {
   "cell_type": "markdown",
   "metadata": {},
   "source": [
    "## Baselines"
   ]
  },
  {
   "cell_type": "markdown",
   "metadata": {},
   "source": [
    "### Hand-build feature functions"
   ]
  },
  {
   "cell_type": "code",
   "execution_count": 9,
   "metadata": {},
   "outputs": [],
   "source": [
    "def simple_bag_of_words_featurizer(kbt, corpus, feature_counter):\n",
    "    for ex in corpus.get_examples_for_entities(kbt.sbj, kbt.obj):\n",
    "        for word in ex.middle.split(' '):\n",
    "            feature_counter[word] += 1\n",
    "    for ex in corpus.get_examples_for_entities(kbt.obj, kbt.sbj):\n",
    "        for word in ex.middle.split(' '):\n",
    "            feature_counter[word] += 1\n",
    "    return feature_counter"
   ]
  },
  {
   "cell_type": "code",
   "execution_count": 10,
   "metadata": {},
   "outputs": [],
   "source": [
    "featurizers = [simple_bag_of_words_featurizer]"
   ]
  },
  {
   "cell_type": "code",
   "execution_count": 11,
   "metadata": {},
   "outputs": [],
   "source": [
    "model_factory = lambda: LogisticRegression(fit_intercept=True, solver='liblinear')"
   ]
  },
  {
   "cell_type": "code",
   "execution_count": 12,
   "metadata": {
    "tags": []
   },
   "outputs": [
    {
     "output_type": "stream",
     "name": "stdout",
     "text": "relation              precision     recall    f-score    support       size\n------------------    ---------  ---------  ---------  ---------  ---------\nadjoins                   0.833      0.368      0.665        340       5716\nauthor                    0.794      0.538      0.725        509       5885\ncapital                   0.581      0.189      0.411         95       5471\ncontains                  0.795      0.597      0.746       3904       9280\nfilm_performance          0.796      0.559      0.733        766       6142\nfounders                  0.802      0.384      0.659        380       5756\ngenre                     0.634      0.153      0.389        170       5546\nhas_sibling               0.863      0.240      0.569        499       5875\nhas_spouse                0.869      0.325      0.651        594       5970\nis_a                      0.716      0.223      0.497        497       5873\nnationality               0.628      0.163      0.400        301       5677\nparents                   0.870      0.535      0.773        312       5688\nplace_of_birth            0.676      0.215      0.473        233       5609\nplace_of_death            0.516      0.101      0.283        159       5535\nprofession                0.648      0.186      0.433        247       5623\nworked_at                 0.729      0.256      0.533        242       5618\n------------------    ---------  ---------  ---------  ---------  ---------\nmacro-average             0.734      0.315      0.559       9248      95264\n"
    }
   ],
   "source": [
    "baseline_results = rel_ext.experiment(\n",
    "    splits,\n",
    "    train_split='train',\n",
    "    test_split='dev',\n",
    "    featurizers=featurizers,\n",
    "    model_factory=model_factory,\n",
    "    verbose=True)"
   ]
  },
  {
   "cell_type": "markdown",
   "metadata": {},
   "source": [
    "Studying model weights might yield insights:"
   ]
  },
  {
   "cell_type": "code",
   "execution_count": 13,
   "metadata": {
    "tags": []
   },
   "outputs": [
    {
     "output_type": "stream",
     "name": "stdout",
     "text": "Highest and lowest feature weights for relation adjoins:\n\n     2.547 Córdoba\n     2.453 Taluks\n     2.412 Valais\n     ..... .....\n    -1.421 thereby\n    -1.431 century\n    -1.499 America\n\nHighest and lowest feature weights for relation author:\n\n     2.905 author\n     2.864 books\n     2.636 book\n     ..... .....\n    -2.170 poetry\n    -2.234 directed\n    -2.285 Booker\n\nHighest and lowest feature weights for relation capital:\n\n     3.055 capital\n     1.878 km\n     1.776 town\n     ..... .....\n    -1.859 Madras\n    -2.247 Isfahan\n    -2.261 Province\n\nHighest and lowest feature weights for relation contains:\n\n     2.751 third-largest\n     2.295 bordered\n     2.214 reached\n     ..... .....\n    -2.458 who\n    -2.562 Lancashire\n    -3.411 6th\n\nHighest and lowest feature weights for relation film_performance:\n\n     4.071 starring\n     3.682 opposite\n     3.588 co-starring\n     ..... .....\n    -2.024 historical\n    -2.039 Wonderland\n    -2.296 spy\n\nHighest and lowest feature weights for relation founders:\n\n     3.845 founded\n     3.819 founder\n     2.559 co-founder\n     ..... .....\n    -1.712 Bauhaus\n    -1.887 William\n    -1.992 Griffith\n\nHighest and lowest feature weights for relation genre:\n\n     3.041 series\n     2.783 movie\n     2.621 album\n     ..... .....\n    -1.377 ;\n    -1.426 and\n    -1.786 at\n\nHighest and lowest feature weights for relation has_sibling:\n\n     5.008 brother\n     3.841 sister\n     2.906 nephew\n     ..... .....\n    -1.469 His\n    -1.805 Her\n    -2.026 formed\n\nHighest and lowest feature weights for relation has_spouse:\n\n     5.325 wife\n     4.566 husband\n     4.534 married\n     ..... .....\n    -1.306 on\n    -1.563 VIII\n    -1.597 grandson\n\nHighest and lowest feature weights for relation is_a:\n\n     2.972 genus\n     2.751 philosopher\n     2.555 \n     ..... .....\n    -1.458 now\n    -1.585 at\n    -3.221 Talpidae\n\nHighest and lowest feature weights for relation nationality:\n\n     2.843 born\n     1.901 Pinky\n     1.897 caliph\n     ..... .....\n    -1.471 foreign\n    -1.586 province\n    -1.768 American\n\nHighest and lowest feature weights for relation parents:\n\n     4.936 son\n     4.619 daughter\n     4.230 father\n     ..... .....\n    -1.606 Mehta\n    -1.606 Mehli\n    -2.602 VIII\n\nHighest and lowest feature weights for relation place_of_birth:\n\n     4.007 born\n     2.849 birthplace\n     1.988 b\n     ..... .....\n    -1.342 raised\n    -1.489 and\n    -1.662 province\n\nHighest and lowest feature weights for relation place_of_death:\n\n     2.315 died\n     1.940 rebuilt\n     1.878 where\n     ..... .....\n    -1.259 and\n    -1.265 destroyed\n    -1.468 Siege\n\nHighest and lowest feature weights for relation profession:\n\n     3.022 \n     2.806 philosopher\n     2.426 American\n     ..... .....\n    -1.245 at\n    -1.253 in\n    -2.155 on\n\nHighest and lowest feature weights for relation worked_at:\n\n     3.124 professor\n     2.848 CEO\n     2.789 employee\n     ..... .....\n    -1.336 province\n    -1.446 bassist\n    -1.576 or\n\n"
    }
   ],
   "source": [
    "rel_ext.examine_model_weights(baseline_results)"
   ]
  },
  {
   "cell_type": "markdown",
   "metadata": {},
   "source": [
    "### Distributed representations\n",
    "\n",
    "This simple baseline sums the GloVe vector representations for all of the words in the \"middle\" span and feeds those representations into the standard `LogisticRegression`-based `model_factory`. The crucial parameter that enables this is `vectorize=False`. This essentially says to `rel_ext.experiment` that your featurizer or your model will do the work of turning examples into vectors; in that case, `rel_ext.experiment` just organizes these representations by relation type."
   ]
  },
  {
   "cell_type": "code",
   "execution_count": 14,
   "metadata": {},
   "outputs": [],
   "source": [
    "GLOVE_HOME = os.path.join('data', 'glove.6B')"
   ]
  },
  {
   "cell_type": "code",
   "execution_count": 15,
   "metadata": {},
   "outputs": [],
   "source": [
    "glove_lookup = utils.glove2dict(\n",
    "    os.path.join(GLOVE_HOME, 'glove.6B.300d.txt'))"
   ]
  },
  {
   "cell_type": "code",
   "execution_count": 16,
   "metadata": {},
   "outputs": [],
   "source": [
    "def glove_middle_featurizer(kbt, corpus, np_func=np.sum):\n",
    "    reps = []\n",
    "    for ex in corpus.get_examples_for_entities(kbt.sbj, kbt.obj):\n",
    "        for word in ex.middle.split():\n",
    "            rep = glove_lookup.get(word)\n",
    "            if rep is not None:\n",
    "                reps.append(rep)\n",
    "    # A random representation of the right dimensionality if the\n",
    "    # example happens not to overlap with GloVe's vocabulary:\n",
    "    if len(reps) == 0:\n",
    "        dim = len(next(iter(glove_lookup.values())))\n",
    "        return utils.randvec(n=dim)\n",
    "    else:\n",
    "        return np_func(reps, axis=0)"
   ]
  },
  {
   "cell_type": "code",
   "execution_count": 17,
   "metadata": {
    "tags": []
   },
   "outputs": [
    {
     "output_type": "stream",
     "name": "stdout",
     "text": "relation              precision     recall    f-score    support       size\n------------------    ---------  ---------  ---------  ---------  ---------\nadjoins                   0.835      0.462      0.719        340       5716\nauthor                    0.810      0.418      0.682        509       5885\ncapital                   0.576      0.200      0.419         95       5471\ncontains                  0.663      0.404      0.588       3904       9280\nfilm_performance          0.846      0.315      0.632        766       6142\nfounders                  0.772      0.232      0.526        380       5756\ngenre                     0.524      0.065      0.217        170       5546\nhas_sibling               0.822      0.251      0.565        499       5875\nhas_spouse                0.849      0.350      0.661        594       5970\nis_a                      0.702      0.147      0.400        497       5873\nnationality               0.677      0.209      0.468        301       5677\nparents                   0.884      0.417      0.722        312       5688\nplace_of_birth            0.794      0.215      0.515        233       5609\nplace_of_death            0.514      0.113      0.301        159       5535\nprofession                0.576      0.138      0.352        247       5623\nworked_at                 0.723      0.281      0.550        242       5618\n------------------    ---------  ---------  ---------  ---------  ---------\nmacro-average             0.723      0.263      0.520       9248      95264\n"
    }
   ],
   "source": [
    "glove_results = rel_ext.experiment(\n",
    "    splits,\n",
    "    train_split='train',\n",
    "    test_split='dev',\n",
    "    featurizers=[glove_middle_featurizer],\n",
    "    vectorize=False, # Crucial for this featurizer!\n",
    "    verbose=True)"
   ]
  },
  {
   "cell_type": "markdown",
   "metadata": {},
   "source": [
    "With the same basic code design, one can also use the PyTorch models included in the course repo, or write new ones that are better aligned with the task. For those models, it's likely that the featurizer will just return a list of tokens (or perhaps a list of lists of tokens), and the model will map those into vectors using an embedding."
   ]
  },
  {
   "cell_type": "markdown",
   "metadata": {},
   "source": [
    "## Homework questions\n",
    "\n",
    "Please embed your homework responses in this notebook, and do not delete any cells from the notebook. (You are free to add as many cells as you like as part of your responses.)"
   ]
  },
  {
   "cell_type": "markdown",
   "metadata": {},
   "source": [
    "### Different model factory [1 points]\n",
    "\n",
    "The code in `rel_ext` makes it very easy to experiment with other classifier models: one need only redefine the `model_factory` argument. This question asks you to assess a [Support Vector Classifier](https://scikit-learn.org/stable/modules/generated/sklearn.svm.SVC.html).\n",
    "\n",
    "__To submit:__ A wrapper function `run_svm_model_factory` that does the following: \n",
    "\n",
    "1. Uses `rel_ext.experiment` with the model factory set to one based in an `SVC` with `kernel='linear'` and all other arguments left with default values. \n",
    "1. Trains on the 'train' part of `splits`.\n",
    "1. Assesses on the `dev` part of `splits`.\n",
    "1. Uses `featurizers` as defined above. \n",
    "1. Returns the return value of `rel_ext.experiment` for this set-up.\n",
    "\n",
    "The function `test_run_svm_model_factory` will check that your function conforms to these general specifications."
   ]
  },
  {
   "cell_type": "code",
   "execution_count": 18,
   "metadata": {},
   "outputs": [],
   "source": [
    "def run_svm_model_factory():\n",
    "    from sklearn.svm import SVC\n",
    "    svm_results = rel_ext.experiment(\n",
    "                        splits,\n",
    "                        train_split='train',\n",
    "                        test_split='dev',\n",
    "                        featurizers=featurizers,\n",
    "                        model_factory=lambda: SVC(kernel='linear'),\n",
    "                        verbose=True)\n",
    "    return svm_results\n",
    "\n"
   ]
  },
  {
   "cell_type": "code",
   "execution_count": 19,
   "metadata": {},
   "outputs": [],
   "source": [
    "def test_run_svm_model_factory(run_svm_model_factory):\n",
    "    results = run_svm_model_factory()\n",
    "    assert 'featurizers' in results, \\\n",
    "        \"The return value of `run_svm_model_factory` seems not to be correct\"\n",
    "    # Check one of the models to make sure it's an SVC:\n",
    "    assert 'SVC' in results['models']['adjoins'].__class__.__name__, \\\n",
    "        \"It looks like the model factor wasn't set to use an SVC.\""
   ]
  },
  {
   "cell_type": "code",
   "execution_count": 20,
   "metadata": {
    "tags": []
   },
   "outputs": [
    {
     "output_type": "stream",
     "name": "stdout",
     "text": "relation              precision     recall    f-score    support       size\n------------------    ---------  ---------  ---------  ---------  ---------\nadjoins                   0.799      0.338      0.628        340       5716\nauthor                    0.742      0.599      0.708        509       5885\ncapital                   0.771      0.284      0.574         95       5471\ncontains                  0.781      0.606      0.738       3904       9280\nfilm_performance          0.753      0.614      0.720        766       6142\nfounders                  0.728      0.437      0.642        380       5756\ngenre                     0.613      0.288      0.500        170       5546\nhas_sibling               0.817      0.232      0.544        499       5875\nhas_spouse                0.849      0.342      0.655        594       5970\nis_a                      0.632      0.260      0.491        497       5873\nnationality               0.589      0.186      0.411        301       5677\nparents                   0.824      0.599      0.766        312       5688\nplace_of_birth            0.675      0.232      0.488        233       5609\nplace_of_death            0.410      0.101      0.254        159       5535\nprofession                0.576      0.215      0.431        247       5623\nworked_at                 0.676      0.310      0.547        242       5618\n------------------    ---------  ---------  ---------  ---------  ---------\nmacro-average             0.702      0.353      0.569       9248      95264\n"
    }
   ],
   "source": [
    "if 'IS_GRADESCOPE_ENV' not in os.environ:\n",
    "    test_run_svm_model_factory(run_svm_model_factory)"
   ]
  },
  {
   "cell_type": "markdown",
   "metadata": {},
   "source": [
    "### Directional unigram features [1.5 points]\n",
    "\n",
    "The current bag-of-words representation makes no distinction between \"forward\" and \"reverse\" examples. But, intuitively, there is big difference between _X and his son Y_ and _Y and his son X_. This question asks you to modify `simple_bag_of_words_featurizer` to capture these differences. \n",
    "\n",
    "__To submit:__\n",
    "\n",
    "1. A feature function `directional_bag_of_words_featurizer` that is just like `simple_bag_of_words_featurizer` except that it distinguishes \"forward\" and \"reverse\". To do this, you just need to mark each word feature for whether it is derived from a subject–object example or from an object–subject example.  The included function `test_directional_bag_of_words_featurizer` should help verify that you've done this correctly.\n",
    "\n",
    "2. A call to `rel_ext.experiment` with `directional_bag_of_words_featurizer` as the only featurizer. (Aside from this, use all the default values for `rel_ext.experiment` as exemplified above in this notebook.)\n",
    "\n",
    "3. `rel_ext.experiment` returns some of the core objects used in the experiment. How many feature names does the `vectorizer` have for the experiment run in the previous step? Include the code needed for getting this value. (Note: we're partly asking you to figure out how to get this value by using the sklearn documentation, so please don't ask how to do it!)"
   ]
  },
  {
   "cell_type": "code",
   "execution_count": 21,
   "metadata": {
    "tags": []
   },
   "outputs": [
    {
     "output_type": "stream",
     "name": "stdout",
     "text": "relation              precision     recall    f-score    support       size\n------------------    ---------  ---------  ---------  ---------  ---------\nadjoins                   0.850      0.418      0.704        340       5716\nauthor                    0.853      0.583      0.781        509       5885\ncapital                   0.733      0.232      0.512         95       5471\ncontains                  0.831      0.644      0.785       3904       9280\nfilm_performance          0.843      0.646      0.795        766       6142\nfounders                  0.862      0.395      0.697        380       5756\ngenre                     0.789      0.265      0.565        170       5546\nhas_sibling               0.841      0.255      0.576        499       5875\nhas_spouse                0.874      0.352      0.674        594       5970\nis_a                      0.717      0.239      0.512        497       5873\nnationality               0.643      0.209      0.455        301       5677\nparents                   0.899      0.513      0.781        312       5688\nplace_of_birth            0.747      0.240      0.525        233       5609\nplace_of_death            0.585      0.151      0.372        159       5535\nprofession                0.767      0.227      0.519        247       5623\nworked_at                 0.753      0.277      0.560        242       5618\n------------------    ---------  ---------  ---------  ---------  ---------\nmacro-average             0.787      0.353      0.613       9248      95264\nNumber of feature names: 40392\n"
    }
   ],
   "source": [
    "def directional_bag_of_words_featurizer(kbt, corpus, feature_counter):\n",
    "    # Append these to the end of the keys you add/access in\n",
    "    # `feature_counter` to distinguish the two orders. You'll\n",
    "    # need to use exactly these strings in order to pass\n",
    "    # `test_directional_bag_of_words_featurizer`.\n",
    "    subject_object_suffix = \"_SO\"\n",
    "    object_subject_suffix = \"_OS\"\n",
    "\n",
    "    ##### YOUR CODE HERE\n",
    "    for ex in corpus.get_examples_for_entities(kbt.sbj, kbt.obj):\n",
    "        for word in ex.middle.split(' '):\n",
    "            feature_counter[word + subject_object_suffix] += 1\n",
    "    for ex in corpus.get_examples_for_entities(kbt.obj, kbt.sbj):\n",
    "        for word in ex.middle.split(' '):\n",
    "            feature_counter[word + object_subject_suffix] += 1\n",
    "\n",
    "    return feature_counter\n",
    "\n",
    "\n",
    "# Call to `rel_ext.experiment`:\n",
    "##### YOUR CODE HERE\n",
    "\n",
    "directional_bog_results = rel_ext.experiment(\n",
    "    splits,\n",
    "    train_split='train',\n",
    "    test_split='dev',\n",
    "    featurizers=[directional_bag_of_words_featurizer],\n",
    "    model_factory=model_factory,\n",
    "    verbose=True)\n",
    "\n",
    "print(\"Number of feature names: {}\".format(len(directional_bog_results['vectorizer'].get_feature_names())))\n"
   ]
  },
  {
   "cell_type": "code",
   "execution_count": 22,
   "metadata": {},
   "outputs": [],
   "source": [
    "def test_directional_bag_of_words_featurizer(corpus):\n",
    "    from collections import defaultdict\n",
    "    kbt = rel_ext.KBTriple(rel='worked_at', sbj='Randall_Munroe', obj='xkcd')\n",
    "    feature_counter = defaultdict(int)\n",
    "    # Make sure `feature_counter` is being updated, not reinitialized:\n",
    "    feature_counter['is_OS'] += 5\n",
    "    feature_counter = directional_bag_of_words_featurizer(kbt, corpus, feature_counter)\n",
    "    expected = defaultdict(\n",
    "        int, {'is_OS':6,'a_OS':1,'webcomic_OS':1,'created_OS':1,'by_OS':1})\n",
    "    assert feature_counter == expected, \\\n",
    "        \"Expected:\\n{}\\nGot:\\n{}\".format(expected, feature_counter)"
   ]
  },
  {
   "cell_type": "code",
   "execution_count": 23,
   "metadata": {},
   "outputs": [],
   "source": [
    "if 'IS_GRADESCOPE_ENV' not in os.environ:\n",
    "    test_directional_bag_of_words_featurizer(corpus)"
   ]
  },
  {
   "cell_type": "markdown",
   "metadata": {},
   "source": [
    "### The part-of-speech tags of the \"middle\" words [1.5 points]\n",
    "\n",
    "Our corpus distribution contains part-of-speech (POS) tagged versions of the core text spans. Let's begin to explore whether there is information in these sequences, focusing on `middle_POS`.\n",
    "\n",
    "__To submit:__\n",
    "\n",
    "1. A feature function `middle_bigram_pos_tag_featurizer` that is just like `simple_bag_of_words_featurizer` except that it creates a feature for bigram POS sequences. For example, given \n",
    "\n",
    "  `The/DT dog/N napped/V`\n",
    "  \n",
    "   we obtain the list of bigram POS sequences\n",
    "  \n",
    "   `b = ['<s> DT', 'DT N', 'N V', 'V </s>']`. \n",
    "   \n",
    "   Of course, `middle_bigram_pos_tag_featurizer` should return count dictionaries defined in terms of such bigram POS lists, on the model of `simple_bag_of_words_featurizer`.  Don't forget the start and end tags, to model those environments properly! The included function `test_middle_bigram_pos_tag_featurizer` should help verify that you've done this correctly.\n",
    "\n",
    "2. A call to `rel_ext.experiment` with `middle_bigram_pos_tag_featurizer` as the only featurizer. (Aside from this, use all the default values for `rel_ext.experiment` as exemplified above in this notebook.)"
   ]
  },
  {
   "cell_type": "code",
   "execution_count": 24,
   "metadata": {
    "tags": []
   },
   "outputs": [
    {
     "output_type": "stream",
     "name": "stdout",
     "text": "relation              precision     recall    f-score    support       size\n------------------    ---------  ---------  ---------  ---------  ---------\nadjoins                   0.806      0.329      0.625        340       5716\nauthor                    0.795      0.328      0.619        509       5885\ncapital                   0.621      0.189      0.427         95       5471\ncontains                  0.757      0.583      0.714       3904       9280\nfilm_performance          0.746      0.448      0.658        766       6142\nfounders                  0.640      0.168      0.410        380       5756\ngenre                     0.643      0.159      0.399        170       5546\nhas_sibling               0.683      0.168      0.424        499       5875\nhas_spouse                0.745      0.261      0.543        594       5970\nis_a                      0.589      0.153      0.375        497       5873\nnationality               0.407      0.073      0.213        301       5677\nparents                   0.667      0.282      0.524        312       5688\nplace_of_birth            0.564      0.133      0.342        233       5609\nplace_of_death            0.478      0.069      0.219        159       5535\nprofession                0.692      0.146      0.396        247       5623\nworked_at                 0.547      0.120      0.319        242       5618\n------------------    ---------  ---------  ---------  ---------  ---------\nmacro-average             0.649      0.226      0.451       9248      95264\n"
    }
   ],
   "source": [
    "def middle_bigram_pos_tag_featurizer(kbt, corpus, feature_counter):\n",
    "\n",
    "    ##### YOUR CODE HERE\n",
    "    for ex in corpus.get_examples_for_entities(kbt.sbj, kbt.obj):\n",
    "        tags = get_tags(ex.middle_POS)\n",
    "        bigrams = get_tag_bigrams(tags)\n",
    "        for pos in bigrams:\n",
    "            feature_counter[pos] += 1\n",
    "    for ex in corpus.get_examples_for_entities(kbt.obj, kbt.sbj):\n",
    "        tags = get_tags(ex.middle_POS)\n",
    "        bigrams = get_tag_bigrams(tags)\n",
    "        for pos in bigrams:\n",
    "            feature_counter[pos] += 1\n",
    "\n",
    "    return feature_counter\n",
    "\n",
    "\n",
    "def get_tag_bigrams(s):\n",
    "    \"\"\"Suggested helper method for `middle_bigram_pos_tag_featurizer`.\n",
    "    This should be defined so that it returns a list of str, where each\n",
    "    element is a POS bigram.\"\"\"\n",
    "    # The values of `start_symbol` and `end_symbol` are defined\n",
    "    # here so that you can use `test_middle_bigram_pos_tag_featurizer`.\n",
    "    start_symbol = \"<s>\"\n",
    "    end_symbol = \"</s>\"\n",
    "\n",
    "    ##### YOUR CODE HERE\n",
    "    bigram_POS = []\n",
    "    if len(s) == 0:\n",
    "        return bigram_POS\n",
    "    \n",
    "    previous = start_symbol\n",
    "    for tag in s:\n",
    "        bigram_POS.append(previous + ' ' + tag)\n",
    "        previous = tag\n",
    "    bigram_POS.append(s[-1] + ' ' + end_symbol)\n",
    "    \n",
    "    return bigram_POS\n",
    "\n",
    "\n",
    "def get_tags(s):\n",
    "    \"\"\"Given a sequence of word/POS elements (lemmas), this function\n",
    "    returns a list containing just the POS elements, in order.\n",
    "    \"\"\"\n",
    "    return [parse_lem(lem)[1] for lem in s.strip().split(' ') if lem]\n",
    "\n",
    "\n",
    "def parse_lem(lem):\n",
    "    \"\"\"Helper method for parsing word/POS elements. It just splits\n",
    "    on the rightmost / and returns (word, POS) as a tuple of str.\"\"\"\n",
    "    return lem.strip().rsplit('/', 1)\n",
    "\n",
    "# Call to `rel_ext.experiment`:\n",
    "##### YOUR CODE HERE\n",
    "middle_bigram_pos_results = rel_ext.experiment(\n",
    "    splits,\n",
    "    train_split='train',\n",
    "    test_split='dev',\n",
    "    featurizers=[middle_bigram_pos_tag_featurizer],\n",
    "    model_factory=model_factory,\n",
    "    verbose=True)\n"
   ]
  },
  {
   "cell_type": "code",
   "execution_count": 25,
   "metadata": {},
   "outputs": [],
   "source": [
    "def test_middle_bigram_pos_tag_featurizer(corpus):\n",
    "    from collections import defaultdict\n",
    "    kbt = rel_ext.KBTriple(rel='worked_at', sbj='Randall_Munroe', obj='xkcd')\n",
    "    feature_counter = defaultdict(int)\n",
    "    # Make sure `feature_counter` is being updated, not reinitialized:\n",
    "    feature_counter['<s> VBZ'] += 5\n",
    "    feature_counter = middle_bigram_pos_tag_featurizer(kbt, corpus, feature_counter)\n",
    "    expected = defaultdict(\n",
    "        int, {'<s> VBZ':6,'VBZ DT':1,'DT JJ':1,'JJ VBN':1,'VBN IN':1,'IN </s>':1})\n",
    "    assert feature_counter == expected, \\\n",
    "        \"Expected:\\n{}\\nGot:\\n{}\".format(expected, feature_counter)"
   ]
  },
  {
   "cell_type": "code",
   "execution_count": 26,
   "metadata": {},
   "outputs": [],
   "source": [
    "if 'IS_GRADESCOPE_ENV' not in os.environ:\n",
    "    test_middle_bigram_pos_tag_featurizer(corpus)"
   ]
  },
  {
   "cell_type": "markdown",
   "metadata": {},
   "source": [
    "### Bag of Synsets [2 points]\n",
    "\n",
    "The following allows you to use NLTK's WordNet API to get the synsets compatible with _dog_ as used as a noun:\n",
    "\n",
    "```\n",
    "from nltk.corpus import wordnet as wn\n",
    "dog = wn.synsets('dog', pos='n')\n",
    "dog\n",
    "[Synset('dog.n.01'),\n",
    " Synset('frump.n.01'),\n",
    " Synset('dog.n.03'),\n",
    " Synset('cad.n.01'),\n",
    " Synset('frank.n.02'),\n",
    " Synset('pawl.n.01'),\n",
    " Synset('andiron.n.01')]\n",
    "```\n",
    "\n",
    "This question asks you to create synset-based features from the word/tag pairs in `middle_POS`.\n",
    "\n",
    "__To submit:__\n",
    "\n",
    "1. A feature function `synset_featurizer` that is just like `simple_bag_of_words_featurizer` except that it returns a list of synsets derived from `middle_POS`. Stringify these objects with `str` so that they can be `dict` keys. Use `convert_tag` (included below) to convert tags to `pos` arguments usable by `wn.synsets`. The included function `test_synset_featurizer` should help verify that you've done this correctly.\n",
    "\n",
    "2. A call to `rel_ext.experiment` with `synset_featurizer` as the only featurizer. (Aside from this, use all the default values for `rel_ext.experiment`.)"
   ]
  },
  {
   "cell_type": "code",
   "execution_count": 27,
   "metadata": {
    "tags": []
   },
   "outputs": [
    {
     "output_type": "stream",
     "name": "stdout",
     "text": "relation              precision     recall    f-score    support       size\n------------------    ---------  ---------  ---------  ---------  ---------\nadjoins                   0.818      0.318      0.622        340       5716\nauthor                    0.769      0.444      0.671        509       5885\ncapital                   0.586      0.179      0.403         95       5471\ncontains                  0.802      0.587      0.747       3904       9280\nfilm_performance          0.801      0.552      0.735        766       6142\nfounders                  0.722      0.376      0.610        380       5756\ngenre                     0.535      0.224      0.419        170       5546\nhas_sibling               0.817      0.214      0.523        499       5875\nhas_spouse                0.863      0.308      0.635        594       5970\nis_a                      0.671      0.229      0.484        497       5873\nnationality               0.512      0.143      0.338        301       5677\nparents                   0.828      0.526      0.743        312       5688\nplace_of_birth            0.571      0.206      0.422        233       5609\nplace_of_death            0.391      0.113      0.262        159       5535\nprofession                0.551      0.174      0.385        247       5623\nworked_at                 0.674      0.240      0.495        242       5618\n------------------    ---------  ---------  ---------  ---------  ---------\nmacro-average             0.682      0.302      0.531       9248      95264\n"
    }
   ],
   "source": [
    "from nltk.corpus import wordnet as wn\n",
    "\n",
    "def synset_featurizer(kbt, corpus, feature_counter):\n",
    "\n",
    "    ##### YOUR CODE HERE\n",
    "    for ex in corpus.get_examples_for_entities(kbt.sbj, kbt.obj):\n",
    "        synsets = get_synsets(ex.middle_POS)\n",
    "        for synset in synsets:\n",
    "            feature_counter[synset] += 1\n",
    "    for ex in corpus.get_examples_for_entities(kbt.obj, kbt.sbj):\n",
    "        synsets = get_synsets(ex.middle_POS)\n",
    "        for synset in synsets:\n",
    "            feature_counter[synset] += 1\n",
    "\n",
    "    return feature_counter\n",
    "\n",
    "\n",
    "def get_synsets(s):\n",
    "    \"\"\"Suggested helper method for `synset_featurizer`. This should\n",
    "    be completed so that it returns a list of stringified Synsets\n",
    "    associated with elements of `s`.\n",
    "    \"\"\"\n",
    "    # Use `parse_lem` from the previous question to get a list of\n",
    "    # (word, POS) pairs. Remember to convert the POS strings.\n",
    "    wt = [parse_lem(lem) for lem in s.strip().split(' ') if lem]\n",
    "    \n",
    "    ##### YOUR CODE HERE\n",
    "    synsets = []\n",
    "    for word, pos in wt:\n",
    "        for synset in wn.synsets(word, pos=convert_tag(pos)):\n",
    "            synsets.append(str(synset))\n",
    "    \n",
    "    return synsets\n",
    "\n",
    "\n",
    "def convert_tag(t):\n",
    "    \"\"\"Converts tags so that they can be used by WordNet:\n",
    "\n",
    "    | Tag begins with | WordNet tag |\n",
    "    |-----------------|-------------|\n",
    "    | `N`             | `n`         |\n",
    "    | `V`             | `v`         |\n",
    "    | `J`             | `a`         |\n",
    "    | `R`             | `r`         |\n",
    "    | Otherwise       | `None`      |\n",
    "    \"\"\"\n",
    "    if t[0].lower() in {'n', 'v', 'r'}:\n",
    "        return t[0].lower()\n",
    "    elif t[0].lower() == 'j':\n",
    "        return 'a'\n",
    "    else:\n",
    "        return None\n",
    "\n",
    "\n",
    "# Call to `rel_ext.experiment`:\n",
    "##### YOUR CODE HERE\n",
    "\n",
    "synset_results = rel_ext.experiment(\n",
    "    splits,\n",
    "    train_split='train',\n",
    "    test_split='dev',\n",
    "    featurizers=[synset_featurizer],\n",
    "    model_factory=model_factory,\n",
    "    verbose=True)\n"
   ]
  },
  {
   "cell_type": "code",
   "execution_count": 28,
   "metadata": {},
   "outputs": [],
   "source": [
    "def test_synset_featurizer(corpus):\n",
    "    from collections import defaultdict\n",
    "    kbt = rel_ext.KBTriple(rel='worked_at', sbj='Randall_Munroe', obj='xkcd')\n",
    "    feature_counter = defaultdict(int)\n",
    "    # Make sure `feature_counter` is being updated, not reinitialized:\n",
    "    feature_counter[\"Synset('be.v.01')\"] += 5\n",
    "    feature_counter = synset_featurizer(kbt, corpus, feature_counter)\n",
    "    # The full return values for this tend to be long, so we just\n",
    "    # test a few examples to avoid cluttering up this notebook.\n",
    "    test_cases = {\n",
    "        \"Synset('be.v.01')\": 6,\n",
    "        \"Synset('embody.v.02')\": 1\n",
    "    }\n",
    "    for ss, expected in test_cases.items():\n",
    "        result = feature_counter[ss]\n",
    "        assert result == expected, \\\n",
    "            \"Incorrect count for {}: Expected {}; Got {}\".format(ss, expected, result)"
   ]
  },
  {
   "cell_type": "code",
   "execution_count": 29,
   "metadata": {},
   "outputs": [],
   "source": [
    "if 'IS_GRADESCOPE_ENV' not in os.environ:\n",
    "    test_synset_featurizer(corpus)"
   ]
  },
  {
   "cell_type": "markdown",
   "metadata": {},
   "source": [
    "### Your original system [3 points]\n",
    "\n",
    "There are many options, and this could easily grow into a project. Here are a few ideas:\n",
    "\n",
    "- Try out different classifier models, from `sklearn` and elsewhere.\n",
    "- Add a feature that indicates the length of the middle.\n",
    "- Augment the bag-of-words representation to include bigrams or trigrams (not just unigrams).\n",
    "- Introduce features based on the entity mentions themselves. <!-- \\[SPOILER: it helps a lot, maybe 4% in F-score. And combines nicely with the directional features.\\] -->\n",
    "- Experiment with features based on the context outside (rather than between) the two entity mentions — that is, the words before the first mention, or after the second.\n",
    "- Try adding features which capture syntactic information, such as the dependency-path features used by Mintz et al. 2009. The [NLTK](https://www.nltk.org/) toolkit contains a variety of [parsing algorithms](http://www.nltk.org/api/nltk.parse.html) that may help.\n",
    "- The bag-of-words representation does not permit generalization across word categories such as names of people, places, or companies. Can we do better using word embeddings such as [GloVe](https://nlp.stanford.edu/projects/glove/)?\n",
    "\n",
    "In the cell below, please provide a brief technical description of your original system, so that the teaching team can gain an understanding of what it does. This will help us to understand your code and analyze all the submissions to identify patterns and strategies. We also ask that you report the best score your system got during development, just to help us understand how systems performed overall."
   ]
  },
  {
   "cell_type": "code",
   "execution_count": 49,
   "metadata": {},
   "outputs": [],
   "source": [
    "'''\n",
    "Helper functions for the original system. Run this cell before evaluating the orignal system.\n",
    "'''\n",
    "\n",
    "def dir_left_bag_of_words_featurizer(kbt, corpus, feature_counter):\n",
    "    prefix = \"left_\"\n",
    "    subject_object_suffix = \"_SO\"\n",
    "    object_subject_suffix = \"_OS\"\n",
    "\n",
    "    for ex in corpus.get_examples_for_entities(kbt.sbj, kbt.obj):\n",
    "        for word in ex.left.split(' '):\n",
    "            feature_counter[prefix + word + subject_object_suffix] += 1\n",
    "    for ex in corpus.get_examples_for_entities(kbt.obj, kbt.sbj):\n",
    "        for word in ex.left.split(' '):\n",
    "            feature_counter[prefix + word + object_subject_suffix] += 1\n",
    "\n",
    "    return feature_counter\n",
    "\n",
    "def dir_right_bag_of_words_featurizer(kbt, corpus, feature_counter):\n",
    "    prefix = \"right_\"\n",
    "    subject_object_suffix = \"_SO\"\n",
    "    object_subject_suffix = \"_OS\"\n",
    "\n",
    "    for ex in corpus.get_examples_for_entities(kbt.sbj, kbt.obj):\n",
    "        for word in ex.right.split(' '):\n",
    "            feature_counter[prefix + word + subject_object_suffix] += 1\n",
    "    for ex in corpus.get_examples_for_entities(kbt.obj, kbt.sbj):\n",
    "        for word in ex.right.split(' '):\n",
    "            feature_counter[prefix + word + object_subject_suffix] += 1\n",
    "\n",
    "    return feature_counter\n",
    "\n",
    "def middle_length_featurizer(kbt, corpus, feature_counter):\n",
    "    for ex in corpus.get_examples_for_entities(kbt.sbj, kbt.obj):\n",
    "        feature_counter[ex.middle] += len(ex.middle.split(' '))\n",
    "    for ex in corpus.get_examples_for_entities(kbt.obj, kbt.sbj):\n",
    "        feature_counter[ex.middle] += len(ex.middle.split(' '))\n",
    "    \n",
    "    return feature_counter\n",
    "\n",
    "def middle_trigram_pos_tag_featurizer(kbt, corpus, feature_counter):\n",
    "\n",
    "    for ex in corpus.get_examples_for_entities(kbt.sbj, kbt.obj):\n",
    "        tags = get_tags(ex.middle_POS)\n",
    "        trigrams = get_tag_trigrams(tags)\n",
    "        for pos in trigrams:\n",
    "            feature_counter[pos] += 1\n",
    "    for ex in corpus.get_examples_for_entities(kbt.obj, kbt.sbj):\n",
    "        tags = get_tags(ex.middle_POS)\n",
    "        trigrams = get_tag_trigrams(tags)\n",
    "        for pos in trigrams:\n",
    "            feature_counter[pos] += 1\n",
    "\n",
    "    return feature_counter\n",
    "\n",
    "\n",
    "def get_tag_trigrams(s):\n",
    "    # The values of `start_symbol` and `end_symbol` are defined\n",
    "    # here so that you can use `test_middle_bigram_pos_tag_featurizer`.\n",
    "    start_symbol = \"<s>\"\n",
    "    end_symbol = \"</s>\"\n",
    "\n",
    "    trigram_POS = []\n",
    "    if len(s) < 2:\n",
    "        return trigram_POS\n",
    "    \n",
    "    previous = start_symbol\n",
    "    for tag0,tag1 in zip(s[:-1], s[1:]):\n",
    "        trigram_POS.append(previous + ' ' + tag0 + ' ' + tag1)\n",
    "        previous = tag0\n",
    "    trigram_POS.append(s[-2] + ' ' + s[-1] + ' ' + end_symbol)\n",
    "    \n",
    "    return trigram_POS\n",
    "\n",
    "\n",
    "def get_tags(s):\n",
    "    \"\"\"Given a sequence of word/POS elements (lemmas), this function\n",
    "    returns a list containing just the POS elements, in order.\n",
    "    \"\"\"\n",
    "    return [parse_lem(lem)[1] for lem in s.strip().split(' ') if lem]\n",
    "\n",
    "\n",
    "def parse_lem(lem):\n",
    "    \"\"\"Helper method for parsing word/POS elements. It just splits\n",
    "    on the rightmost / and returns (word, POS) as a tuple of str.\"\"\"\n",
    "    return lem.strip().rsplit('/', 1)\n",
    "\n"
   ]
  },
  {
   "cell_type": "code",
   "execution_count": 55,
   "metadata": {
    "tags": []
   },
   "outputs": [
    {
     "output_type": "stream",
     "name": "stdout",
     "text": "relation              precision     recall    f-score    support       size\n------------------    ---------  ---------  ---------  ---------  ---------\nadjoins                   0.883      0.465      0.748        340       5716\nauthor                    0.872      0.764      0.848        509       5885\ncapital                   0.742      0.242      0.525         95       5471\ncontains                  0.852      0.837      0.849       3904       9280\nfilm_performance          0.842      0.708      0.811        766       6142\nfounders                  0.813      0.550      0.742        380       5756\ngenre                     0.838      0.365      0.665        170       5546\nhas_sibling               0.864      0.677      0.819        499       5875\nhas_spouse                0.786      0.687      0.764        594       5970\nis_a                      0.764      0.535      0.704        497       5873\nnationality               0.776      0.645      0.746        301       5677\nparents                   0.880      0.750      0.850        312       5688\nplace_of_birth            0.776      0.476      0.689        233       5609\nplace_of_death            0.726      0.384      0.616        159       5535\nprofession                0.774      0.514      0.703        247       5623\nworked_at                 0.733      0.318      0.582        242       5618\n------------------    ---------  ---------  ---------  ---------  ---------\nmacro-average             0.808      0.557      0.729       9248      95264\n"
    }
   ],
   "source": [
    "# PLEASE MAKE SURE TO INCLUDE THE FOLLOWING BETWEEN THE START AND STOP COMMENTS:\n",
    "#   1) Textual description of your system.\n",
    "#   2) The code for your original system.\n",
    "#   3) The score achieved by your system in place of MY_NUMBER.\n",
    "#        With no other changes to that line.\n",
    "#        You should report your score as a decimal value <=1.0\n",
    "# PLEASE MAKE SURE NOT TO DELETE OR EDIT THE START AND STOP COMMENTS\n",
    "\n",
    "# NOTE: MODULES, CODE AND DATASETS REQUIRED FOR YOUR ORIGINAL SYSTEM \n",
    "# SHOULD BE ADDED BELOW THE 'IS_GRADESCOPE_ENV' CHECK CONDITION. DOING\n",
    "# SO ABOVE THE CHECK MAY CAUSE THE AUTOGRADER TO FAIL.\n",
    "\n",
    "# START COMMENT: Enter your system description in this cell.\n",
    "# My system: lots of hand built features, as suggested in the hint: \n",
    "#       simple_bag_of_words_featurizer, \n",
    "#       directional_bag_of_words_featurizer, \n",
    "#       middle_bigram_pos_tag_featurizer,\n",
    "#       middle_trigram_pos_tag_featurizer,\n",
    "#       middle_length_featurizer,\n",
    "#       dir_left_bag_of_words_featurizer,\n",
    "#       dir_right_bag_of_words_featurizer,\n",
    "#       synset_featurizer\n",
    "# I also tried other ML models such as SVM with different kernels, which did not \n",
    "# help much with the default hyperparameters\n",
    "# My peak score was: 0.729\n",
    "if 'IS_GRADESCOPE_ENV' not in os.environ:\n",
    "    my_featurizers = [simple_bag_of_words_featurizer, \n",
    "                      directional_bag_of_words_featurizer, \n",
    "                      middle_bigram_pos_tag_featurizer,\n",
    "                      middle_trigram_pos_tag_featurizer,\n",
    "                      middle_length_featurizer,\n",
    "                      dir_left_bag_of_words_featurizer,\n",
    "                      dir_right_bag_of_words_featurizer,\n",
    "                      synset_featurizer]\n",
    "\n",
    "    my_results = rel_ext.experiment(\n",
    "                            splits,\n",
    "                            train_split='train',\n",
    "                            test_split='dev',\n",
    "                            featurizers=my_featurizers,\n",
    "                            model_factory=model_factory,\n",
    "                            verbose=True)\n",
    "\n",
    "# STOP COMMENT: Please do not remove this comment."
   ]
  },
  {
   "cell_type": "markdown",
   "metadata": {},
   "source": [
    "## Bake-off [1 point]\n",
    "\n",
    "For the bake-off, we will release a test set. The announcement will go out on the discussion forum. You will evaluate your custom model from the previous question on these new datasets using the function `rel_ext.bake_off_experiment`. Rules:\n",
    "\n",
    "1. Only one evaluation is permitted.\n",
    "1. No additional system tuning is permitted once the bake-off has started.\n",
    "\n",
    "The cells below this one constitute your bake-off entry.\n",
    "\n",
    "People who enter will receive the additional homework point, and people whose systems achieve the top score will receive an additional 0.5 points. We will test the top-performing systems ourselves, and only systems for which we can reproduce the reported results will win the extra 0.5 points.\n",
    "\n",
    "Late entries will be accepted, but they cannot earn the extra 0.5 points. Similarly, you cannot win the bake-off unless your homework is submitted on time.\n",
    "\n",
    "The announcement will include the details on where to submit your entry."
   ]
  },
  {
   "cell_type": "code",
   "execution_count": 31,
   "metadata": {},
   "outputs": [],
   "source": [
    "# Enter your bake-off assessment code in this cell.\n",
    "# Please do not remove this comment.\n",
    "if 'IS_GRADESCOPE_ENV' not in os.environ:\n",
    "    pass\n",
    "    # Please enter your code in the scope of the above conditional.\n",
    "    ##### YOUR CODE HERE\n"
   ]
  },
  {
   "cell_type": "code",
   "execution_count": 32,
   "metadata": {},
   "outputs": [],
   "source": [
    "# On an otherwise blank line in this cell, please enter\n",
    "# your macro-average f-score (an F_0.5 score) as reported\n",
    "# by the code above. Please enter only a number between\n",
    "# 0 and 1 inclusive. Please do not remove this comment.\n",
    "if 'IS_GRADESCOPE_ENV' not in os.environ:\n",
    "    pass\n",
    "    # Please enter your score in the scope of the above conditional.\n",
    "    ##### YOUR CODE HERE\n"
   ]
  }
 ],
 "metadata": {
  "kernelspec": {
   "display_name": "Python 3.7.6 64-bit ('nlu': conda)",
   "language": "python",
   "name": "python37664bitnluconda8e310cdb3a02413c901114f7d676bb7d"
  },
  "language_info": {
   "codemirror_mode": {
    "name": "ipython",
    "version": 3
   },
   "file_extension": ".py",
   "mimetype": "text/x-python",
   "name": "python",
   "nbconvert_exporter": "python",
   "pygments_lexer": "ipython3",
   "version": "3.7.6-final"
  },
  "widgets": {
   "state": {},
   "version": "1.1.2"
  }
 },
 "nbformat": 4,
 "nbformat_minor": 4
}