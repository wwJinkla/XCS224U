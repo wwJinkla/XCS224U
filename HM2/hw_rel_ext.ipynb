{
 "cells": [
  {
   "cell_type": "markdown",
   "metadata": {},
   "source": [
    "# Homework and bake-off: Relation extraction using distant supervision"
   ]
  },
  {
   "cell_type": "code",
   "execution_count": 1,
   "metadata": {},
   "outputs": [],
   "source": [
    "__author__ = \"Bill MacCartney and Christopher Potts\"\n",
    "__version__ = \"CS224u, Stanford, Fall 2020\""
   ]
  },
  {
   "cell_type": "markdown",
   "metadata": {},
   "source": [
    "## Contents\n",
    "\n",
    "1. [Overview](#Overview)\n",
    "1. [Set-up](#Set-up)\n",
    "1. [Baselines](#Baselines)\n",
    "  1. [Hand-build feature functions](#Hand-build-feature-functions)\n",
    "  1. [Distributed representations](#Distributed-representations)\n",
    "1. [Homework questions](#Homework-questions)\n",
    "  1. [Different model factory [1 points]](#Different-model-factory-[1-points])\n",
    "  1. [Directional unigram features [1.5 points]](#Directional-unigram-features-[1.5-points])\n",
    "  1. [The part-of-speech tags of the \"middle\" words [1.5 points]](#The-part-of-speech-tags-of-the-\"middle\"-words-[1.5-points])\n",
    "  1. [Bag of Synsets [2 points]](#Bag-of-Synsets-[2-points])\n",
    "  1. [Your original system [3 points]](#Your-original-system-[3-points])\n",
    "1. [Bake-off [1 point]](#Bake-off-[1-point])"
   ]
  },
  {
   "cell_type": "markdown",
   "metadata": {},
   "source": [
    "## Overview\n",
    "\n",
    "This homework and associated bake-off are devoted to developing really effective relation extraction systems using distant supervision. \n",
    "\n",
    "As with the previous assignments, this notebook first establishes a baseline system. The initial homework questions ask you to create additional baselines and suggest areas for innovation, and the final homework question asks you to develop an original system for you to enter into the bake-off."
   ]
  },
  {
   "cell_type": "markdown",
   "metadata": {},
   "source": [
    "## Set-up\n",
    "\n",
    "See [the first notebook in this unit](rel_ext_01_task.ipynb#Set-up) for set-up instructions."
   ]
  },
  {
   "cell_type": "code",
   "execution_count": 2,
   "metadata": {},
   "outputs": [],
   "source": [
    "import numpy as np\n",
    "import os\n",
    "import rel_ext\n",
    "from sklearn.linear_model import LogisticRegression\n",
    "import utils"
   ]
  },
  {
   "cell_type": "markdown",
   "metadata": {},
   "source": [
    "As usual, we unite our corpus and KB into a dataset, and create some splits for experimentation:"
   ]
  },
  {
   "cell_type": "code",
   "execution_count": 3,
   "metadata": {},
   "outputs": [],
   "source": [
    "rel_ext_data_home = os.path.join('data', 'rel_ext_data')"
   ]
  },
  {
   "cell_type": "code",
   "execution_count": 4,
   "metadata": {},
   "outputs": [],
   "source": [
    "corpus = rel_ext.Corpus(os.path.join(rel_ext_data_home, 'corpus.tsv.gz'))"
   ]
  },
  {
   "cell_type": "code",
   "execution_count": 5,
   "metadata": {},
   "outputs": [],
   "source": [
    "kb = rel_ext.KB(os.path.join(rel_ext_data_home, 'kb.tsv.gz'))"
   ]
  },
  {
   "cell_type": "code",
   "execution_count": 6,
   "metadata": {},
   "outputs": [],
   "source": [
    "dataset = rel_ext.Dataset(corpus, kb)"
   ]
  },
  {
   "cell_type": "markdown",
   "metadata": {},
   "source": [
    "You are not wedded to this set-up for splits. The bake-off will be conducted on a previously unseen test-set, so all of the data in `dataset` is fair game:"
   ]
  },
  {
   "cell_type": "code",
   "execution_count": 7,
   "metadata": {},
   "outputs": [],
   "source": [
    "splits = dataset.build_splits(\n",
    "    split_names=['tiny', 'train', 'dev'],\n",
    "    split_fracs=[0.01, 0.79, 0.20],\n",
    "    seed=1)"
   ]
  },
  {
   "cell_type": "code",
   "execution_count": 8,
   "metadata": {},
   "outputs": [
    {
     "data": {
      "text/plain": [
       "{'tiny': Corpus with 3,474 examples; KB with 445 triples,\n",
       " 'train': Corpus with 263,285 examples; KB with 36,191 triples,\n",
       " 'dev': Corpus with 64,937 examples; KB with 9,248 triples,\n",
       " 'all': Corpus with 331,696 examples; KB with 45,884 triples}"
      ]
     },
     "execution_count": 8,
     "metadata": {},
     "output_type": "execute_result"
    }
   ],
   "source": [
    "splits"
   ]
  },
  {
   "cell_type": "markdown",
   "metadata": {},
   "source": [
    "## Baselines"
   ]
  },
  {
   "cell_type": "markdown",
   "metadata": {},
   "source": [
    "### Hand-build feature functions"
   ]
  },
  {
   "cell_type": "code",
   "execution_count": 9,
   "metadata": {},
   "outputs": [],
   "source": [
    "def simple_bag_of_words_featurizer(kbt, corpus, feature_counter):\n",
    "    for ex in corpus.get_examples_for_entities(kbt.sbj, kbt.obj):\n",
    "        for word in ex.middle.split(' '):\n",
    "            feature_counter[word] += 1\n",
    "    for ex in corpus.get_examples_for_entities(kbt.obj, kbt.sbj):\n",
    "        for word in ex.middle.split(' '):\n",
    "            feature_counter[word] += 1\n",
    "    return feature_counter"
   ]
  },
  {
   "cell_type": "code",
   "execution_count": 10,
   "metadata": {},
   "outputs": [],
   "source": [
    "featurizers = [simple_bag_of_words_featurizer]"
   ]
  },
  {
   "cell_type": "code",
   "execution_count": 63,
   "metadata": {},
   "outputs": [],
   "source": [
    "model_factory = lambda: LogisticRegression(fit_intercept=True, solver='liblinear')"
   ]
  },
  {
   "cell_type": "code",
   "execution_count": 12,
   "metadata": {},
   "outputs": [
    {
     "name": "stdout",
     "output_type": "stream",
     "text": [
      "relation              precision     recall    f-score    support       size\n",
      "------------------    ---------  ---------  ---------  ---------  ---------\n",
      "adjoins                   0.890      0.382      0.703        340       5716\n",
      "author                    0.799      0.556      0.735        509       5885\n",
      "capital                   0.680      0.179      0.436         95       5471\n",
      "contains                  0.792      0.603      0.745       3904       9280\n",
      "film_performance          0.817      0.576      0.754        766       6142\n",
      "founders                  0.851      0.376      0.680        380       5756\n",
      "genre                     0.604      0.188      0.419        170       5546\n",
      "has_sibling               0.858      0.230      0.556        499       5875\n",
      "has_spouse                0.844      0.320      0.636        594       5970\n",
      "is_a                      0.643      0.217      0.462        497       5873\n",
      "nationality               0.615      0.159      0.392        301       5677\n",
      "parents                   0.843      0.535      0.756        312       5688\n",
      "place_of_birth            0.653      0.202      0.451        233       5609\n",
      "place_of_death            0.607      0.107      0.314        159       5535\n",
      "profession                0.615      0.194      0.429        247       5623\n",
      "worked_at                 0.686      0.244      0.503        242       5618\n",
      "------------------    ---------  ---------  ---------  ---------  ---------\n",
      "macro-average             0.737      0.317      0.561       9248      95264\n"
     ]
    }
   ],
   "source": [
    "baseline_results = rel_ext.experiment(\n",
    "    splits,\n",
    "    train_split='train',\n",
    "    test_split='dev',\n",
    "    featurizers=featurizers,\n",
    "    model_factory=model_factory,\n",
    "    verbose=True)"
   ]
  },
  {
   "cell_type": "markdown",
   "metadata": {},
   "source": [
    "Studying model weights might yield insights:"
   ]
  },
  {
   "cell_type": "code",
   "execution_count": 13,
   "metadata": {},
   "outputs": [
    {
     "name": "stdout",
     "output_type": "stream",
     "text": [
      "Highest and lowest feature weights for relation adjoins:\n",
      "\n",
      "     2.511 Córdoba\n",
      "     2.448 Taluks\n",
      "     2.425 Valais\n",
      "     ..... .....\n",
      "    -1.402 6th\n",
      "    -1.455 century\n",
      "    -1.470 who\n",
      "\n",
      "Highest and lowest feature weights for relation author:\n",
      "\n",
      "     3.028 author\n",
      "     2.295 musical\n",
      "     2.269 by\n",
      "     ..... .....\n",
      "    -2.265 or\n",
      "    -3.777 17th\n",
      "    -3.793 1945\n",
      "\n",
      "Highest and lowest feature weights for relation capital:\n",
      "\n",
      "     3.324 capital\n",
      "     1.823 especially\n",
      "     1.736 posted\n",
      "     ..... .....\n",
      "    -1.958 pop\n",
      "    -1.961 million\n",
      "    -2.025 Madras\n",
      "\n",
      "Highest and lowest feature weights for relation contains:\n",
      "\n",
      "     2.508 third-largest\n",
      "     2.180 bordered\n",
      "     1.998 districts\n",
      "     ..... .....\n",
      "    -3.543 6th\n",
      "    -3.849 Ceylon\n",
      "    -6.013 Bronx\n",
      "\n",
      "Highest and lowest feature weights for relation film_performance:\n",
      "\n",
      "     4.067 starring\n",
      "     3.821 alongside\n",
      "     3.727 co-starring\n",
      "     ..... .....\n",
      "    -2.043 spy\n",
      "    -2.209 Tamil\n",
      "    -2.261 Iruvar\n",
      "\n",
      "Highest and lowest feature weights for relation founders:\n",
      "\n",
      "     4.064 founder\n",
      "     3.982 co-founder\n",
      "     3.818 founded\n",
      "     ..... .....\n",
      "    -1.686 top\n",
      "    -1.770 band\n",
      "    -1.913 music\n",
      "\n",
      "Highest and lowest feature weights for relation genre:\n",
      "\n",
      "     3.014 series\n",
      "     2.549 game\n",
      "     2.503 such\n",
      "     ..... .....\n",
      "    -1.350 ;\n",
      "    -1.494 and\n",
      "    -1.968 at\n",
      "\n",
      "Highest and lowest feature weights for relation has_sibling:\n",
      "\n",
      "     4.893 brother\n",
      "     4.287 sister\n",
      "     2.910 Marlon\n",
      "     ..... .....\n",
      "    -1.340 alongside\n",
      "    -1.800 he\n",
      "    -2.019 Her\n",
      "\n",
      "Highest and lowest feature weights for relation has_spouse:\n",
      "\n",
      "     5.232 wife\n",
      "     4.196 widow\n",
      "     3.710 married\n",
      "     ..... .....\n",
      "    -1.365 between\n",
      "    -1.457 on\n",
      "    -1.991 unfaithful\n",
      "\n",
      "Highest and lowest feature weights for relation is_a:\n",
      "\n",
      "     2.867 \n",
      "     2.570 philosopher\n",
      "     2.402 order\n",
      "     ..... .....\n",
      "    -2.732 hibiscus\n",
      "    -2.937 Bombus\n",
      "    -3.660 widespread\n",
      "\n",
      "Highest and lowest feature weights for relation nationality:\n",
      "\n",
      "     2.720 born\n",
      "     1.930 ruler\n",
      "     1.898 Pinky\n",
      "     ..... .....\n",
      "    -1.574 foreign\n",
      "    -1.764 American\n",
      "    -1.783 2010\n",
      "\n",
      "Highest and lowest feature weights for relation parents:\n",
      "\n",
      "     5.109 son\n",
      "     4.636 daughter\n",
      "     4.401 father\n",
      "     ..... .....\n",
      "    -1.814 played\n",
      "    -1.969 Jahangir\n",
      "    -2.444 Kelly\n",
      "\n",
      "Highest and lowest feature weights for relation place_of_birth:\n",
      "\n",
      "     3.874 born\n",
      "     3.114 birthplace\n",
      "     2.732 mayor\n",
      "     ..... .....\n",
      "    -1.418 or\n",
      "    -1.526 and\n",
      "    -2.024 Oldham\n",
      "\n",
      "Highest and lowest feature weights for relation place_of_death:\n",
      "\n",
      "     2.253 died\n",
      "     1.979 assassinated\n",
      "     1.905 son\n",
      "     ..... .....\n",
      "    -1.074 or\n",
      "    -1.288 and\n",
      "    -1.970 Westminster\n",
      "\n",
      "Highest and lowest feature weights for relation profession:\n",
      "\n",
      "     3.428 \n",
      "     2.642 philosopher\n",
      "     2.529 American\n",
      "     ..... .....\n",
      "    -1.314 in\n",
      "    -1.365 President\n",
      "    -2.328 on\n",
      "\n",
      "Highest and lowest feature weights for relation worked_at:\n",
      "\n",
      "     3.238 CEO\n",
      "     3.200 professor\n",
      "     2.915 head\n",
      "     ..... .....\n",
      "    -1.114 coast\n",
      "    -1.143 novel\n",
      "    -1.643 or\n",
      "\n"
     ]
    }
   ],
   "source": [
    "rel_ext.examine_model_weights(baseline_results)"
   ]
  },
  {
   "cell_type": "markdown",
   "metadata": {},
   "source": [
    "### Distributed representations\n",
    "\n",
    "This simple baseline sums the GloVe vector representations for all of the words in the \"middle\" span and feeds those representations into the standard `LogisticRegression`-based `model_factory`. The crucial parameter that enables this is `vectorize=False`. This essentially says to `rel_ext.experiment` that your featurizer or your model will do the work of turning examples into vectors; in that case, `rel_ext.experiment` just organizes these representations by relation type."
   ]
  },
  {
   "cell_type": "code",
   "execution_count": 14,
   "metadata": {},
   "outputs": [],
   "source": [
    "GLOVE_HOME = os.path.join('data', 'glove.6B')"
   ]
  },
  {
   "cell_type": "code",
   "execution_count": 15,
   "metadata": {},
   "outputs": [],
   "source": [
    "glove_lookup = utils.glove2dict(\n",
    "    os.path.join(GLOVE_HOME, 'glove.6B.300d.txt'))"
   ]
  },
  {
   "cell_type": "code",
   "execution_count": 16,
   "metadata": {},
   "outputs": [],
   "source": [
    "def glove_middle_featurizer(kbt, corpus, np_func=np.sum):\n",
    "    reps = []\n",
    "    for ex in corpus.get_examples_for_entities(kbt.sbj, kbt.obj):\n",
    "        for word in ex.middle.split():\n",
    "            rep = glove_lookup.get(word)\n",
    "            if rep is not None:\n",
    "                reps.append(rep)\n",
    "    # A random representation of the right dimensionality if the\n",
    "    # example happens not to overlap with GloVe's vocabulary:\n",
    "    if len(reps) == 0:\n",
    "        dim = len(next(iter(glove_lookup.values())))\n",
    "        return utils.randvec(n=dim)\n",
    "    else:\n",
    "        return np_func(reps, axis=0)"
   ]
  },
  {
   "cell_type": "code",
   "execution_count": 17,
   "metadata": {},
   "outputs": [
    {
     "name": "stdout",
     "output_type": "stream",
     "text": [
      "relation              precision     recall    f-score    support       size\n",
      "------------------    ---------  ---------  ---------  ---------  ---------\n",
      "adjoins                   0.856      0.456      0.728        340       5716\n",
      "author                    0.856      0.432      0.716        509       5885\n",
      "capital                   0.733      0.232      0.512         95       5471\n",
      "contains                  0.656      0.414      0.587       3904       9280\n",
      "film_performance          0.825      0.325      0.631        766       6142\n",
      "founders                  0.814      0.242      0.553        380       5756\n",
      "genre                     0.407      0.065      0.198        170       5546\n",
      "has_sibling               0.811      0.240      0.550        499       5875\n",
      "has_spouse                0.836      0.352      0.656        594       5970\n",
      "is_a                      0.694      0.137      0.382        497       5873\n",
      "nationality               0.663      0.196      0.449        301       5677\n",
      "parents                   0.848      0.410      0.699        312       5688\n",
      "place_of_birth            0.703      0.223      0.491        233       5609\n",
      "place_of_death            0.513      0.126      0.317        159       5535\n",
      "profession                0.610      0.146      0.373        247       5623\n",
      "worked_at                 0.717      0.273      0.541        242       5618\n",
      "------------------    ---------  ---------  ---------  ---------  ---------\n",
      "macro-average             0.721      0.267      0.524       9248      95264\n"
     ]
    }
   ],
   "source": [
    "glove_results = rel_ext.experiment(\n",
    "    splits,\n",
    "    train_split='train',\n",
    "    test_split='dev',\n",
    "    featurizers=[glove_middle_featurizer],\n",
    "    vectorize=False, # Crucial for this featurizer!\n",
    "    verbose=True)"
   ]
  },
  {
   "cell_type": "markdown",
   "metadata": {},
   "source": [
    "With the same basic code design, one can also use the PyTorch models included in the course repo, or write new ones that are better aligned with the task. For those models, it's likely that the featurizer will just return a list of tokens (or perhaps a list of lists of tokens), and the model will map those into vectors using an embedding."
   ]
  },
  {
   "cell_type": "markdown",
   "metadata": {},
   "source": [
    "## Homework questions\n",
    "\n",
    "Please embed your homework responses in this notebook, and do not delete any cells from the notebook. (You are free to add as many cells as you like as part of your responses.)"
   ]
  },
  {
   "cell_type": "markdown",
   "metadata": {},
   "source": [
    "### Different model factory [1 points]\n",
    "\n",
    "The code in `rel_ext` makes it very easy to experiment with other classifier models: one need only redefine the `model_factory` argument. This question asks you to assess a [Support Vector Classifier](https://scikit-learn.org/stable/modules/generated/sklearn.svm.SVC.html).\n",
    "\n",
    "__To submit:__ A wrapper function `run_svm_model_factory` that does the following: \n",
    "\n",
    "1. Uses `rel_ext.experiment` with the model factory set to one based in an `SVC` with `kernel='linear'` and all other arguments left with default values. \n",
    "1. Trains on the 'train' part of `splits`.\n",
    "1. Assesses on the `dev` part of `splits`.\n",
    "1. Uses `featurizers` as defined above. \n",
    "1. Returns the return value of `rel_ext.experiment` for this set-up.\n",
    "\n",
    "The function `test_run_svm_model_factory` will check that your function conforms to these general specifications."
   ]
  },
  {
   "cell_type": "code",
   "execution_count": 60,
   "metadata": {},
   "outputs": [],
   "source": [
    "def run_svm_model_factory():\n",
    "    from sklearn.svm import SVC\n",
    "    svm_results = rel_ext.experiment(\n",
    "                        splits,\n",
    "                        train_split='train',\n",
    "                        test_split='dev',\n",
    "                        featurizers=featurizers,\n",
    "                        model_factory=lambda: SVC(kernel='linear'),\n",
    "                        verbose=True)\n",
    "    return svm_results\n",
    "\n"
   ]
  },
  {
   "cell_type": "code",
   "execution_count": 61,
   "metadata": {},
   "outputs": [],
   "source": [
    "def test_run_svm_model_factory(run_svm_model_factory):\n",
    "    results = run_svm_model_factory()\n",
    "    assert 'featurizers' in results, \\\n",
    "        \"The return value of `run_svm_model_factory` seems not to be correct\"\n",
    "    # Check one of the models to make sure it's an SVC:\n",
    "    assert 'SVC' in results['models']['adjoins'].__class__.__name__, \\\n",
    "        \"It looks like the model factor wasn't set to use an SVC.\""
   ]
  },
  {
   "cell_type": "code",
   "execution_count": 62,
   "metadata": {},
   "outputs": [
    {
     "name": "stdout",
     "output_type": "stream",
     "text": [
      "relation              precision     recall    f-score    support       size\n",
      "------------------    ---------  ---------  ---------  ---------  ---------\n",
      "adjoins                   0.825      0.332      0.636        340       5716\n",
      "author                    0.718      0.611      0.694        509       5885\n",
      "capital                   0.659      0.284      0.521         95       5471\n",
      "contains                  0.785      0.615      0.744       3904       9280\n",
      "film_performance          0.750      0.615      0.718        766       6142\n",
      "founders                  0.743      0.418      0.643        380       5756\n",
      "genre                     0.618      0.247      0.475        170       5546\n",
      "has_sibling               0.734      0.232      0.513        499       5875\n",
      "has_spouse                0.817      0.347      0.643        594       5970\n",
      "is_a                      0.558      0.260      0.454        497       5873\n",
      "nationality               0.505      0.169      0.362        301       5677\n",
      "parents                   0.789      0.587      0.738        312       5688\n",
      "place_of_birth            0.567      0.219      0.430        233       5609\n",
      "place_of_death            0.457      0.132      0.306        159       5535\n",
      "profession                0.544      0.251      0.441        247       5623\n",
      "worked_at                 0.634      0.293      0.514        242       5618\n",
      "------------------    ---------  ---------  ---------  ---------  ---------\n",
      "macro-average             0.669      0.351      0.552       9248      95264\n"
     ]
    }
   ],
   "source": [
    "if 'IS_GRADESCOPE_ENV' not in os.environ:\n",
    "    test_run_svm_model_factory(run_svm_model_factory)"
   ]
  },
  {
   "cell_type": "markdown",
   "metadata": {},
   "source": [
    "### Directional unigram features [1.5 points]\n",
    "\n",
    "The current bag-of-words representation makes no distinction between \"forward\" and \"reverse\" examples. But, intuitively, there is big difference between _X and his son Y_ and _Y and his son X_. This question asks you to modify `simple_bag_of_words_featurizer` to capture these differences. \n",
    "\n",
    "__To submit:__\n",
    "\n",
    "1. A feature function `directional_bag_of_words_featurizer` that is just like `simple_bag_of_words_featurizer` except that it distinguishes \"forward\" and \"reverse\". To do this, you just need to mark each word feature for whether it is derived from a subject–object example or from an object–subject example.  The included function `test_directional_bag_of_words_featurizer` should help verify that you've done this correctly.\n",
    "\n",
    "2. A call to `rel_ext.experiment` with `directional_bag_of_words_featurizer` as the only featurizer. (Aside from this, use all the default values for `rel_ext.experiment` as exemplified above in this notebook.)\n",
    "\n",
    "3. `rel_ext.experiment` returns some of the core objects used in the experiment. How many feature names does the `vectorizer` have for the experiment run in the previous step? Include the code needed for getting this value. (Note: we're partly asking you to figure out how to get this value by using the sklearn documentation, so please don't ask how to do it!)"
   ]
  },
  {
   "cell_type": "code",
   "execution_count": 67,
   "metadata": {},
   "outputs": [
    {
     "name": "stdout",
     "output_type": "stream",
     "text": [
      "relation              precision     recall    f-score    support       size\n",
      "------------------    ---------  ---------  ---------  ---------  ---------\n",
      "adjoins                   0.882      0.418      0.722        340       5716\n",
      "author                    0.832      0.603      0.773        509       5885\n",
      "capital                   0.690      0.211      0.474         95       5471\n",
      "contains                  0.824      0.652      0.782       3904       9280\n",
      "film_performance          0.848      0.655      0.801        766       6142\n",
      "founders                  0.854      0.400      0.696        380       5756\n",
      "genre                     0.696      0.282      0.538        170       5546\n",
      "has_sibling               0.858      0.242      0.569        499       5875\n",
      "has_spouse                0.827      0.345      0.646        594       5970\n",
      "is_a                      0.733      0.243      0.523        497       5873\n",
      "nationality               0.617      0.219      0.453        301       5677\n",
      "parents                   0.849      0.522      0.755        312       5688\n",
      "place_of_birth            0.705      0.236      0.505        233       5609\n",
      "place_of_death            0.583      0.132      0.347        159       5535\n",
      "profession                0.713      0.231      0.503        247       5623\n",
      "worked_at                 0.729      0.256      0.533        242       5618\n",
      "------------------    ---------  ---------  ---------  ---------  ---------\n",
      "macro-average             0.765      0.353      0.601       9248      95264\n",
      "Number of feature names: 40730\n"
     ]
    }
   ],
   "source": [
    "def directional_bag_of_words_featurizer(kbt, corpus, feature_counter):\n",
    "    # Append these to the end of the keys you add/access in\n",
    "    # `feature_counter` to distinguish the two orders. You'll\n",
    "    # need to use exactly these strings in order to pass\n",
    "    # `test_directional_bag_of_words_featurizer`.\n",
    "    subject_object_suffix = \"_SO\"\n",
    "    object_subject_suffix = \"_OS\"\n",
    "\n",
    "    ##### YOUR CODE HERE\n",
    "    for ex in corpus.get_examples_for_entities(kbt.sbj, kbt.obj):\n",
    "        for word in ex.middle.split(' '):\n",
    "            feature_counter[word + subject_object_suffix] += 1\n",
    "    for ex in corpus.get_examples_for_entities(kbt.obj, kbt.sbj):\n",
    "        for word in ex.middle.split(' '):\n",
    "            feature_counter[word + object_subject_suffix] += 1\n",
    "\n",
    "    return feature_counter\n",
    "\n",
    "\n",
    "# Call to `rel_ext.experiment`:\n",
    "##### YOUR CODE HERE\n",
    "\n",
    "directional_bog_results = rel_ext.experiment(\n",
    "    splits,\n",
    "    train_split='train',\n",
    "    test_split='dev',\n",
    "    featurizers=[directional_bag_of_words_featurizer],\n",
    "    model_factory=model_factory,\n",
    "    verbose=True)\n",
    "\n",
    "print(\"Number of feature names: {}\".format(len(directional_bog_results['vectorizer'].get_feature_names())))\n"
   ]
  },
  {
   "cell_type": "code",
   "execution_count": 68,
   "metadata": {},
   "outputs": [],
   "source": [
    "def test_directional_bag_of_words_featurizer(corpus):\n",
    "    from collections import defaultdict\n",
    "    kbt = rel_ext.KBTriple(rel='worked_at', sbj='Randall_Munroe', obj='xkcd')\n",
    "    feature_counter = defaultdict(int)\n",
    "    # Make sure `feature_counter` is being updated, not reinitialized:\n",
    "    feature_counter['is_OS'] += 5\n",
    "    feature_counter = directional_bag_of_words_featurizer(kbt, corpus, feature_counter)\n",
    "    expected = defaultdict(\n",
    "        int, {'is_OS':6,'a_OS':1,'webcomic_OS':1,'created_OS':1,'by_OS':1})\n",
    "    assert feature_counter == expected, \\\n",
    "        \"Expected:\\n{}\\nGot:\\n{}\".format(expected, feature_counter)"
   ]
  },
  {
   "cell_type": "code",
   "execution_count": 69,
   "metadata": {},
   "outputs": [],
   "source": [
    "if 'IS_GRADESCOPE_ENV' not in os.environ:\n",
    "    test_directional_bag_of_words_featurizer(corpus)"
   ]
  },
  {
   "cell_type": "markdown",
   "metadata": {},
   "source": [
    "### The part-of-speech tags of the \"middle\" words [1.5 points]\n",
    "\n",
    "Our corpus distribution contains part-of-speech (POS) tagged versions of the core text spans. Let's begin to explore whether there is information in these sequences, focusing on `middle_POS`.\n",
    "\n",
    "__To submit:__\n",
    "\n",
    "1. A feature function `middle_bigram_pos_tag_featurizer` that is just like `simple_bag_of_words_featurizer` except that it creates a feature for bigram POS sequences. For example, given \n",
    "\n",
    "  `The/DT dog/N napped/V`\n",
    "  \n",
    "   we obtain the list of bigram POS sequences\n",
    "  \n",
    "   `b = ['<s> DT', 'DT N', 'N V', 'V </s>']`. \n",
    "   \n",
    "   Of course, `middle_bigram_pos_tag_featurizer` should return count dictionaries defined in terms of such bigram POS lists, on the model of `simple_bag_of_words_featurizer`.  Don't forget the start and end tags, to model those environments properly! The included function `test_middle_bigram_pos_tag_featurizer` should help verify that you've done this correctly.\n",
    "\n",
    "2. A call to `rel_ext.experiment` with `middle_bigram_pos_tag_featurizer` as the only featurizer. (Aside from this, use all the default values for `rel_ext.experiment` as exemplified above in this notebook.)"
   ]
  },
  {
   "cell_type": "code",
   "execution_count": 70,
   "metadata": {},
   "outputs": [
    {
     "name": "stdout",
     "output_type": "stream",
     "text": [
      "relation              precision     recall    f-score    support       size\n",
      "------------------    ---------  ---------  ---------  ---------  ---------\n",
      "adjoins                   0.841      0.326      0.639        340       5716\n",
      "author                    0.723      0.344      0.592        509       5885\n",
      "capital                   0.600      0.158      0.385         95       5471\n",
      "contains                  0.761      0.592      0.720       3904       9280\n",
      "film_performance          0.687      0.439      0.617        766       6142\n",
      "founders                  0.579      0.163      0.384        380       5756\n",
      "genre                     0.690      0.171      0.429        170       5546\n",
      "has_sibling               0.628      0.162      0.399        499       5875\n",
      "has_spouse                0.712      0.271      0.537        594       5970\n",
      "is_a                      0.587      0.143      0.362        497       5873\n",
      "nationality               0.393      0.073      0.210        301       5677\n",
      "parents                   0.607      0.263      0.481        312       5688\n",
      "place_of_birth            0.617      0.124      0.344        233       5609\n",
      "place_of_death            0.462      0.075      0.228        159       5535\n",
      "profession                0.655      0.146      0.385        247       5623\n",
      "worked_at                 0.500      0.112      0.295        242       5618\n",
      "------------------    ---------  ---------  ---------  ---------  ---------\n",
      "macro-average             0.628      0.223      0.438       9248      95264\n"
     ]
    }
   ],
   "source": [
    "def middle_bigram_pos_tag_featurizer(kbt, corpus, feature_counter):\n",
    "\n",
    "    ##### YOUR CODE HERE\n",
    "    for ex in corpus.get_examples_for_entities(kbt.sbj, kbt.obj):\n",
    "        tags = get_tags(ex.middle_POS)\n",
    "        bigrams = get_tag_bigrams(tags)\n",
    "        for pos in bigrams:\n",
    "            feature_counter[pos] += 1\n",
    "    for ex in corpus.get_examples_for_entities(kbt.obj, kbt.sbj):\n",
    "        tags = get_tags(ex.middle_POS)\n",
    "        bigrams = get_tag_bigrams(tags)\n",
    "        for pos in bigrams:\n",
    "            feature_counter[pos] += 1\n",
    "\n",
    "    return feature_counter\n",
    "\n",
    "\n",
    "def get_tag_bigrams(s):\n",
    "    \"\"\"Suggested helper method for `middle_bigram_pos_tag_featurizer`.\n",
    "    This should be defined so that it returns a list of str, where each\n",
    "    element is a POS bigram.\"\"\"\n",
    "    # The values of `start_symbol` and `end_symbol` are defined\n",
    "    # here so that you can use `test_middle_bigram_pos_tag_featurizer`.\n",
    "    start_symbol = \"<s>\"\n",
    "    end_symbol = \"</s>\"\n",
    "\n",
    "    ##### YOUR CODE HERE\n",
    "    bigram_POS = []\n",
    "    if len(s) == 0:\n",
    "        return bigram_POS\n",
    "    \n",
    "    previous = start_symbol\n",
    "    for tag in s:\n",
    "        bigram_POS.append(previous + ' ' + tag)\n",
    "        previous = tag\n",
    "    bigram_POS.append(s[-1] + ' ' + end_symbol)\n",
    "    \n",
    "    return bigram_POS\n",
    "\n",
    "\n",
    "def get_tags(s):\n",
    "    \"\"\"Given a sequence of word/POS elements (lemmas), this function\n",
    "    returns a list containing just the POS elements, in order.\n",
    "    \"\"\"\n",
    "    return [parse_lem(lem)[1] for lem in s.strip().split(' ') if lem]\n",
    "\n",
    "\n",
    "def parse_lem(lem):\n",
    "    \"\"\"Helper method for parsing word/POS elements. It just splits\n",
    "    on the rightmost / and returns (word, POS) as a tuple of str.\"\"\"\n",
    "    return lem.strip().rsplit('/', 1)\n",
    "\n",
    "# Call to `rel_ext.experiment`:\n",
    "##### YOUR CODE HERE\n",
    "middle_bigram_pos_results = rel_ext.experiment(\n",
    "    splits,\n",
    "    train_split='train',\n",
    "    test_split='dev',\n",
    "    featurizers=[middle_bigram_pos_tag_featurizer],\n",
    "    model_factory=model_factory,\n",
    "    verbose=True)\n"
   ]
  },
  {
   "cell_type": "code",
   "execution_count": 71,
   "metadata": {},
   "outputs": [],
   "source": [
    "def test_middle_bigram_pos_tag_featurizer(corpus):\n",
    "    from collections import defaultdict\n",
    "    kbt = rel_ext.KBTriple(rel='worked_at', sbj='Randall_Munroe', obj='xkcd')\n",
    "    feature_counter = defaultdict(int)\n",
    "    # Make sure `feature_counter` is being updated, not reinitialized:\n",
    "    feature_counter['<s> VBZ'] += 5\n",
    "    feature_counter = middle_bigram_pos_tag_featurizer(kbt, corpus, feature_counter)\n",
    "    expected = defaultdict(\n",
    "        int, {'<s> VBZ':6,'VBZ DT':1,'DT JJ':1,'JJ VBN':1,'VBN IN':1,'IN </s>':1})\n",
    "    assert feature_counter == expected, \\\n",
    "        \"Expected:\\n{}\\nGot:\\n{}\".format(expected, feature_counter)"
   ]
  },
  {
   "cell_type": "code",
   "execution_count": 72,
   "metadata": {},
   "outputs": [],
   "source": [
    "if 'IS_GRADESCOPE_ENV' not in os.environ:\n",
    "    test_middle_bigram_pos_tag_featurizer(corpus)"
   ]
  },
  {
   "cell_type": "markdown",
   "metadata": {},
   "source": [
    "### Bag of Synsets [2 points]\n",
    "\n",
    "The following allows you to use NLTK's WordNet API to get the synsets compatible with _dog_ as used as a noun:\n",
    "\n",
    "```\n",
    "from nltk.corpus import wordnet as wn\n",
    "dog = wn.synsets('dog', pos='n')\n",
    "dog\n",
    "[Synset('dog.n.01'),\n",
    " Synset('frump.n.01'),\n",
    " Synset('dog.n.03'),\n",
    " Synset('cad.n.01'),\n",
    " Synset('frank.n.02'),\n",
    " Synset('pawl.n.01'),\n",
    " Synset('andiron.n.01')]\n",
    "```\n",
    "\n",
    "This question asks you to create synset-based features from the word/tag pairs in `middle_POS`.\n",
    "\n",
    "__To submit:__\n",
    "\n",
    "1. A feature function `synset_featurizer` that is just like `simple_bag_of_words_featurizer` except that it returns a list of synsets derived from `middle_POS`. Stringify these objects with `str` so that they can be `dict` keys. Use `convert_tag` (included below) to convert tags to `pos` arguments usable by `wn.synsets`. The included function `test_synset_featurizer` should help verify that you've done this correctly.\n",
    "\n",
    "2. A call to `rel_ext.experiment` with `synset_featurizer` as the only featurizer. (Aside from this, use all the default values for `rel_ext.experiment`.)"
   ]
  },
  {
   "cell_type": "code",
   "execution_count": 73,
   "metadata": {},
   "outputs": [
    {
     "name": "stderr",
     "output_type": "stream",
     "text": [
      "/Users/weicognite/opt/anaconda3/envs/nlu/lib/python3.7/site-packages/sklearn/svm/_base.py:947: ConvergenceWarning: Liblinear failed to converge, increase the number of iterations.\n",
      "  \"the number of iterations.\", ConvergenceWarning)\n"
     ]
    },
    {
     "name": "stdout",
     "output_type": "stream",
     "text": [
      "relation              precision     recall    f-score    support       size\n",
      "------------------    ---------  ---------  ---------  ---------  ---------\n",
      "adjoins                   0.835      0.326      0.636        340       5716\n",
      "author                    0.750      0.460      0.666        509       5885\n",
      "capital                   0.647      0.232      0.476         95       5471\n",
      "contains                  0.795      0.596      0.745       3904       9280\n",
      "film_performance          0.769      0.548      0.712        766       6142\n",
      "founders                  0.751      0.374      0.625        380       5756\n",
      "genre                     0.536      0.218      0.415        170       5546\n",
      "has_sibling               0.759      0.220      0.510        499       5875\n",
      "has_spouse                0.811      0.303      0.607        594       5970\n",
      "is_a                      0.580      0.225      0.441        497       5873\n",
      "nationality               0.514      0.126      0.318        301       5677\n",
      "parents                   0.810      0.548      0.740        312       5688\n",
      "place_of_birth            0.547      0.202      0.407        233       5609\n",
      "place_of_death            0.413      0.119      0.277        159       5535\n",
      "profession                0.488      0.166      0.352        247       5623\n",
      "worked_at                 0.573      0.211      0.426        242       5618\n",
      "------------------    ---------  ---------  ---------  ---------  ---------\n",
      "macro-average             0.661      0.305      0.522       9248      95264\n"
     ]
    }
   ],
   "source": [
    "from nltk.corpus import wordnet as wn\n",
    "\n",
    "def synset_featurizer(kbt, corpus, feature_counter):\n",
    "\n",
    "    ##### YOUR CODE HERE\n",
    "    for ex in corpus.get_examples_for_entities(kbt.sbj, kbt.obj):\n",
    "        synsets = get_synsets(ex.middle_POS)\n",
    "        for synset in synsets:\n",
    "            feature_counter[synset] += 1\n",
    "    for ex in corpus.get_examples_for_entities(kbt.obj, kbt.sbj):\n",
    "        synsets = get_synsets(ex.middle_POS)\n",
    "        for synset in synsets:\n",
    "            feature_counter[synset] += 1\n",
    "\n",
    "    return feature_counter\n",
    "\n",
    "\n",
    "def get_synsets(s):\n",
    "    \"\"\"Suggested helper method for `synset_featurizer`. This should\n",
    "    be completed so that it returns a list of stringified Synsets\n",
    "    associated with elements of `s`.\n",
    "    \"\"\"\n",
    "    # Use `parse_lem` from the previous question to get a list of\n",
    "    # (word, POS) pairs. Remember to convert the POS strings.\n",
    "    wt = [parse_lem(lem) for lem in s.strip().split(' ') if lem]\n",
    "    \n",
    "    ##### YOUR CODE HERE\n",
    "    synsets = []\n",
    "    for word, pos in wt:\n",
    "        for synset in wn.synsets(word, pos=convert_tag(pos)):\n",
    "            synsets.append(str(synset))\n",
    "    \n",
    "    return synsets\n",
    "\n",
    "\n",
    "def convert_tag(t):\n",
    "    \"\"\"Converts tags so that they can be used by WordNet:\n",
    "\n",
    "    | Tag begins with | WordNet tag |\n",
    "    |-----------------|-------------|\n",
    "    | `N`             | `n`         |\n",
    "    | `V`             | `v`         |\n",
    "    | `J`             | `a`         |\n",
    "    | `R`             | `r`         |\n",
    "    | Otherwise       | `None`      |\n",
    "    \"\"\"\n",
    "    if t[0].lower() in {'n', 'v', 'r'}:\n",
    "        return t[0].lower()\n",
    "    elif t[0].lower() == 'j':\n",
    "        return 'a'\n",
    "    else:\n",
    "        return None\n",
    "\n",
    "\n",
    "# Call to `rel_ext.experiment`:\n",
    "##### YOUR CODE HERE\n",
    "\n",
    "synset_results = rel_ext.experiment(\n",
    "    splits,\n",
    "    train_split='train',\n",
    "    test_split='dev',\n",
    "    featurizers=[synset_featurizer],\n",
    "    model_factory=model_factory,\n",
    "    verbose=True)\n"
   ]
  },
  {
   "cell_type": "code",
   "execution_count": 74,
   "metadata": {},
   "outputs": [],
   "source": [
    "def test_synset_featurizer(corpus):\n",
    "    from collections import defaultdict\n",
    "    kbt = rel_ext.KBTriple(rel='worked_at', sbj='Randall_Munroe', obj='xkcd')\n",
    "    feature_counter = defaultdict(int)\n",
    "    # Make sure `feature_counter` is being updated, not reinitialized:\n",
    "    feature_counter[\"Synset('be.v.01')\"] += 5\n",
    "    feature_counter = synset_featurizer(kbt, corpus, feature_counter)\n",
    "    # The full return values for this tend to be long, so we just\n",
    "    # test a few examples to avoid cluttering up this notebook.\n",
    "    test_cases = {\n",
    "        \"Synset('be.v.01')\": 6,\n",
    "        \"Synset('embody.v.02')\": 1\n",
    "    }\n",
    "    for ss, expected in test_cases.items():\n",
    "        result = feature_counter[ss]\n",
    "        assert result == expected, \\\n",
    "            \"Incorrect count for {}: Expected {}; Got {}\".format(ss, expected, result)"
   ]
  },
  {
   "cell_type": "code",
   "execution_count": 75,
   "metadata": {},
   "outputs": [],
   "source": [
    "if 'IS_GRADESCOPE_ENV' not in os.environ:\n",
    "    test_synset_featurizer(corpus)"
   ]
  },
  {
   "cell_type": "markdown",
   "metadata": {},
   "source": [
    "### Your original system [3 points]\n",
    "\n",
    "There are many options, and this could easily grow into a project. Here are a few ideas:\n",
    "\n",
    "- Try out different classifier models, from `sklearn` and elsewhere.\n",
    "- Add a feature that indicates the length of the middle.\n",
    "- Augment the bag-of-words representation to include bigrams or trigrams (not just unigrams).\n",
    "- Introduce features based on the entity mentions themselves. <!-- \\[SPOILER: it helps a lot, maybe 4% in F-score. And combines nicely with the directional features.\\] -->\n",
    "- Experiment with features based on the context outside (rather than between) the two entity mentions — that is, the words before the first mention, or after the second.\n",
    "- Try adding features which capture syntactic information, such as the dependency-path features used by Mintz et al. 2009. The [NLTK](https://www.nltk.org/) toolkit contains a variety of [parsing algorithms](http://www.nltk.org/api/nltk.parse.html) that may help.\n",
    "- The bag-of-words representation does not permit generalization across word categories such as names of people, places, or companies. Can we do better using word embeddings such as [GloVe](https://nlp.stanford.edu/projects/glove/)?\n",
    "\n",
    "In the cell below, please provide a brief technical description of your original system, so that the teaching team can gain an understanding of what it does. This will help us to understand your code and analyze all the submissions to identify patterns and strategies. We also ask that you report the best score your system got during development, just to help us understand how systems performed overall."
   ]
  },
  {
   "cell_type": "code",
   "execution_count": null,
   "metadata": {},
   "outputs": [],
   "source": [
    "# PLEASE MAKE SURE TO INCLUDE THE FOLLOWING BETWEEN THE START AND STOP COMMENTS:\n",
    "#   1) Textual description of your system.\n",
    "#   2) The code for your original system.\n",
    "#   3) The score achieved by your system in place of MY_NUMBER.\n",
    "#        With no other changes to that line.\n",
    "#        You should report your score as a decimal value <=1.0\n",
    "# PLEASE MAKE SURE NOT TO DELETE OR EDIT THE START AND STOP COMMENTS\n",
    "\n",
    "# IMPORT ANY MODULES BELOW THE 'IS_GRADESCOPE_ENV' CHECK CONDITION. DOING\n",
    "# SO ABOVE THE CHECK MAY CAUSE THE AUTOGRADER TO FAIL.\n",
    "\n",
    "# START COMMENT: Enter your system description in this cell.\n",
    "# My peak score was: MY_NUMBER\n",
    "if 'IS_GRADESCOPE_ENV' not in os.environ:\n",
    "    pass\n",
    "\n",
    "# STOP COMMENT: Please do not remove this comment."
   ]
  },
  {
   "cell_type": "markdown",
   "metadata": {},
   "source": [
    "## Bake-off [1 point]\n",
    "\n",
    "For the bake-off, we will release a test set. The announcement will go out on the discussion forum. You will evaluate your custom model from the previous question on these new datasets using the function `rel_ext.bake_off_experiment`. Rules:\n",
    "\n",
    "1. Only one evaluation is permitted.\n",
    "1. No additional system tuning is permitted once the bake-off has started.\n",
    "\n",
    "The cells below this one constitute your bake-off entry.\n",
    "\n",
    "People who enter will receive the additional homework point, and people whose systems achieve the top score will receive an additional 0.5 points. We will test the top-performing systems ourselves, and only systems for which we can reproduce the reported results will win the extra 0.5 points.\n",
    "\n",
    "Late entries will be accepted, but they cannot earn the extra 0.5 points. Similarly, you cannot win the bake-off unless your homework is submitted on time.\n",
    "\n",
    "The announcement will include the details on where to submit your entry."
   ]
  },
  {
   "cell_type": "code",
   "execution_count": null,
   "metadata": {},
   "outputs": [],
   "source": [
    "# Enter your bake-off assessment code in this cell.\n",
    "# Please do not remove this comment.\n",
    "if 'IS_GRADESCOPE_ENV' not in os.environ:\n",
    "    pass\n",
    "    # Please enter your code in the scope of the above conditional.\n",
    "    ##### YOUR CODE HERE\n"
   ]
  },
  {
   "cell_type": "code",
   "execution_count": null,
   "metadata": {},
   "outputs": [],
   "source": [
    "# On an otherwise blank line in this cell, please enter\n",
    "# your macro-average f-score (an F_0.5 score) as reported\n",
    "# by the code above. Please enter only a number between\n",
    "# 0 and 1 inclusive. Please do not remove this comment.\n",
    "if 'IS_GRADESCOPE_ENV' not in os.environ:\n",
    "    pass\n",
    "    # Please enter your score in the scope of the above conditional.\n",
    "    ##### YOUR CODE HERE\n"
   ]
  }
 ],
 "metadata": {
  "kernelspec": {
   "display_name": "Python 3",
   "language": "python",
   "name": "python3"
  },
  "language_info": {
   "codemirror_mode": {
    "name": "ipython",
    "version": 3
   },
   "file_extension": ".py",
   "mimetype": "text/x-python",
   "name": "python",
   "nbconvert_exporter": "python",
   "pygments_lexer": "ipython3",
   "version": "3.7.6"
  },
  "widgets": {
   "state": {},
   "version": "1.1.2"
  }
 },
 "nbformat": 4,
 "nbformat_minor": 4
}
